{
 "cells": [
  {
   "cell_type": "code",
   "execution_count": 4,
   "metadata": {
    "collapsed": false
   },
   "outputs": [
    {
     "data": {
      "text/html": [
       "<div>\n",
       "<table border=\"1\" class=\"dataframe\">\n",
       "  <thead>\n",
       "    <tr style=\"text-align: right;\">\n",
       "      <th></th>\n",
       "      <th>member_id</th>\n",
       "      <th>loan_amnt</th>\n",
       "      <th>funded_amnt</th>\n",
       "      <th>funded_amnt_inv</th>\n",
       "      <th>term</th>\n",
       "      <th>int_rate</th>\n",
       "      <th>installment</th>\n",
       "      <th>grade</th>\n",
       "      <th>sub_grade</th>\n",
       "      <th>emp_title</th>\n",
       "      <th>...</th>\n",
       "      <th>total_bal_il</th>\n",
       "      <th>il_util</th>\n",
       "      <th>open_rv_12m</th>\n",
       "      <th>open_rv_24m</th>\n",
       "      <th>max_bal_bc</th>\n",
       "      <th>all_util</th>\n",
       "      <th>total_rev_hi_lim</th>\n",
       "      <th>inq_fi</th>\n",
       "      <th>total_cu_tl</th>\n",
       "      <th>inq_last_12m</th>\n",
       "    </tr>\n",
       "    <tr>\n",
       "      <th>id</th>\n",
       "      <th></th>\n",
       "      <th></th>\n",
       "      <th></th>\n",
       "      <th></th>\n",
       "      <th></th>\n",
       "      <th></th>\n",
       "      <th></th>\n",
       "      <th></th>\n",
       "      <th></th>\n",
       "      <th></th>\n",
       "      <th></th>\n",
       "      <th></th>\n",
       "      <th></th>\n",
       "      <th></th>\n",
       "      <th></th>\n",
       "      <th></th>\n",
       "      <th></th>\n",
       "      <th></th>\n",
       "      <th></th>\n",
       "      <th></th>\n",
       "      <th></th>\n",
       "    </tr>\n",
       "  </thead>\n",
       "  <tbody>\n",
       "    <tr>\n",
       "      <th>1077501</th>\n",
       "      <td>1296599</td>\n",
       "      <td>5000.0</td>\n",
       "      <td>5000.0</td>\n",
       "      <td>4975.0</td>\n",
       "      <td>36 months</td>\n",
       "      <td>10.65</td>\n",
       "      <td>162.87</td>\n",
       "      <td>B</td>\n",
       "      <td>B2</td>\n",
       "      <td>NaN</td>\n",
       "      <td>...</td>\n",
       "      <td>NaN</td>\n",
       "      <td>NaN</td>\n",
       "      <td>NaN</td>\n",
       "      <td>NaN</td>\n",
       "      <td>NaN</td>\n",
       "      <td>NaN</td>\n",
       "      <td>NaN</td>\n",
       "      <td>NaN</td>\n",
       "      <td>NaN</td>\n",
       "      <td>NaN</td>\n",
       "    </tr>\n",
       "    <tr>\n",
       "      <th>1077430</th>\n",
       "      <td>1314167</td>\n",
       "      <td>2500.0</td>\n",
       "      <td>2500.0</td>\n",
       "      <td>2500.0</td>\n",
       "      <td>60 months</td>\n",
       "      <td>15.27</td>\n",
       "      <td>59.83</td>\n",
       "      <td>C</td>\n",
       "      <td>C4</td>\n",
       "      <td>Ryder</td>\n",
       "      <td>...</td>\n",
       "      <td>NaN</td>\n",
       "      <td>NaN</td>\n",
       "      <td>NaN</td>\n",
       "      <td>NaN</td>\n",
       "      <td>NaN</td>\n",
       "      <td>NaN</td>\n",
       "      <td>NaN</td>\n",
       "      <td>NaN</td>\n",
       "      <td>NaN</td>\n",
       "      <td>NaN</td>\n",
       "    </tr>\n",
       "    <tr>\n",
       "      <th>1077175</th>\n",
       "      <td>1313524</td>\n",
       "      <td>2400.0</td>\n",
       "      <td>2400.0</td>\n",
       "      <td>2400.0</td>\n",
       "      <td>36 months</td>\n",
       "      <td>15.96</td>\n",
       "      <td>84.33</td>\n",
       "      <td>C</td>\n",
       "      <td>C5</td>\n",
       "      <td>NaN</td>\n",
       "      <td>...</td>\n",
       "      <td>NaN</td>\n",
       "      <td>NaN</td>\n",
       "      <td>NaN</td>\n",
       "      <td>NaN</td>\n",
       "      <td>NaN</td>\n",
       "      <td>NaN</td>\n",
       "      <td>NaN</td>\n",
       "      <td>NaN</td>\n",
       "      <td>NaN</td>\n",
       "      <td>NaN</td>\n",
       "    </tr>\n",
       "    <tr>\n",
       "      <th>1076863</th>\n",
       "      <td>1277178</td>\n",
       "      <td>10000.0</td>\n",
       "      <td>10000.0</td>\n",
       "      <td>10000.0</td>\n",
       "      <td>36 months</td>\n",
       "      <td>13.49</td>\n",
       "      <td>339.31</td>\n",
       "      <td>C</td>\n",
       "      <td>C1</td>\n",
       "      <td>AIR RESOURCES BOARD</td>\n",
       "      <td>...</td>\n",
       "      <td>NaN</td>\n",
       "      <td>NaN</td>\n",
       "      <td>NaN</td>\n",
       "      <td>NaN</td>\n",
       "      <td>NaN</td>\n",
       "      <td>NaN</td>\n",
       "      <td>NaN</td>\n",
       "      <td>NaN</td>\n",
       "      <td>NaN</td>\n",
       "      <td>NaN</td>\n",
       "    </tr>\n",
       "    <tr>\n",
       "      <th>1075358</th>\n",
       "      <td>1311748</td>\n",
       "      <td>3000.0</td>\n",
       "      <td>3000.0</td>\n",
       "      <td>3000.0</td>\n",
       "      <td>60 months</td>\n",
       "      <td>12.69</td>\n",
       "      <td>67.79</td>\n",
       "      <td>B</td>\n",
       "      <td>B5</td>\n",
       "      <td>University Medical Group</td>\n",
       "      <td>...</td>\n",
       "      <td>NaN</td>\n",
       "      <td>NaN</td>\n",
       "      <td>NaN</td>\n",
       "      <td>NaN</td>\n",
       "      <td>NaN</td>\n",
       "      <td>NaN</td>\n",
       "      <td>NaN</td>\n",
       "      <td>NaN</td>\n",
       "      <td>NaN</td>\n",
       "      <td>NaN</td>\n",
       "    </tr>\n",
       "  </tbody>\n",
       "</table>\n",
       "<p>5 rows × 73 columns</p>\n",
       "</div>"
      ],
      "text/plain": [
       "         member_id  loan_amnt  funded_amnt  funded_amnt_inv        term  \\\n",
       "id                                                                        \n",
       "1077501    1296599     5000.0       5000.0           4975.0   36 months   \n",
       "1077430    1314167     2500.0       2500.0           2500.0   60 months   \n",
       "1077175    1313524     2400.0       2400.0           2400.0   36 months   \n",
       "1076863    1277178    10000.0      10000.0          10000.0   36 months   \n",
       "1075358    1311748     3000.0       3000.0           3000.0   60 months   \n",
       "\n",
       "         int_rate  installment grade sub_grade                 emp_title  \\\n",
       "id                                                                         \n",
       "1077501     10.65       162.87     B        B2                       NaN   \n",
       "1077430     15.27        59.83     C        C4                     Ryder   \n",
       "1077175     15.96        84.33     C        C5                       NaN   \n",
       "1076863     13.49       339.31     C        C1       AIR RESOURCES BOARD   \n",
       "1075358     12.69        67.79     B        B5  University Medical Group   \n",
       "\n",
       "            ...      total_bal_il il_util  open_rv_12m open_rv_24m max_bal_bc  \\\n",
       "id          ...                                                                 \n",
       "1077501     ...               NaN     NaN          NaN         NaN        NaN   \n",
       "1077430     ...               NaN     NaN          NaN         NaN        NaN   \n",
       "1077175     ...               NaN     NaN          NaN         NaN        NaN   \n",
       "1076863     ...               NaN     NaN          NaN         NaN        NaN   \n",
       "1075358     ...               NaN     NaN          NaN         NaN        NaN   \n",
       "\n",
       "        all_util total_rev_hi_lim inq_fi total_cu_tl inq_last_12m  \n",
       "id                                                                 \n",
       "1077501      NaN              NaN    NaN         NaN          NaN  \n",
       "1077430      NaN              NaN    NaN         NaN          NaN  \n",
       "1077175      NaN              NaN    NaN         NaN          NaN  \n",
       "1076863      NaN              NaN    NaN         NaN          NaN  \n",
       "1075358      NaN              NaN    NaN         NaN          NaN  \n",
       "\n",
       "[5 rows x 73 columns]"
      ]
     },
     "execution_count": 4,
     "metadata": {},
     "output_type": "execute_result"
    }
   ],
   "source": [
    "import os\n",
    "import numpy as np\n",
    "import pandas as pd\n",
    "\n",
    "userhome = os.path.expanduser('~')\n",
    "df = pd.read_csv(os.path.join(userhome,'Desktop','DS-SF-23','lending-club-loan-data','loan.csv'), index_col = 'id')\n",
    "df.head()"
   ]
  },
  {
   "cell_type": "code",
   "execution_count": 3,
   "metadata": {
    "collapsed": false
   },
   "outputs": [
    {
     "data": {
      "text/plain": [
       "Index([u'id', u'member_id', u'loan_amnt', u'funded_amnt', u'funded_amnt_inv',\n",
       "       u'term', u'int_rate', u'installment', u'grade', u'sub_grade',\n",
       "       u'emp_title', u'emp_length', u'home_ownership', u'annual_inc',\n",
       "       u'verification_status', u'issue_d', u'loan_status', u'pymnt_plan',\n",
       "       u'url', u'desc', u'purpose', u'title', u'zip_code', u'addr_state',\n",
       "       u'dti', u'delinq_2yrs', u'earliest_cr_line', u'inq_last_6mths',\n",
       "       u'mths_since_last_delinq', u'mths_since_last_record', u'open_acc',\n",
       "       u'pub_rec', u'revol_bal', u'revol_util', u'total_acc',\n",
       "       u'initial_list_status', u'out_prncp', u'out_prncp_inv', u'total_pymnt',\n",
       "       u'total_pymnt_inv', u'total_rec_prncp', u'total_rec_int',\n",
       "       u'total_rec_late_fee', u'recoveries', u'collection_recovery_fee',\n",
       "       u'last_pymnt_d', u'last_pymnt_amnt', u'next_pymnt_d',\n",
       "       u'last_credit_pull_d', u'collections_12_mths_ex_med',\n",
       "       u'mths_since_last_major_derog', u'policy_code', u'application_type',\n",
       "       u'annual_inc_joint', u'dti_joint', u'verification_status_joint',\n",
       "       u'acc_now_delinq', u'tot_coll_amt', u'tot_cur_bal', u'open_acc_6m',\n",
       "       u'open_il_6m', u'open_il_12m', u'open_il_24m', u'mths_since_rcnt_il',\n",
       "       u'total_bal_il', u'il_util', u'open_rv_12m', u'open_rv_24m',\n",
       "       u'max_bal_bc', u'all_util', u'total_rev_hi_lim', u'inq_fi',\n",
       "       u'total_cu_tl', u'inq_last_12m'],\n",
       "      dtype='object')"
      ]
     },
     "execution_count": 3,
     "metadata": {},
     "output_type": "execute_result"
    }
   ],
   "source": [
    "df.columns"
   ]
  },
  {
   "cell_type": "code",
   "execution_count": 20,
   "metadata": {
    "collapsed": false
   },
   "outputs": [
    {
     "data": {
      "text/plain": [
       "array(['A', 'A1', 'A2', 'A3', 'A4', 'A5', 'B', 'B1', 'B2', 'B3', 'B4',\n",
       "       'B5', 'C', 'C1', 'C2', 'C3', 'C4', 'C5', 'D', 'D1', 'D2', 'D3',\n",
       "       'D4', 'D5', 'E', 'E1', 'E2', 'E3', 'E4', 'E5', 'F', 'F1', 'F2',\n",
       "       'F3', 'F4', 'F5', 'G', 'G1', 'G2', 'G3', 'G4', 'G5'], dtype=object)"
      ]
     },
     "execution_count": 20,
     "metadata": {},
     "output_type": "execute_result"
    }
   ],
   "source": [
    "np.unique(df[['grade','sub_grade']])"
   ]
  },
  {
   "cell_type": "code",
   "execution_count": 16,
   "metadata": {
    "collapsed": false
   },
   "outputs": [
    {
     "data": {
      "text/plain": [
       "array(['B2', 'C4', 'C5', 'C1', 'B5', 'A4', 'E1', 'F2', 'C3', 'B1', 'D1',\n",
       "       'A1', 'B3', 'B4', 'C2', 'D2', 'A3', 'A5', 'D5', 'A2', 'E4', 'D3',\n",
       "       'D4', 'F3', 'E3', 'F4', 'F1', 'E5', 'G4', 'E2', 'G3', 'G2', 'G1',\n",
       "       'F5', 'G5'], dtype=object)"
      ]
     },
     "execution_count": 16,
     "metadata": {},
     "output_type": "execute_result"
    }
   ],
   "source": [
    "df['sub_grade'].unique()"
   ]
  },
  {
   "cell_type": "code",
   "execution_count": 17,
   "metadata": {
    "collapsed": false
   },
   "outputs": [
    {
     "data": {
      "text/plain": [
       "array([' 36 months', ' 60 months'], dtype=object)"
      ]
     },
     "execution_count": 17,
     "metadata": {},
     "output_type": "execute_result"
    }
   ],
   "source": [
    "df['term'].unique()"
   ]
  }
 ],
 "metadata": {
  "kernelspec": {
   "display_name": "Python 2",
   "language": "python",
   "name": "python2"
  },
  "language_info": {
   "codemirror_mode": {
    "name": "ipython",
    "version": 2
   },
   "file_extension": ".py",
   "mimetype": "text/x-python",
   "name": "python",
   "nbconvert_exporter": "python",
   "pygments_lexer": "ipython2",
   "version": "2.7.11"
  }
 },
 "nbformat": 4,
 "nbformat_minor": 0
}
