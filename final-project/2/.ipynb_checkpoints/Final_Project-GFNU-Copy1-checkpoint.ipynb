{
 "cells": [
  {
   "cell_type": "code",
   "execution_count": 2,
   "metadata": {
    "collapsed": false
   },
   "outputs": [],
   "source": [
    "import os\n",
    "import numpy as np\n",
    "import pandas as pd\n",
    "import matplotlib.pyplot as plt\n",
    "import matplotlib as mpl\n",
    "from sklearn import tree, ensemble, metrics, cross_validation, externals\n",
    "%matplotlib inline\n",
    "\n",
    "\n",
    "pd.set_option('display.max_rows', 10)\n",
    "pd.set_option('display.notebook_repr_html', True)\n",
    "pd.set_option('display.max_columns', 10)\n",
    "\n",
    "plt.style.use('ggplot')"
   ]
  },
  {
   "cell_type": "code",
   "execution_count": 3,
   "metadata": {
    "collapsed": false
   },
   "outputs": [],
   "source": [
    "userhome = os.path.expanduser('~')\n",
    "df = pd.read_csv(os.path.join(userhome,'Desktop','DS-SF-23','lending-club-loan-data','loan.csv'), index_col = 'id', low_memory=False)\n",
    "%load_ext gvmagic\n"
   ]
  },
  {
   "cell_type": "code",
   "execution_count": 4,
   "metadata": {
    "collapsed": true
   },
   "outputs": [],
   "source": [
    "df1 = df"
   ]
  },
  {
   "cell_type": "code",
   "execution_count": 110,
   "metadata": {
    "collapsed": false,
    "scrolled": true
   },
   "outputs": [
    {
     "data": {
      "text/plain": [
       "member_id           887379\n",
       "loan_amnt           887379\n",
       "funded_amnt         887379\n",
       "funded_amnt_inv     887379\n",
       "term                887379\n",
       "                     ...  \n",
       "is_FullyOwned       887379\n",
       "is_JointVerified    887379\n",
       "is_Individual       887379\n",
       "is_PaymentPlan      887379\n",
       "is_Whole            887379\n",
       "dtype: int64"
      ]
     },
     "execution_count": 110,
     "metadata": {},
     "output_type": "execute_result"
    }
   ],
   "source": [
    "df1.count()"
   ]
  },
  {
   "cell_type": "code",
   "execution_count": null,
   "metadata": {
    "collapsed": true
   },
   "outputs": [],
   "source": []
  },
  {
   "cell_type": "code",
   "execution_count": 219,
   "metadata": {
    "collapsed": false,
    "scrolled": true
   },
   "outputs": [],
   "source": [
    "# df[['annual_inc','loan_amnt']].plot(kind='box') this will be used to see the box plot for these two"
   ]
  },
  {
   "cell_type": "code",
   "execution_count": 220,
   "metadata": {
    "collapsed": false
   },
   "outputs": [],
   "source": [
    "# mpl.rcParams['agg.path.chunksize'] = 10000"
   ]
  },
  {
   "cell_type": "code",
   "execution_count": 6,
   "metadata": {
    "collapsed": false
   },
   "outputs": [
    {
     "data": {
      "text/html": [
       "<div>\n",
       "<table border=\"1\" class=\"dataframe\">\n",
       "  <thead>\n",
       "    <tr style=\"text-align: right;\">\n",
       "      <th></th>\n",
       "      <th>member_id</th>\n",
       "      <th>loan_amnt</th>\n",
       "      <th>funded_amnt</th>\n",
       "      <th>funded_amnt_inv</th>\n",
       "      <th>int_rate</th>\n",
       "      <th>...</th>\n",
       "      <th>all_util</th>\n",
       "      <th>total_rev_hi_lim</th>\n",
       "      <th>inq_fi</th>\n",
       "      <th>total_cu_tl</th>\n",
       "      <th>inq_last_12m</th>\n",
       "    </tr>\n",
       "  </thead>\n",
       "  <tbody>\n",
       "    <tr>\n",
       "      <th>count</th>\n",
       "      <td>8.873790e+05</td>\n",
       "      <td>887379.000000</td>\n",
       "      <td>887379.000000</td>\n",
       "      <td>887379.000000</td>\n",
       "      <td>887379.000000</td>\n",
       "      <td>...</td>\n",
       "      <td>21372.000000</td>\n",
       "      <td>8.171030e+05</td>\n",
       "      <td>21372.000000</td>\n",
       "      <td>21372.000000</td>\n",
       "      <td>21372.000000</td>\n",
       "    </tr>\n",
       "    <tr>\n",
       "      <th>mean</th>\n",
       "      <td>3.500182e+07</td>\n",
       "      <td>14755.264605</td>\n",
       "      <td>14741.877625</td>\n",
       "      <td>14702.464383</td>\n",
       "      <td>13.246740</td>\n",
       "      <td>...</td>\n",
       "      <td>60.831939</td>\n",
       "      <td>3.206862e+04</td>\n",
       "      <td>0.943945</td>\n",
       "      <td>1.537058</td>\n",
       "      <td>1.977307</td>\n",
       "    </tr>\n",
       "    <tr>\n",
       "      <th>std</th>\n",
       "      <td>2.411335e+07</td>\n",
       "      <td>8435.455601</td>\n",
       "      <td>8429.897657</td>\n",
       "      <td>8442.106732</td>\n",
       "      <td>4.381867</td>\n",
       "      <td>...</td>\n",
       "      <td>20.013254</td>\n",
       "      <td>3.749826e+04</td>\n",
       "      <td>1.446872</td>\n",
       "      <td>2.723339</td>\n",
       "      <td>2.874067</td>\n",
       "    </tr>\n",
       "    <tr>\n",
       "      <th>min</th>\n",
       "      <td>7.047300e+04</td>\n",
       "      <td>500.000000</td>\n",
       "      <td>500.000000</td>\n",
       "      <td>0.000000</td>\n",
       "      <td>5.320000</td>\n",
       "      <td>...</td>\n",
       "      <td>0.000000</td>\n",
       "      <td>0.000000e+00</td>\n",
       "      <td>0.000000</td>\n",
       "      <td>0.000000</td>\n",
       "      <td>-4.000000</td>\n",
       "    </tr>\n",
       "    <tr>\n",
       "      <th>25%</th>\n",
       "      <td>1.087713e+07</td>\n",
       "      <td>8000.000000</td>\n",
       "      <td>8000.000000</td>\n",
       "      <td>8000.000000</td>\n",
       "      <td>9.990000</td>\n",
       "      <td>...</td>\n",
       "      <td>47.700000</td>\n",
       "      <td>1.390000e+04</td>\n",
       "      <td>0.000000</td>\n",
       "      <td>0.000000</td>\n",
       "      <td>0.000000</td>\n",
       "    </tr>\n",
       "    <tr>\n",
       "      <th>50%</th>\n",
       "      <td>3.709528e+07</td>\n",
       "      <td>13000.000000</td>\n",
       "      <td>13000.000000</td>\n",
       "      <td>13000.000000</td>\n",
       "      <td>12.990000</td>\n",
       "      <td>...</td>\n",
       "      <td>61.900000</td>\n",
       "      <td>2.370000e+04</td>\n",
       "      <td>0.000000</td>\n",
       "      <td>0.000000</td>\n",
       "      <td>2.000000</td>\n",
       "    </tr>\n",
       "    <tr>\n",
       "      <th>75%</th>\n",
       "      <td>5.847135e+07</td>\n",
       "      <td>20000.000000</td>\n",
       "      <td>20000.000000</td>\n",
       "      <td>20000.000000</td>\n",
       "      <td>16.200000</td>\n",
       "      <td>...</td>\n",
       "      <td>75.200000</td>\n",
       "      <td>3.980000e+04</td>\n",
       "      <td>1.000000</td>\n",
       "      <td>2.000000</td>\n",
       "      <td>3.000000</td>\n",
       "    </tr>\n",
       "    <tr>\n",
       "      <th>max</th>\n",
       "      <td>7.354484e+07</td>\n",
       "      <td>35000.000000</td>\n",
       "      <td>35000.000000</td>\n",
       "      <td>35000.000000</td>\n",
       "      <td>28.990000</td>\n",
       "      <td>...</td>\n",
       "      <td>151.400000</td>\n",
       "      <td>9.999999e+06</td>\n",
       "      <td>17.000000</td>\n",
       "      <td>35.000000</td>\n",
       "      <td>32.000000</td>\n",
       "    </tr>\n",
       "  </tbody>\n",
       "</table>\n",
       "<p>8 rows × 50 columns</p>\n",
       "</div>"
      ],
      "text/plain": [
       "          member_id      loan_amnt    funded_amnt  funded_amnt_inv  \\\n",
       "count  8.873790e+05  887379.000000  887379.000000    887379.000000   \n",
       "mean   3.500182e+07   14755.264605   14741.877625     14702.464383   \n",
       "std    2.411335e+07    8435.455601    8429.897657      8442.106732   \n",
       "min    7.047300e+04     500.000000     500.000000         0.000000   \n",
       "25%    1.087713e+07    8000.000000    8000.000000      8000.000000   \n",
       "50%    3.709528e+07   13000.000000   13000.000000     13000.000000   \n",
       "75%    5.847135e+07   20000.000000   20000.000000     20000.000000   \n",
       "max    7.354484e+07   35000.000000   35000.000000     35000.000000   \n",
       "\n",
       "            int_rate      ...           all_util  total_rev_hi_lim  \\\n",
       "count  887379.000000      ...       21372.000000      8.171030e+05   \n",
       "mean       13.246740      ...          60.831939      3.206862e+04   \n",
       "std         4.381867      ...          20.013254      3.749826e+04   \n",
       "min         5.320000      ...           0.000000      0.000000e+00   \n",
       "25%         9.990000      ...          47.700000      1.390000e+04   \n",
       "50%        12.990000      ...          61.900000      2.370000e+04   \n",
       "75%        16.200000      ...          75.200000      3.980000e+04   \n",
       "max        28.990000      ...         151.400000      9.999999e+06   \n",
       "\n",
       "             inq_fi   total_cu_tl  inq_last_12m  \n",
       "count  21372.000000  21372.000000  21372.000000  \n",
       "mean       0.943945      1.537058      1.977307  \n",
       "std        1.446872      2.723339      2.874067  \n",
       "min        0.000000      0.000000     -4.000000  \n",
       "25%        0.000000      0.000000      0.000000  \n",
       "50%        0.000000      0.000000      2.000000  \n",
       "75%        1.000000      2.000000      3.000000  \n",
       "max       17.000000     35.000000     32.000000  \n",
       "\n",
       "[8 rows x 50 columns]"
      ]
     },
     "execution_count": 6,
     "metadata": {},
     "output_type": "execute_result"
    }
   ],
   "source": [
    "df.describe()"
   ]
  },
  {
   "cell_type": "code",
   "execution_count": 7,
   "metadata": {
    "collapsed": false,
    "scrolled": true
   },
   "outputs": [
    {
     "data": {
      "text/plain": [
       "73"
      ]
     },
     "execution_count": 7,
     "metadata": {},
     "output_type": "execute_result"
    }
   ],
   "source": [
    "len(df.columns)"
   ]
  },
  {
   "cell_type": "code",
   "execution_count": 8,
   "metadata": {
    "collapsed": false
   },
   "outputs": [],
   "source": [
    "df.drop(['emp_title', 'url','title','policy_code','desc'], axis = 1, inplace = True)"
   ]
  },
  {
   "cell_type": "code",
   "execution_count": 10,
   "metadata": {
    "collapsed": false,
    "scrolled": true
   },
   "outputs": [
    {
     "data": {
      "text/plain": [
       "68"
      ]
     },
     "execution_count": 10,
     "metadata": {},
     "output_type": "execute_result"
    }
   ],
   "source": [
    "len(df.columns)"
   ]
  },
  {
   "cell_type": "code",
   "execution_count": 9,
   "metadata": {
    "collapsed": false
   },
   "outputs": [],
   "source": [
    "#df.columns"
   ]
  },
  {
   "cell_type": "code",
   "execution_count": 11,
   "metadata": {
    "collapsed": false
   },
   "outputs": [
    {
     "data": {
      "text/plain": [
       "Current                                                601779\n",
       "Fully Paid                                             207723\n",
       "Charged Off                                             45248\n",
       "Late (31-120 days)                                      11591\n",
       "Issued                                                   8460\n",
       "In Grace Period                                          6253\n",
       "Late (16-30 days)                                        2357\n",
       "Does not meet the credit policy. Status:Fully Paid       1988\n",
       "Default                                                  1219\n",
       "Does not meet the credit policy. Status:Charged Off       761\n",
       "Name: loan_status, dtype: int64"
      ]
     },
     "execution_count": 11,
     "metadata": {},
     "output_type": "execute_result"
    }
   ],
   "source": [
    "df.loan_status.value_counts()"
   ]
  },
  {
   "cell_type": "code",
   "execution_count": 12,
   "metadata": {
    "collapsed": false
   },
   "outputs": [],
   "source": [
    "df['FullyPaid'] = (df.loan_status == 'Fully Paid') * 1.0"
   ]
  },
  {
   "cell_type": "code",
   "execution_count": 13,
   "metadata": {
    "collapsed": false,
    "scrolled": true
   },
   "outputs": [
    {
     "data": {
      "text/plain": [
       "0.0    679656\n",
       "1.0    207723\n",
       "Name: FullyPaid, dtype: int64"
      ]
     },
     "execution_count": 13,
     "metadata": {},
     "output_type": "execute_result"
    }
   ],
   "source": [
    "df['FullyPaid'].value_counts()"
   ]
  },
  {
   "cell_type": "code",
   "execution_count": 14,
   "metadata": {
    "collapsed": true
   },
   "outputs": [],
   "source": [
    "df.drop(['loan_status'], axis = 1, inplace = True)"
   ]
  },
  {
   "cell_type": "code",
   "execution_count": 15,
   "metadata": {
    "collapsed": false
   },
   "outputs": [
    {
     "data": {
      "text/plain": [
       "68"
      ]
     },
     "execution_count": 15,
     "metadata": {},
     "output_type": "execute_result"
    }
   ],
   "source": [
    "len(df.columns)"
   ]
  },
  {
   "cell_type": "code",
   "execution_count": 16,
   "metadata": {
    "collapsed": false
   },
   "outputs": [
    {
     "data": {
      "text/plain": [
       "Source Verified    329558\n",
       "Verified           291071\n",
       "Not Verified       266750\n",
       "Name: verification_status, dtype: int64"
      ]
     },
     "execution_count": 16,
     "metadata": {},
     "output_type": "execute_result"
    }
   ],
   "source": [
    "df.verification_status.value_counts()"
   ]
  },
  {
   "cell_type": "code",
   "execution_count": 17,
   "metadata": {
    "collapsed": false
   },
   "outputs": [],
   "source": [
    "df['is_Verified'] = ((df.verification_status == 'Verified') | (df.verification_status == 'Source Verified')) * 1.0"
   ]
  },
  {
   "cell_type": "code",
   "execution_count": 18,
   "metadata": {
    "collapsed": false
   },
   "outputs": [
    {
     "data": {
      "text/plain": [
       "1.0    620629\n",
       "0.0    266750\n",
       "Name: is_Verified, dtype: int64"
      ]
     },
     "execution_count": 18,
     "metadata": {},
     "output_type": "execute_result"
    }
   ],
   "source": [
    "df['is_Verified'].value_counts()"
   ]
  },
  {
   "cell_type": "code",
   "execution_count": 19,
   "metadata": {
    "collapsed": false
   },
   "outputs": [
    {
     "data": {
      "text/plain": [
       "69"
      ]
     },
     "execution_count": 19,
     "metadata": {},
     "output_type": "execute_result"
    }
   ],
   "source": [
    "len(df.columns)"
   ]
  },
  {
   "cell_type": "code",
   "execution_count": 20,
   "metadata": {
    "collapsed": true
   },
   "outputs": [],
   "source": [
    "df.drop(['verification_status'], axis = 1, inplace = True)"
   ]
  },
  {
   "cell_type": "code",
   "execution_count": 21,
   "metadata": {
    "collapsed": false
   },
   "outputs": [
    {
     "data": {
      "text/plain": [
       "68"
      ]
     },
     "execution_count": 21,
     "metadata": {},
     "output_type": "execute_result"
    }
   ],
   "source": [
    "len(df.columns)"
   ]
  },
  {
   "cell_type": "code",
   "execution_count": 22,
   "metadata": {
    "collapsed": false,
    "scrolled": true
   },
   "outputs": [],
   "source": [
    "# df.head(2)"
   ]
  },
  {
   "cell_type": "code",
   "execution_count": 23,
   "metadata": {
    "collapsed": false
   },
   "outputs": [
    {
     "data": {
      "text/plain": [
       "array([' 36 months', ' 60 months'], dtype=object)"
      ]
     },
     "execution_count": 23,
     "metadata": {},
     "output_type": "execute_result"
    }
   ],
   "source": [
    "df.term.unique()"
   ]
  },
  {
   "cell_type": "code",
   "execution_count": 24,
   "metadata": {
    "collapsed": false
   },
   "outputs": [],
   "source": [
    "df['term'] = df.term.str.replace('months', '')"
   ]
  },
  {
   "cell_type": "code",
   "execution_count": 25,
   "metadata": {
    "collapsed": false
   },
   "outputs": [
    {
     "data": {
      "text/plain": [
       "array([' 36 ', ' 60 '], dtype=object)"
      ]
     },
     "execution_count": 25,
     "metadata": {},
     "output_type": "execute_result"
    }
   ],
   "source": [
    "df.term.unique()"
   ]
  },
  {
   "cell_type": "code",
   "execution_count": 26,
   "metadata": {
    "collapsed": true
   },
   "outputs": [],
   "source": [
    "df.term = pd.to_numeric(df.term)"
   ]
  },
  {
   "cell_type": "code",
   "execution_count": 245,
   "metadata": {
    "collapsed": false
   },
   "outputs": [],
   "source": [
    "#df.head(2)"
   ]
  },
  {
   "cell_type": "code",
   "execution_count": 27,
   "metadata": {
    "collapsed": false
   },
   "outputs": [
    {
     "data": {
      "text/plain": [
       "array(['B', 'C', 'A', 'E', 'F', 'D', 'G'], dtype=object)"
      ]
     },
     "execution_count": 27,
     "metadata": {},
     "output_type": "execute_result"
    }
   ],
   "source": [
    "df.grade.unique()"
   ]
  },
  {
   "cell_type": "code",
   "execution_count": 28,
   "metadata": {
    "collapsed": true
   },
   "outputs": [],
   "source": [
    "df['grade'] = df.grade.str.replace('A', '1')\n",
    "df['grade'] = df.grade.str.replace('B', '2')\n",
    "df['grade'] = df.grade.str.replace('C', '3')\n",
    "df['grade'] = df.grade.str.replace('D', '4')\n",
    "df['grade'] = df.grade.str.replace('E', '5')\n",
    "df['grade'] = df.grade.str.replace('F', '6')\n",
    "df['grade'] = df.grade.str.replace('G', '7')"
   ]
  },
  {
   "cell_type": "code",
   "execution_count": 250,
   "metadata": {
    "collapsed": false,
    "scrolled": true
   },
   "outputs": [],
   "source": [
    "#df.head(2)"
   ]
  },
  {
   "cell_type": "code",
   "execution_count": 29,
   "metadata": {
    "collapsed": false
   },
   "outputs": [],
   "source": [
    "df.grade = pd.to_numeric(df.grade)"
   ]
  },
  {
   "cell_type": "code",
   "execution_count": 30,
   "metadata": {
    "collapsed": false
   },
   "outputs": [
    {
     "data": {
      "text/plain": [
       "array(['10+ years', '< 1 year', '1 year', '3 years', '8 years', '9 years',\n",
       "       '4 years', '5 years', '6 years', '2 years', '7 years', 'n/a'], dtype=object)"
      ]
     },
     "execution_count": 30,
     "metadata": {},
     "output_type": "execute_result"
    }
   ],
   "source": [
    "df.emp_length.unique()"
   ]
  },
  {
   "cell_type": "code",
   "execution_count": 31,
   "metadata": {
    "collapsed": false
   },
   "outputs": [
    {
     "data": {
      "text/plain": [
       "10+ years    291569\n",
       "2 years       78870\n",
       "< 1 year      70605\n",
       "3 years       70026\n",
       "1 year        57095\n",
       "              ...  \n",
       "n/a           44825\n",
       "7 years       44594\n",
       "8 years       43955\n",
       "6 years       42950\n",
       "9 years       34657\n",
       "Name: emp_length, dtype: int64"
      ]
     },
     "execution_count": 31,
     "metadata": {},
     "output_type": "execute_result"
    }
   ],
   "source": [
    "df.emp_length.value_counts()"
   ]
  },
  {
   "cell_type": "code",
   "execution_count": 32,
   "metadata": {
    "collapsed": true
   },
   "outputs": [],
   "source": [
    "df['emp_length'] = df.emp_length.str.replace('year', '')\n",
    "df['emp_length'] = df.emp_length.str.replace('s', '')\n",
    "df['emp_length'] = df.emp_length.str.replace('n/a', '0')\n",
    "df['emp_length'] = df.emp_length.str.replace('< 1', '0.5')\n",
    "df['emp_length'] = df.emp_length.str.replace('+', '')"
   ]
  },
  {
   "cell_type": "code",
   "execution_count": 33,
   "metadata": {
    "collapsed": false
   },
   "outputs": [
    {
     "data": {
      "text/plain": [
       "10      291569\n",
       "2        78870\n",
       "0.5      70605\n",
       "3        70026\n",
       "1        57095\n",
       "         ...  \n",
       "0        44825\n",
       "7        44594\n",
       "8        43955\n",
       "6        42950\n",
       "9        34657\n",
       "Name: emp_length, dtype: int64"
      ]
     },
     "execution_count": 33,
     "metadata": {},
     "output_type": "execute_result"
    }
   ],
   "source": [
    "df.emp_length.value_counts()"
   ]
  },
  {
   "cell_type": "code",
   "execution_count": 34,
   "metadata": {
    "collapsed": true
   },
   "outputs": [],
   "source": [
    "df.emp_length = pd.to_numeric(df.emp_length)"
   ]
  },
  {
   "cell_type": "code",
   "execution_count": 35,
   "metadata": {
    "collapsed": false
   },
   "outputs": [
    {
     "data": {
      "text/html": [
       "<div>\n",
       "<table border=\"1\" class=\"dataframe\">\n",
       "  <thead>\n",
       "    <tr style=\"text-align: right;\">\n",
       "      <th></th>\n",
       "      <th>member_id</th>\n",
       "      <th>loan_amnt</th>\n",
       "      <th>funded_amnt</th>\n",
       "      <th>funded_amnt_inv</th>\n",
       "      <th>term</th>\n",
       "      <th>...</th>\n",
       "      <th>inq_fi</th>\n",
       "      <th>total_cu_tl</th>\n",
       "      <th>inq_last_12m</th>\n",
       "      <th>FullyPaid</th>\n",
       "      <th>is_Verified</th>\n",
       "    </tr>\n",
       "    <tr>\n",
       "      <th>id</th>\n",
       "      <th></th>\n",
       "      <th></th>\n",
       "      <th></th>\n",
       "      <th></th>\n",
       "      <th></th>\n",
       "      <th></th>\n",
       "      <th></th>\n",
       "      <th></th>\n",
       "      <th></th>\n",
       "      <th></th>\n",
       "      <th></th>\n",
       "    </tr>\n",
       "  </thead>\n",
       "  <tbody>\n",
       "    <tr>\n",
       "      <th>1077501</th>\n",
       "      <td>1296599</td>\n",
       "      <td>5000.0</td>\n",
       "      <td>5000.0</td>\n",
       "      <td>4975.0</td>\n",
       "      <td>36</td>\n",
       "      <td>...</td>\n",
       "      <td>NaN</td>\n",
       "      <td>NaN</td>\n",
       "      <td>NaN</td>\n",
       "      <td>1.0</td>\n",
       "      <td>1.0</td>\n",
       "    </tr>\n",
       "    <tr>\n",
       "      <th>1077430</th>\n",
       "      <td>1314167</td>\n",
       "      <td>2500.0</td>\n",
       "      <td>2500.0</td>\n",
       "      <td>2500.0</td>\n",
       "      <td>60</td>\n",
       "      <td>...</td>\n",
       "      <td>NaN</td>\n",
       "      <td>NaN</td>\n",
       "      <td>NaN</td>\n",
       "      <td>0.0</td>\n",
       "      <td>1.0</td>\n",
       "    </tr>\n",
       "  </tbody>\n",
       "</table>\n",
       "<p>2 rows × 68 columns</p>\n",
       "</div>"
      ],
      "text/plain": [
       "         member_id  loan_amnt  funded_amnt  funded_amnt_inv  term  \\\n",
       "id                                                                  \n",
       "1077501    1296599     5000.0       5000.0           4975.0    36   \n",
       "1077430    1314167     2500.0       2500.0           2500.0    60   \n",
       "\n",
       "            ...       inq_fi  total_cu_tl  inq_last_12m FullyPaid  is_Verified  \n",
       "id          ...                                                                 \n",
       "1077501     ...          NaN          NaN           NaN       1.0          1.0  \n",
       "1077430     ...          NaN          NaN           NaN       0.0          1.0  \n",
       "\n",
       "[2 rows x 68 columns]"
      ]
     },
     "execution_count": 35,
     "metadata": {},
     "output_type": "execute_result"
    }
   ],
   "source": [
    "df.head(2)"
   ]
  },
  {
   "cell_type": "code",
   "execution_count": 36,
   "metadata": {
    "collapsed": false,
    "scrolled": true
   },
   "outputs": [
    {
     "data": {
      "text/plain": [
       "MORTGAGE    443557\n",
       "RENT        356117\n",
       "OWN          87470\n",
       "OTHER          182\n",
       "NONE            50\n",
       "ANY              3\n",
       "Name: home_ownership, dtype: int64"
      ]
     },
     "execution_count": 36,
     "metadata": {},
     "output_type": "execute_result"
    }
   ],
   "source": [
    "df.home_ownership.value_counts()"
   ]
  },
  {
   "cell_type": "code",
   "execution_count": 37,
   "metadata": {
    "collapsed": false
   },
   "outputs": [
    {
     "data": {
      "text/plain": [
       "id\n",
       "26170263     5000.0\n",
       "66544417    34300.0\n",
       "55948695    24000.0\n",
       "Name: loan_amnt, dtype: float64"
      ]
     },
     "execution_count": 37,
     "metadata": {},
     "output_type": "execute_result"
    }
   ],
   "source": [
    "df[df.home_ownership == 'ANY']['loan_amnt']"
   ]
  },
  {
   "cell_type": "code",
   "execution_count": 38,
   "metadata": {
    "collapsed": false,
    "scrolled": true
   },
   "outputs": [
    {
     "data": {
      "text/plain": [
       "id\n",
       "231321    10000.0\n",
       "121568     4000.0\n",
       "Name: loan_amnt, dtype: float64"
      ]
     },
     "execution_count": 38,
     "metadata": {},
     "output_type": "execute_result"
    }
   ],
   "source": [
    "df[df.home_ownership == 'NONE']['loan_amnt'].head(2)"
   ]
  },
  {
   "cell_type": "code",
   "execution_count": 39,
   "metadata": {
    "collapsed": true
   },
   "outputs": [],
   "source": [
    "df['is_FullyOwned'] = (df.home_ownership == 'OWN') * 1.0"
   ]
  },
  {
   "cell_type": "code",
   "execution_count": 40,
   "metadata": {
    "collapsed": false
   },
   "outputs": [
    {
     "data": {
      "text/plain": [
       "0.0    799909\n",
       "1.0     87470\n",
       "Name: is_FullyOwned, dtype: int64"
      ]
     },
     "execution_count": 40,
     "metadata": {},
     "output_type": "execute_result"
    }
   ],
   "source": [
    "df.is_FullyOwned.value_counts()"
   ]
  },
  {
   "cell_type": "code",
   "execution_count": 41,
   "metadata": {
    "collapsed": false
   },
   "outputs": [
    {
     "data": {
      "text/plain": [
       "69"
      ]
     },
     "execution_count": 41,
     "metadata": {},
     "output_type": "execute_result"
    }
   ],
   "source": [
    "len(df.columns)"
   ]
  },
  {
   "cell_type": "code",
   "execution_count": 42,
   "metadata": {
    "collapsed": false
   },
   "outputs": [],
   "source": [
    "df.drop(['home_ownership'], axis=1, inplace = True)"
   ]
  },
  {
   "cell_type": "code",
   "execution_count": 43,
   "metadata": {
    "collapsed": false
   },
   "outputs": [
    {
     "data": {
      "text/plain": [
       "Index([u'member_id', u'loan_amnt', u'funded_amnt', u'funded_amnt_inv', u'term',\n",
       "       u'int_rate', u'installment', u'grade', u'sub_grade', u'emp_length',\n",
       "       u'annual_inc', u'issue_d', u'pymnt_plan', u'purpose', u'zip_code',\n",
       "       u'addr_state', u'dti', u'delinq_2yrs', u'earliest_cr_line',\n",
       "       u'inq_last_6mths', u'mths_since_last_delinq', u'mths_since_last_record',\n",
       "       u'open_acc', u'pub_rec', u'revol_bal', u'revol_util', u'total_acc',\n",
       "       u'initial_list_status', u'out_prncp', u'out_prncp_inv', u'total_pymnt',\n",
       "       u'total_pymnt_inv', u'total_rec_prncp', u'total_rec_int',\n",
       "       u'total_rec_late_fee', u'recoveries', u'collection_recovery_fee',\n",
       "       u'last_pymnt_d', u'last_pymnt_amnt', u'next_pymnt_d',\n",
       "       u'last_credit_pull_d', u'collections_12_mths_ex_med',\n",
       "       u'mths_since_last_major_derog', u'application_type',\n",
       "       u'annual_inc_joint', u'dti_joint', u'verification_status_joint',\n",
       "       u'acc_now_delinq', u'tot_coll_amt', u'tot_cur_bal', u'open_acc_6m',\n",
       "       u'open_il_6m', u'open_il_12m', u'open_il_24m', u'mths_since_rcnt_il',\n",
       "       u'total_bal_il', u'il_util', u'open_rv_12m', u'open_rv_24m',\n",
       "       u'max_bal_bc', u'all_util', u'total_rev_hi_lim', u'inq_fi',\n",
       "       u'total_cu_tl', u'inq_last_12m', u'FullyPaid', u'is_Verified',\n",
       "       u'is_FullyOwned'],\n",
       "      dtype='object')"
      ]
     },
     "execution_count": 43,
     "metadata": {},
     "output_type": "execute_result"
    }
   ],
   "source": [
    "df.columns"
   ]
  },
  {
   "cell_type": "code",
   "execution_count": 44,
   "metadata": {
    "collapsed": false
   },
   "outputs": [
    {
     "data": {
      "text/plain": [
       "array([nan, 'Not Verified', 'Verified', 'Source Verified'], dtype=object)"
      ]
     },
     "execution_count": 44,
     "metadata": {},
     "output_type": "execute_result"
    }
   ],
   "source": [
    "df.verification_status_joint.unique()"
   ]
  },
  {
   "cell_type": "code",
   "execution_count": 45,
   "metadata": {
    "collapsed": false
   },
   "outputs": [
    {
     "data": {
      "text/plain": [
       "Not Verified       283\n",
       "Verified           167\n",
       "Source Verified     61\n",
       "Name: verification_status_joint, dtype: int64"
      ]
     },
     "execution_count": 45,
     "metadata": {},
     "output_type": "execute_result"
    }
   ],
   "source": [
    "df.verification_status_joint.value_counts()"
   ]
  },
  {
   "cell_type": "code",
   "execution_count": 46,
   "metadata": {
    "collapsed": true
   },
   "outputs": [],
   "source": [
    "df['is_JointVerified'] = ((df.verification_status_joint == 'Verified') | (df.verification_status_joint == 'Source Verified')) * 1.0"
   ]
  },
  {
   "cell_type": "code",
   "execution_count": 47,
   "metadata": {
    "collapsed": false
   },
   "outputs": [
    {
     "data": {
      "text/plain": [
       "0.0    887151\n",
       "1.0       228\n",
       "Name: is_JointVerified, dtype: int64"
      ]
     },
     "execution_count": 47,
     "metadata": {},
     "output_type": "execute_result"
    }
   ],
   "source": [
    "df.is_JointVerified.value_counts()"
   ]
  },
  {
   "cell_type": "code",
   "execution_count": 51,
   "metadata": {
    "collapsed": false
   },
   "outputs": [
    {
     "ename": "ValueError",
     "evalue": "labels ['verification_status_joint'] not contained in axis",
     "output_type": "error",
     "traceback": [
      "\u001b[0;31m---------------------------------------------------------------------------\u001b[0m",
      "\u001b[0;31mValueError\u001b[0m                                Traceback (most recent call last)",
      "\u001b[0;32m<ipython-input-51-a53750cbf14a>\u001b[0m in \u001b[0;36m<module>\u001b[0;34m()\u001b[0m\n\u001b[0;32m----> 1\u001b[0;31m \u001b[0mdf\u001b[0m\u001b[0;34m.\u001b[0m\u001b[0mdrop\u001b[0m\u001b[0;34m(\u001b[0m\u001b[0;34m[\u001b[0m\u001b[0;34m'verification_status_joint'\u001b[0m\u001b[0;34m]\u001b[0m\u001b[0;34m,\u001b[0m \u001b[0maxis\u001b[0m \u001b[0;34m=\u001b[0m \u001b[0;36m1\u001b[0m\u001b[0;34m,\u001b[0m \u001b[0minplace\u001b[0m \u001b[0;34m=\u001b[0m \u001b[0mTrue\u001b[0m\u001b[0;34m)\u001b[0m\u001b[0;34m\u001b[0m\u001b[0m\n\u001b[0m",
      "\u001b[0;32m/Users/gfnu/anaconda/lib/python2.7/site-packages/pandas/core/generic.pyc\u001b[0m in \u001b[0;36mdrop\u001b[0;34m(self, labels, axis, level, inplace, errors)\u001b[0m\n\u001b[1;32m   1871\u001b[0m                 \u001b[0mnew_axis\u001b[0m \u001b[0;34m=\u001b[0m \u001b[0maxis\u001b[0m\u001b[0;34m.\u001b[0m\u001b[0mdrop\u001b[0m\u001b[0;34m(\u001b[0m\u001b[0mlabels\u001b[0m\u001b[0;34m,\u001b[0m \u001b[0mlevel\u001b[0m\u001b[0;34m=\u001b[0m\u001b[0mlevel\u001b[0m\u001b[0;34m,\u001b[0m \u001b[0merrors\u001b[0m\u001b[0;34m=\u001b[0m\u001b[0merrors\u001b[0m\u001b[0;34m)\u001b[0m\u001b[0;34m\u001b[0m\u001b[0m\n\u001b[1;32m   1872\u001b[0m             \u001b[0;32melse\u001b[0m\u001b[0;34m:\u001b[0m\u001b[0;34m\u001b[0m\u001b[0m\n\u001b[0;32m-> 1873\u001b[0;31m                 \u001b[0mnew_axis\u001b[0m \u001b[0;34m=\u001b[0m \u001b[0maxis\u001b[0m\u001b[0;34m.\u001b[0m\u001b[0mdrop\u001b[0m\u001b[0;34m(\u001b[0m\u001b[0mlabels\u001b[0m\u001b[0;34m,\u001b[0m \u001b[0merrors\u001b[0m\u001b[0;34m=\u001b[0m\u001b[0merrors\u001b[0m\u001b[0;34m)\u001b[0m\u001b[0;34m\u001b[0m\u001b[0m\n\u001b[0m\u001b[1;32m   1874\u001b[0m             \u001b[0mdropped\u001b[0m \u001b[0;34m=\u001b[0m \u001b[0mself\u001b[0m\u001b[0;34m.\u001b[0m\u001b[0mreindex\u001b[0m\u001b[0;34m(\u001b[0m\u001b[0;34m**\u001b[0m\u001b[0;34m{\u001b[0m\u001b[0maxis_name\u001b[0m\u001b[0;34m:\u001b[0m \u001b[0mnew_axis\u001b[0m\u001b[0;34m}\u001b[0m\u001b[0;34m)\u001b[0m\u001b[0;34m\u001b[0m\u001b[0m\n\u001b[1;32m   1875\u001b[0m             \u001b[0;32mtry\u001b[0m\u001b[0;34m:\u001b[0m\u001b[0;34m\u001b[0m\u001b[0m\n",
      "\u001b[0;32m/Users/gfnu/anaconda/lib/python2.7/site-packages/pandas/indexes/base.pyc\u001b[0m in \u001b[0;36mdrop\u001b[0;34m(self, labels, errors)\u001b[0m\n\u001b[1;32m   2964\u001b[0m             \u001b[0;32mif\u001b[0m \u001b[0merrors\u001b[0m \u001b[0;34m!=\u001b[0m \u001b[0;34m'ignore'\u001b[0m\u001b[0;34m:\u001b[0m\u001b[0;34m\u001b[0m\u001b[0m\n\u001b[1;32m   2965\u001b[0m                 raise ValueError('labels %s not contained in axis' %\n\u001b[0;32m-> 2966\u001b[0;31m                                  labels[mask])\n\u001b[0m\u001b[1;32m   2967\u001b[0m             \u001b[0mindexer\u001b[0m \u001b[0;34m=\u001b[0m \u001b[0mindexer\u001b[0m\u001b[0;34m[\u001b[0m\u001b[0;34m~\u001b[0m\u001b[0mmask\u001b[0m\u001b[0;34m]\u001b[0m\u001b[0;34m\u001b[0m\u001b[0m\n\u001b[1;32m   2968\u001b[0m         \u001b[0;32mreturn\u001b[0m \u001b[0mself\u001b[0m\u001b[0;34m.\u001b[0m\u001b[0mdelete\u001b[0m\u001b[0;34m(\u001b[0m\u001b[0mindexer\u001b[0m\u001b[0;34m)\u001b[0m\u001b[0;34m\u001b[0m\u001b[0m\n",
      "\u001b[0;31mValueError\u001b[0m: labels ['verification_status_joint'] not contained in axis"
     ]
    }
   ],
   "source": [
    "df.drop(['verification_status_joint'], axis = 1, inplace = True)"
   ]
  },
  {
   "cell_type": "code",
   "execution_count": 54,
   "metadata": {
    "collapsed": false
   },
   "outputs": [
    {
     "data": {
      "text/plain": [
       "68"
      ]
     },
     "execution_count": 54,
     "metadata": {},
     "output_type": "execute_result"
    }
   ],
   "source": [
    "len(df.columns)"
   ]
  },
  {
   "cell_type": "code",
   "execution_count": 55,
   "metadata": {
    "collapsed": false
   },
   "outputs": [
    {
     "data": {
      "text/plain": [
       "INDIVIDUAL    886868\n",
       "JOINT            511\n",
       "Name: application_type, dtype: int64"
      ]
     },
     "execution_count": 55,
     "metadata": {},
     "output_type": "execute_result"
    }
   ],
   "source": [
    "df.application_type.value_counts()"
   ]
  },
  {
   "cell_type": "code",
   "execution_count": 56,
   "metadata": {
    "collapsed": false
   },
   "outputs": [],
   "source": [
    "df['is_Individual'] = (df.application_type == 'INDIVIDUAL')* 1.0"
   ]
  },
  {
   "cell_type": "code",
   "execution_count": 57,
   "metadata": {
    "collapsed": false
   },
   "outputs": [
    {
     "data": {
      "text/plain": [
       "1.0    886868\n",
       "0.0       511\n",
       "Name: is_Individual, dtype: int64"
      ]
     },
     "execution_count": 57,
     "metadata": {},
     "output_type": "execute_result"
    }
   ],
   "source": [
    "df.is_Individual.value_counts()"
   ]
  },
  {
   "cell_type": "code",
   "execution_count": 58,
   "metadata": {
    "collapsed": true
   },
   "outputs": [],
   "source": [
    "df.drop(['application_type'], axis = 1, inplace = True)"
   ]
  },
  {
   "cell_type": "code",
   "execution_count": 59,
   "metadata": {
    "collapsed": false
   },
   "outputs": [
    {
     "data": {
      "text/plain": [
       "68"
      ]
     },
     "execution_count": 59,
     "metadata": {},
     "output_type": "execute_result"
    }
   ],
   "source": [
    "len(df.columns)"
   ]
  },
  {
   "cell_type": "code",
   "execution_count": 60,
   "metadata": {
    "collapsed": true
   },
   "outputs": [],
   "source": [
    "df.drop(['issue_d','last_pymnt_d','last_credit_pull_d','next_pymnt_d'], axis=1, inplace=True)"
   ]
  },
  {
   "cell_type": "code",
   "execution_count": 61,
   "metadata": {
    "collapsed": false
   },
   "outputs": [
    {
     "data": {
      "text/plain": [
       "64"
      ]
     },
     "execution_count": 61,
     "metadata": {},
     "output_type": "execute_result"
    }
   ],
   "source": [
    "len(df.columns)"
   ]
  },
  {
   "cell_type": "code",
   "execution_count": 64,
   "metadata": {
    "collapsed": false,
    "scrolled": true
   },
   "outputs": [
    {
     "data": {
      "text/html": [
       "<div>\n",
       "<table border=\"1\" class=\"dataframe\">\n",
       "  <thead>\n",
       "    <tr style=\"text-align: right;\">\n",
       "      <th></th>\n",
       "      <th>member_id</th>\n",
       "      <th>loan_amnt</th>\n",
       "      <th>funded_amnt</th>\n",
       "      <th>funded_amnt_inv</th>\n",
       "      <th>term</th>\n",
       "      <th>int_rate</th>\n",
       "      <th>installment</th>\n",
       "      <th>grade</th>\n",
       "      <th>sub_grade</th>\n",
       "      <th>emp_length</th>\n",
       "    </tr>\n",
       "    <tr>\n",
       "      <th>id</th>\n",
       "      <th></th>\n",
       "      <th></th>\n",
       "      <th></th>\n",
       "      <th></th>\n",
       "      <th></th>\n",
       "      <th></th>\n",
       "      <th></th>\n",
       "      <th></th>\n",
       "      <th></th>\n",
       "      <th></th>\n",
       "    </tr>\n",
       "  </thead>\n",
       "  <tbody>\n",
       "    <tr>\n",
       "      <th>1077501</th>\n",
       "      <td>1296599</td>\n",
       "      <td>5000.0</td>\n",
       "      <td>5000.0</td>\n",
       "      <td>4975.0</td>\n",
       "      <td>36</td>\n",
       "      <td>10.65</td>\n",
       "      <td>162.87</td>\n",
       "      <td>2</td>\n",
       "      <td>B2</td>\n",
       "      <td>10.0</td>\n",
       "    </tr>\n",
       "    <tr>\n",
       "      <th>1077430</th>\n",
       "      <td>1314167</td>\n",
       "      <td>2500.0</td>\n",
       "      <td>2500.0</td>\n",
       "      <td>2500.0</td>\n",
       "      <td>60</td>\n",
       "      <td>15.27</td>\n",
       "      <td>59.83</td>\n",
       "      <td>3</td>\n",
       "      <td>C4</td>\n",
       "      <td>0.5</td>\n",
       "    </tr>\n",
       "    <tr>\n",
       "      <th>1077175</th>\n",
       "      <td>1313524</td>\n",
       "      <td>2400.0</td>\n",
       "      <td>2400.0</td>\n",
       "      <td>2400.0</td>\n",
       "      <td>36</td>\n",
       "      <td>15.96</td>\n",
       "      <td>84.33</td>\n",
       "      <td>3</td>\n",
       "      <td>C5</td>\n",
       "      <td>10.0</td>\n",
       "    </tr>\n",
       "    <tr>\n",
       "      <th>1076863</th>\n",
       "      <td>1277178</td>\n",
       "      <td>10000.0</td>\n",
       "      <td>10000.0</td>\n",
       "      <td>10000.0</td>\n",
       "      <td>36</td>\n",
       "      <td>13.49</td>\n",
       "      <td>339.31</td>\n",
       "      <td>3</td>\n",
       "      <td>C1</td>\n",
       "      <td>10.0</td>\n",
       "    </tr>\n",
       "    <tr>\n",
       "      <th>1075358</th>\n",
       "      <td>1311748</td>\n",
       "      <td>3000.0</td>\n",
       "      <td>3000.0</td>\n",
       "      <td>3000.0</td>\n",
       "      <td>60</td>\n",
       "      <td>12.69</td>\n",
       "      <td>67.79</td>\n",
       "      <td>2</td>\n",
       "      <td>B5</td>\n",
       "      <td>1.0</td>\n",
       "    </tr>\n",
       "    <tr>\n",
       "      <th>...</th>\n",
       "      <td>...</td>\n",
       "      <td>...</td>\n",
       "      <td>...</td>\n",
       "      <td>...</td>\n",
       "      <td>...</td>\n",
       "      <td>...</td>\n",
       "      <td>...</td>\n",
       "      <td>...</td>\n",
       "      <td>...</td>\n",
       "      <td>...</td>\n",
       "    </tr>\n",
       "    <tr>\n",
       "      <th>1051117</th>\n",
       "      <td>1282787</td>\n",
       "      <td>14000.0</td>\n",
       "      <td>14000.0</td>\n",
       "      <td>14000.0</td>\n",
       "      <td>36</td>\n",
       "      <td>9.91</td>\n",
       "      <td>451.15</td>\n",
       "      <td>2</td>\n",
       "      <td>B1</td>\n",
       "      <td>6.0</td>\n",
       "    </tr>\n",
       "    <tr>\n",
       "      <th>1069465</th>\n",
       "      <td>1304521</td>\n",
       "      <td>5000.0</td>\n",
       "      <td>5000.0</td>\n",
       "      <td>5000.0</td>\n",
       "      <td>36</td>\n",
       "      <td>8.90</td>\n",
       "      <td>158.77</td>\n",
       "      <td>1</td>\n",
       "      <td>A5</td>\n",
       "      <td>10.0</td>\n",
       "    </tr>\n",
       "    <tr>\n",
       "      <th>1069283</th>\n",
       "      <td>1304166</td>\n",
       "      <td>10000.0</td>\n",
       "      <td>10000.0</td>\n",
       "      <td>10000.0</td>\n",
       "      <td>36</td>\n",
       "      <td>10.65</td>\n",
       "      <td>325.74</td>\n",
       "      <td>2</td>\n",
       "      <td>B2</td>\n",
       "      <td>6.0</td>\n",
       "    </tr>\n",
       "    <tr>\n",
       "      <th>1069287</th>\n",
       "      <td>1304171</td>\n",
       "      <td>10000.0</td>\n",
       "      <td>10000.0</td>\n",
       "      <td>10000.0</td>\n",
       "      <td>36</td>\n",
       "      <td>6.03</td>\n",
       "      <td>304.36</td>\n",
       "      <td>1</td>\n",
       "      <td>A1</td>\n",
       "      <td>10.0</td>\n",
       "    </tr>\n",
       "    <tr>\n",
       "      <th>1069453</th>\n",
       "      <td>1303701</td>\n",
       "      <td>11000.0</td>\n",
       "      <td>11000.0</td>\n",
       "      <td>11000.0</td>\n",
       "      <td>36</td>\n",
       "      <td>6.62</td>\n",
       "      <td>337.75</td>\n",
       "      <td>1</td>\n",
       "      <td>A2</td>\n",
       "      <td>5.0</td>\n",
       "    </tr>\n",
       "  </tbody>\n",
       "</table>\n",
       "<p>50 rows × 10 columns</p>\n",
       "</div>"
      ],
      "text/plain": [
       "         member_id  loan_amnt  funded_amnt  funded_amnt_inv  term  int_rate  \\\n",
       "id                                                                            \n",
       "1077501    1296599     5000.0       5000.0           4975.0    36     10.65   \n",
       "1077430    1314167     2500.0       2500.0           2500.0    60     15.27   \n",
       "1077175    1313524     2400.0       2400.0           2400.0    36     15.96   \n",
       "1076863    1277178    10000.0      10000.0          10000.0    36     13.49   \n",
       "1075358    1311748     3000.0       3000.0           3000.0    60     12.69   \n",
       "...            ...        ...          ...              ...   ...       ...   \n",
       "1051117    1282787    14000.0      14000.0          14000.0    36      9.91   \n",
       "1069465    1304521     5000.0       5000.0           5000.0    36      8.90   \n",
       "1069283    1304166    10000.0      10000.0          10000.0    36     10.65   \n",
       "1069287    1304171    10000.0      10000.0          10000.0    36      6.03   \n",
       "1069453    1303701    11000.0      11000.0          11000.0    36      6.62   \n",
       "\n",
       "         installment  grade sub_grade  emp_length  \n",
       "id                                                 \n",
       "1077501       162.87      2        B2        10.0  \n",
       "1077430        59.83      3        C4         0.5  \n",
       "1077175        84.33      3        C5        10.0  \n",
       "1076863       339.31      3        C1        10.0  \n",
       "1075358        67.79      2        B5         1.0  \n",
       "...              ...    ...       ...         ...  \n",
       "1051117       451.15      2        B1         6.0  \n",
       "1069465       158.77      1        A5        10.0  \n",
       "1069283       325.74      2        B2         6.0  \n",
       "1069287       304.36      1        A1        10.0  \n",
       "1069453       337.75      1        A2         5.0  \n",
       "\n",
       "[50 rows x 10 columns]"
      ]
     },
     "execution_count": 64,
     "metadata": {},
     "output_type": "execute_result"
    }
   ],
   "source": [
    "df[range(0,10)].head(50)"
   ]
  },
  {
   "cell_type": "code",
   "execution_count": 65,
   "metadata": {
    "collapsed": false
   },
   "outputs": [
    {
     "data": {
      "text/plain": [
       "n    887369\n",
       "y        10\n",
       "Name: pymnt_plan, dtype: int64"
      ]
     },
     "execution_count": 65,
     "metadata": {},
     "output_type": "execute_result"
    }
   ],
   "source": [
    "df.pymnt_plan.value_counts()"
   ]
  },
  {
   "cell_type": "code",
   "execution_count": 66,
   "metadata": {
    "collapsed": true
   },
   "outputs": [],
   "source": [
    "df['is_PaymentPlan'] = (df.pymnt_plan == 'y') * 1.0"
   ]
  },
  {
   "cell_type": "code",
   "execution_count": 67,
   "metadata": {
    "collapsed": false
   },
   "outputs": [
    {
     "data": {
      "text/plain": [
       "0.0    887369\n",
       "1.0        10\n",
       "Name: is_PaymentPlan, dtype: int64"
      ]
     },
     "execution_count": 67,
     "metadata": {},
     "output_type": "execute_result"
    }
   ],
   "source": [
    "df.is_PaymentPlan.value_counts()"
   ]
  },
  {
   "cell_type": "code",
   "execution_count": 316,
   "metadata": {
    "collapsed": false
   },
   "outputs": [],
   "source": [
    "#df.earliest_cr_line = pd.to_datetime(df.earliest_cr_line) "
   ]
  },
  {
   "cell_type": "code",
   "execution_count": 68,
   "metadata": {
    "collapsed": true
   },
   "outputs": [],
   "source": [
    "df.drop(['earliest_cr_line'], axis = 1, inplace = True)"
   ]
  },
  {
   "cell_type": "code",
   "execution_count": 72,
   "metadata": {
    "collapsed": false
   },
   "outputs": [],
   "source": [
    "df.drop(['pymnt_plan'], axis = 1, inplace = True)"
   ]
  },
  {
   "cell_type": "code",
   "execution_count": 73,
   "metadata": {
    "collapsed": false
   },
   "outputs": [
    {
     "data": {
      "text/plain": [
       "63"
      ]
     },
     "execution_count": 73,
     "metadata": {},
     "output_type": "execute_result"
    }
   ],
   "source": [
    "len(df.columns)"
   ]
  },
  {
   "cell_type": "code",
   "execution_count": 74,
   "metadata": {
    "collapsed": false
   },
   "outputs": [
    {
     "data": {
      "text/plain": [
       "f    456848\n",
       "w    430531\n",
       "Name: initial_list_status, dtype: int64"
      ]
     },
     "execution_count": 74,
     "metadata": {},
     "output_type": "execute_result"
    }
   ],
   "source": [
    "df.initial_list_status.value_counts()"
   ]
  },
  {
   "cell_type": "code",
   "execution_count": 75,
   "metadata": {
    "collapsed": true
   },
   "outputs": [],
   "source": [
    "df['is_Whole'] = (df.initial_list_status == 'w')*1.0"
   ]
  },
  {
   "cell_type": "code",
   "execution_count": 76,
   "metadata": {
    "collapsed": false
   },
   "outputs": [
    {
     "data": {
      "text/plain": [
       "0.0    456848\n",
       "1.0    430531\n",
       "Name: is_Whole, dtype: int64"
      ]
     },
     "execution_count": 76,
     "metadata": {},
     "output_type": "execute_result"
    }
   ],
   "source": [
    "df.is_Whole.value_counts()"
   ]
  },
  {
   "cell_type": "code",
   "execution_count": 77,
   "metadata": {
    "collapsed": false
   },
   "outputs": [
    {
     "data": {
      "text/plain": [
       "64"
      ]
     },
     "execution_count": 77,
     "metadata": {},
     "output_type": "execute_result"
    }
   ],
   "source": [
    "len(df.columns)"
   ]
  },
  {
   "cell_type": "code",
   "execution_count": 79,
   "metadata": {
    "collapsed": false
   },
   "outputs": [],
   "source": [
    "df.drop(['purpose','zip_code','addr_state','initial_list_status'], axis=1, inplace=True)"
   ]
  },
  {
   "cell_type": "code",
   "execution_count": 80,
   "metadata": {
    "collapsed": false
   },
   "outputs": [
    {
     "data": {
      "text/plain": [
       "60"
      ]
     },
     "execution_count": 80,
     "metadata": {},
     "output_type": "execute_result"
    }
   ],
   "source": [
    "len(df.columns)"
   ]
  },
  {
   "cell_type": "code",
   "execution_count": 81,
   "metadata": {
    "collapsed": true
   },
   "outputs": [],
   "source": [
    "df.drop(['sub_grade'], axis=1,inplace=True)"
   ]
  },
  {
   "cell_type": "code",
   "execution_count": 82,
   "metadata": {
    "collapsed": false,
    "scrolled": true
   },
   "outputs": [],
   "source": [
    "df = df.fillna(0)"
   ]
  },
  {
   "cell_type": "code",
   "execution_count": 83,
   "metadata": {
    "collapsed": true
   },
   "outputs": [],
   "source": [
    "df.drop(['member_id'], axis=1, inplace=True)"
   ]
  },
  {
   "cell_type": "code",
   "execution_count": 141,
   "metadata": {
    "collapsed": false,
    "scrolled": true
   },
   "outputs": [],
   "source": [
    "#df"
   ]
  },
  {
   "cell_type": "markdown",
   "metadata": {},
   "source": [
    "   "
   ]
  },
  {
   "cell_type": "code",
   "execution_count": 111,
   "metadata": {
    "collapsed": false
   },
   "outputs": [
    {
     "data": {
      "text/plain": [
       "0.0    679656\n",
       "1.0    207723\n",
       "Name: FullyPaid, dtype: int64"
      ]
     },
     "execution_count": 111,
     "metadata": {},
     "output_type": "execute_result"
    }
   ],
   "source": [
    "df.FullyPaid.value_counts()"
   ]
  },
  {
   "cell_type": "code",
   "execution_count": null,
   "metadata": {
    "collapsed": true
   },
   "outputs": [],
   "source": [
    "#randomly taking the same amoung of data, and creating a new data set"
   ]
  },
  {
   "cell_type": "code",
   "execution_count": 133,
   "metadata": {
    "collapsed": false
   },
   "outputs": [],
   "source": [
    "y_0 = df[df.FullyPaid == 0.0]\n",
    "y_1 = df[df.FullyPaid == 1.0]\n",
    "n = min([len(y_0), len(y_1)])\n",
    "y_0 = y_0.sample(n = n, random_state = 0)\n",
    "y_1 = y_1.sample(n = n, random_state = 0)\n",
    "df_strat = pd.concat([y_0, y_1])"
   ]
  },
  {
   "cell_type": "code",
   "execution_count": 134,
   "metadata": {
    "collapsed": false
   },
   "outputs": [
    {
     "data": {
      "text/plain": [
       "415446"
      ]
     },
     "execution_count": 134,
     "metadata": {},
     "output_type": "execute_result"
    }
   ],
   "source": [
    "len(df_strat)"
   ]
  },
  {
   "cell_type": "code",
   "execution_count": 135,
   "metadata": {
    "collapsed": false
   },
   "outputs": [],
   "source": [
    "X = df_strat[df.columns.values]\n",
    "y = df_strat.FullyPaid"
   ]
  },
  {
   "cell_type": "code",
   "execution_count": 140,
   "metadata": {
    "collapsed": false
   },
   "outputs": [
    {
     "data": {
      "text/plain": [
       "loan_amnt           415446\n",
       "funded_amnt         415446\n",
       "funded_amnt_inv     415446\n",
       "term                415446\n",
       "int_rate            415446\n",
       "                     ...  \n",
       "is_FullyOwned       415446\n",
       "is_JointVerified    415446\n",
       "is_Individual       415446\n",
       "is_PaymentPlan      415446\n",
       "is_Whole            415446\n",
       "dtype: int64"
      ]
     },
     "execution_count": 140,
     "metadata": {},
     "output_type": "execute_result"
    }
   ],
   "source": [
    "X.count()"
   ]
  },
  {
   "cell_type": "code",
   "execution_count": 121,
   "metadata": {
    "collapsed": false
   },
   "outputs": [],
   "source": [
    "train_X, test_X, train_y, test_y = cross_validation.train_test_split(X, y, test_size = 0.4)"
   ]
  },
  {
   "cell_type": "code",
   "execution_count": 122,
   "metadata": {
    "collapsed": false,
    "scrolled": true
   },
   "outputs": [],
   "source": [
    "model = ensemble.RandomForestClassifier(n_estimators = 1000, oob_score = True)"
   ]
  },
  {
   "cell_type": "code",
   "execution_count": 123,
   "metadata": {
    "collapsed": false
   },
   "outputs": [
    {
     "data": {
      "text/plain": [
       "RandomForestClassifier(bootstrap=True, class_weight=None, criterion='gini',\n",
       "            max_depth=None, max_features='auto', max_leaf_nodes=None,\n",
       "            min_samples_leaf=1, min_samples_split=2,\n",
       "            min_weight_fraction_leaf=0.0, n_estimators=1000, n_jobs=1,\n",
       "            oob_score=True, random_state=None, verbose=0, warm_start=False)"
      ]
     },
     "execution_count": 123,
     "metadata": {},
     "output_type": "execute_result"
    }
   ],
   "source": [
    "model"
   ]
  },
  {
   "cell_type": "code",
   "execution_count": 125,
   "metadata": {
    "collapsed": false,
    "scrolled": false
   },
   "outputs": [
    {
     "data": {
      "text/html": [
       "<div>\n",
       "<table border=\"1\" class=\"dataframe\">\n",
       "  <thead>\n",
       "    <tr style=\"text-align: right;\">\n",
       "      <th></th>\n",
       "      <th>loan_amnt</th>\n",
       "      <th>funded_amnt</th>\n",
       "      <th>funded_amnt_inv</th>\n",
       "      <th>term</th>\n",
       "      <th>int_rate</th>\n",
       "      <th>...</th>\n",
       "      <th>is_FullyOwned</th>\n",
       "      <th>is_JointVerified</th>\n",
       "      <th>is_Individual</th>\n",
       "      <th>is_PaymentPlan</th>\n",
       "      <th>is_Whole</th>\n",
       "    </tr>\n",
       "    <tr>\n",
       "      <th>id</th>\n",
       "      <th></th>\n",
       "      <th></th>\n",
       "      <th></th>\n",
       "      <th></th>\n",
       "      <th></th>\n",
       "      <th></th>\n",
       "      <th></th>\n",
       "      <th></th>\n",
       "      <th></th>\n",
       "      <th></th>\n",
       "      <th></th>\n",
       "    </tr>\n",
       "  </thead>\n",
       "  <tbody>\n",
       "    <tr>\n",
       "      <th>17695223</th>\n",
       "      <td>15000.0</td>\n",
       "      <td>15000.0</td>\n",
       "      <td>15000.0</td>\n",
       "      <td>60</td>\n",
       "      <td>10.15</td>\n",
       "      <td>...</td>\n",
       "      <td>0.0</td>\n",
       "      <td>0.0</td>\n",
       "      <td>1.0</td>\n",
       "      <td>0.0</td>\n",
       "      <td>0.0</td>\n",
       "    </tr>\n",
       "    <tr>\n",
       "      <th>63390744</th>\n",
       "      <td>28000.0</td>\n",
       "      <td>28000.0</td>\n",
       "      <td>28000.0</td>\n",
       "      <td>36</td>\n",
       "      <td>6.24</td>\n",
       "      <td>...</td>\n",
       "      <td>0.0</td>\n",
       "      <td>0.0</td>\n",
       "      <td>1.0</td>\n",
       "      <td>0.0</td>\n",
       "      <td>1.0</td>\n",
       "    </tr>\n",
       "    <tr>\n",
       "      <th>3108578</th>\n",
       "      <td>5500.0</td>\n",
       "      <td>5500.0</td>\n",
       "      <td>5500.0</td>\n",
       "      <td>36</td>\n",
       "      <td>16.29</td>\n",
       "      <td>...</td>\n",
       "      <td>0.0</td>\n",
       "      <td>0.0</td>\n",
       "      <td>1.0</td>\n",
       "      <td>0.0</td>\n",
       "      <td>0.0</td>\n",
       "    </tr>\n",
       "    <tr>\n",
       "      <th>790539</th>\n",
       "      <td>14300.0</td>\n",
       "      <td>14300.0</td>\n",
       "      <td>14300.0</td>\n",
       "      <td>60</td>\n",
       "      <td>11.49</td>\n",
       "      <td>...</td>\n",
       "      <td>0.0</td>\n",
       "      <td>0.0</td>\n",
       "      <td>1.0</td>\n",
       "      <td>0.0</td>\n",
       "      <td>0.0</td>\n",
       "    </tr>\n",
       "    <tr>\n",
       "      <th>4299199</th>\n",
       "      <td>9600.0</td>\n",
       "      <td>9600.0</td>\n",
       "      <td>9550.0</td>\n",
       "      <td>36</td>\n",
       "      <td>8.90</td>\n",
       "      <td>...</td>\n",
       "      <td>0.0</td>\n",
       "      <td>0.0</td>\n",
       "      <td>1.0</td>\n",
       "      <td>0.0</td>\n",
       "      <td>0.0</td>\n",
       "    </tr>\n",
       "    <tr>\n",
       "      <th>...</th>\n",
       "      <td>...</td>\n",
       "      <td>...</td>\n",
       "      <td>...</td>\n",
       "      <td>...</td>\n",
       "      <td>...</td>\n",
       "      <td>...</td>\n",
       "      <td>...</td>\n",
       "      <td>...</td>\n",
       "      <td>...</td>\n",
       "      <td>...</td>\n",
       "      <td>...</td>\n",
       "    </tr>\n",
       "    <tr>\n",
       "      <th>11695101</th>\n",
       "      <td>16000.0</td>\n",
       "      <td>16000.0</td>\n",
       "      <td>16000.0</td>\n",
       "      <td>60</td>\n",
       "      <td>14.98</td>\n",
       "      <td>...</td>\n",
       "      <td>1.0</td>\n",
       "      <td>0.0</td>\n",
       "      <td>1.0</td>\n",
       "      <td>0.0</td>\n",
       "      <td>0.0</td>\n",
       "    </tr>\n",
       "    <tr>\n",
       "      <th>17433399</th>\n",
       "      <td>35000.0</td>\n",
       "      <td>35000.0</td>\n",
       "      <td>35000.0</td>\n",
       "      <td>60</td>\n",
       "      <td>15.61</td>\n",
       "      <td>...</td>\n",
       "      <td>0.0</td>\n",
       "      <td>0.0</td>\n",
       "      <td>1.0</td>\n",
       "      <td>0.0</td>\n",
       "      <td>1.0</td>\n",
       "    </tr>\n",
       "    <tr>\n",
       "      <th>7917269</th>\n",
       "      <td>20000.0</td>\n",
       "      <td>20000.0</td>\n",
       "      <td>20000.0</td>\n",
       "      <td>36</td>\n",
       "      <td>14.30</td>\n",
       "      <td>...</td>\n",
       "      <td>0.0</td>\n",
       "      <td>0.0</td>\n",
       "      <td>1.0</td>\n",
       "      <td>0.0</td>\n",
       "      <td>0.0</td>\n",
       "    </tr>\n",
       "    <tr>\n",
       "      <th>1053287</th>\n",
       "      <td>7700.0</td>\n",
       "      <td>7700.0</td>\n",
       "      <td>7700.0</td>\n",
       "      <td>36</td>\n",
       "      <td>12.42</td>\n",
       "      <td>...</td>\n",
       "      <td>0.0</td>\n",
       "      <td>0.0</td>\n",
       "      <td>1.0</td>\n",
       "      <td>0.0</td>\n",
       "      <td>0.0</td>\n",
       "    </tr>\n",
       "    <tr>\n",
       "      <th>36018732</th>\n",
       "      <td>15000.0</td>\n",
       "      <td>15000.0</td>\n",
       "      <td>15000.0</td>\n",
       "      <td>60</td>\n",
       "      <td>12.99</td>\n",
       "      <td>...</td>\n",
       "      <td>0.0</td>\n",
       "      <td>0.0</td>\n",
       "      <td>1.0</td>\n",
       "      <td>0.0</td>\n",
       "      <td>1.0</td>\n",
       "    </tr>\n",
       "  </tbody>\n",
       "</table>\n",
       "<p>249267 rows × 58 columns</p>\n",
       "</div>"
      ],
      "text/plain": [
       "          loan_amnt  funded_amnt  funded_amnt_inv  term  int_rate    ...     \\\n",
       "id                                                                   ...      \n",
       "17695223    15000.0      15000.0          15000.0    60     10.15    ...      \n",
       "63390744    28000.0      28000.0          28000.0    36      6.24    ...      \n",
       "3108578      5500.0       5500.0           5500.0    36     16.29    ...      \n",
       "790539      14300.0      14300.0          14300.0    60     11.49    ...      \n",
       "4299199      9600.0       9600.0           9550.0    36      8.90    ...      \n",
       "...             ...          ...              ...   ...       ...    ...      \n",
       "11695101    16000.0      16000.0          16000.0    60     14.98    ...      \n",
       "17433399    35000.0      35000.0          35000.0    60     15.61    ...      \n",
       "7917269     20000.0      20000.0          20000.0    36     14.30    ...      \n",
       "1053287      7700.0       7700.0           7700.0    36     12.42    ...      \n",
       "36018732    15000.0      15000.0          15000.0    60     12.99    ...      \n",
       "\n",
       "          is_FullyOwned  is_JointVerified  is_Individual  is_PaymentPlan  \\\n",
       "id                                                                         \n",
       "17695223            0.0               0.0            1.0             0.0   \n",
       "63390744            0.0               0.0            1.0             0.0   \n",
       "3108578             0.0               0.0            1.0             0.0   \n",
       "790539              0.0               0.0            1.0             0.0   \n",
       "4299199             0.0               0.0            1.0             0.0   \n",
       "...                 ...               ...            ...             ...   \n",
       "11695101            1.0               0.0            1.0             0.0   \n",
       "17433399            0.0               0.0            1.0             0.0   \n",
       "7917269             0.0               0.0            1.0             0.0   \n",
       "1053287             0.0               0.0            1.0             0.0   \n",
       "36018732            0.0               0.0            1.0             0.0   \n",
       "\n",
       "          is_Whole  \n",
       "id                  \n",
       "17695223       0.0  \n",
       "63390744       1.0  \n",
       "3108578        0.0  \n",
       "790539         0.0  \n",
       "4299199        0.0  \n",
       "...            ...  \n",
       "11695101       0.0  \n",
       "17433399       1.0  \n",
       "7917269        0.0  \n",
       "1053287        0.0  \n",
       "36018732       1.0  \n",
       "\n",
       "[249267 rows x 58 columns]"
      ]
     },
     "execution_count": 125,
     "metadata": {},
     "output_type": "execute_result"
    }
   ],
   "source": [
    "train_X"
   ]
  },
  {
   "cell_type": "code",
   "execution_count": null,
   "metadata": {
    "collapsed": true
   },
   "outputs": [],
   "source": []
  },
  {
   "cell_type": "code",
   "execution_count": null,
   "metadata": {
    "collapsed": true
   },
   "outputs": [],
   "source": []
  },
  {
   "cell_type": "code",
   "execution_count": null,
   "metadata": {
    "collapsed": true
   },
   "outputs": [],
   "source": [
    "#areaunderthecurve\n",
    "#feature importance"
   ]
  },
  {
   "cell_type": "code",
   "execution_count": 99,
   "metadata": {
    "collapsed": false
   },
   "outputs": [
    {
     "data": {
      "text/plain": [
       "1.0    124672\n",
       "0.0    124595\n",
       "Name: FullyPaid, dtype: int64"
      ]
     },
     "execution_count": 99,
     "metadata": {},
     "output_type": "execute_result"
    }
   ],
   "source": [
    "train_y.value_counts()"
   ]
  },
  {
   "cell_type": "code",
   "execution_count": 100,
   "metadata": {
    "collapsed": false,
    "scrolled": true
   },
   "outputs": [
    {
     "data": {
      "text/plain": [
       "1.0"
      ]
     },
     "execution_count": 100,
     "metadata": {},
     "output_type": "execute_result"
    }
   ],
   "source": [
    "model.oob_score_"
   ]
  },
  {
   "cell_type": "code",
   "execution_count": 105,
   "metadata": {
    "collapsed": false
   },
   "outputs": [
    {
     "data": {
      "text/plain": [
       "1.0"
      ]
     },
     "execution_count": 105,
     "metadata": {},
     "output_type": "execute_result"
    }
   ],
   "source": [
    "model.score(train_X, train_y)"
   ]
  },
  {
   "cell_type": "code",
   "execution_count": 128,
   "metadata": {
    "collapsed": false,
    "scrolled": true
   },
   "outputs": [],
   "source": [
    "#cross_validation.cross_val_score(model, train_X, train_y, cv = 10).mean()"
   ]
  },
  {
   "cell_type": "code",
   "execution_count": 127,
   "metadata": {
    "collapsed": false,
    "scrolled": true
   },
   "outputs": [
    {
     "data": {
      "text/plain": [
       "RandomForestClassifier(bootstrap=True, class_weight=None, criterion='gini',\n",
       "            max_depth=None, max_features='auto', max_leaf_nodes=None,\n",
       "            min_samples_leaf=1, min_samples_split=2,\n",
       "            min_weight_fraction_leaf=0.0, n_estimators=1000, n_jobs=1,\n",
       "            oob_score=True, random_state=None, verbose=0, warm_start=False)"
      ]
     },
     "execution_count": 127,
     "metadata": {},
     "output_type": "execute_result"
    }
   ],
   "source": [
    "model.fit(train_X, train_y)"
   ]
  },
  {
   "cell_type": "code",
   "execution_count": 132,
   "metadata": {
    "collapsed": false
   },
   "outputs": [
    {
     "data": {
      "text/plain": [
       "Index([u'loan_amnt', u'funded_amnt', u'funded_amnt_inv', u'term', u'int_rate',\n",
       "       u'installment', u'grade', u'emp_length', u'annual_inc', u'dti',\n",
       "       u'delinq_2yrs', u'inq_last_6mths', u'mths_since_last_delinq',\n",
       "       u'mths_since_last_record', u'open_acc', u'pub_rec', u'revol_bal',\n",
       "       u'revol_util', u'total_acc', u'out_prncp', u'out_prncp_inv',\n",
       "       u'total_pymnt', u'total_pymnt_inv', u'total_rec_prncp',\n",
       "       u'total_rec_int', u'total_rec_late_fee', u'recoveries',\n",
       "       u'collection_recovery_fee', u'last_pymnt_amnt',\n",
       "       u'collections_12_mths_ex_med', u'mths_since_last_major_derog',\n",
       "       u'annual_inc_joint', u'dti_joint', u'acc_now_delinq', u'tot_coll_amt',\n",
       "       u'tot_cur_bal', u'open_acc_6m', u'open_il_6m', u'open_il_12m',\n",
       "       u'open_il_24m', u'mths_since_rcnt_il', u'total_bal_il', u'il_util',\n",
       "       u'open_rv_12m', u'open_rv_24m', u'max_bal_bc', u'all_util',\n",
       "       u'total_rev_hi_lim', u'inq_fi', u'total_cu_tl', u'inq_last_12m',\n",
       "       u'FullyPaid', u'is_Verified', u'is_FullyOwned', u'is_JointVerified',\n",
       "       u'is_Individual', u'is_PaymentPlan', u'is_Whole'],\n",
       "      dtype='object')"
      ]
     },
     "execution_count": 132,
     "metadata": {},
     "output_type": "execute_result"
    }
   ],
   "source": [
    "train_X.columns"
   ]
  },
  {
   "cell_type": "code",
   "execution_count": 129,
   "metadata": {
    "collapsed": false
   },
   "outputs": [
    {
     "data": {
      "text/plain": [
       "[(0.29140909022622585, 'FullyPaid'),\n",
       " (0.19985308680976299, 'out_prncp_inv'),\n",
       " (0.18113088888150564, 'out_prncp'),\n",
       " (0.098810976029020378, 'last_pymnt_amnt'),\n",
       " (0.073665431793918643, 'total_rec_prncp'),\n",
       " (0.037821464440551913, 'total_pymnt'),\n",
       " (0.034191287721921218, 'total_pymnt_inv'),\n",
       " (0.011301751101081361, 'tot_cur_bal'),\n",
       " (0.010553843449898339, 'total_rev_hi_lim'),\n",
       " (0.0092102354837475028, 'recoveries'),\n",
       " (0.0083950271417270669, 'funded_amnt'),\n",
       " (0.0077903208706304782, 'collection_recovery_fee'),\n",
       " (0.0069311222526386154, 'funded_amnt_inv'),\n",
       " (0.0067462296364204028, 'loan_amnt'),\n",
       " (0.0055201544903710998, 'installment'),\n",
       " (0.0050028592815156399, 'is_Whole'),\n",
       " (0.0031817159014693552, 'total_rec_int'),\n",
       " (0.0023626906105477154, 'term'),\n",
       " (0.00065362492431284718, 'dti'),\n",
       " (0.00056945885218989147, 'int_rate'),\n",
       " (0.00047018503916852668, 'revol_bal'),\n",
       " (0.00042221669667344907, 'all_util'),\n",
       " (0.00040352736613061892, 'grade'),\n",
       " (0.0003906792294283845, 'inq_last_6mths'),\n",
       " (0.00037785218486502701, 'max_bal_bc'),\n",
       " (0.0003730852843941784, 'mths_since_rcnt_il'),\n",
       " (0.00028193423624041115, 'total_bal_il'),\n",
       " (0.00023429343905430851, 'open_il_6m'),\n",
       " (0.0002150875635911581, 'mths_since_last_major_derog'),\n",
       " (0.00021256780719481285, 'total_rec_late_fee'),\n",
       " (0.00019653645895206619, 'open_rv_24m'),\n",
       " (0.00019592449802038176, 'annual_inc'),\n",
       " (0.00018986447829692692, 'is_Verified'),\n",
       " (0.00015971711119955404, 'revol_util'),\n",
       " (0.00010816308337851964, 'total_acc'),\n",
       " (9.1759967611830667e-05, 'il_util'),\n",
       " (8.4941395336066345e-05, 'open_acc'),\n",
       " (7.5978629291647908e-05, 'tot_coll_amt'),\n",
       " (6.4820768039917817e-05, 'open_il_24m'),\n",
       " (5.2470905682252818e-05, 'mths_since_last_delinq'),\n",
       " (5.0648585450197436e-05, 'inq_last_12m'),\n",
       " (4.9840293822893225e-05, 'emp_length'),\n",
       " (4.3015545023587081e-05, 'mths_since_last_record'),\n",
       " (4.0952314693782552e-05, 'pub_rec'),\n",
       " (2.4809723664694472e-05, 'open_rv_12m'),\n",
       " (2.1205334505634856e-05, 'delinq_2yrs'),\n",
       " (1.717095850412448e-05, 'open_acc_6m'),\n",
       " (1.6641854539566965e-05, 'open_il_12m'),\n",
       " (1.1345702632817764e-05, 'total_cu_tl'),\n",
       " (8.5276971829514287e-06, 'is_FullyOwned'),\n",
       " (8.0447405351078252e-06, 'inq_fi'),\n",
       " (3.9742951847169352e-06, 'collections_12_mths_ex_med'),\n",
       " (8.6179897806659505e-07, 'acc_now_delinq'),\n",
       " (9.5113275006885495e-08, 'is_PaymentPlan'),\n",
       " (0.0, 'is_JointVerified'),\n",
       " (0.0, 'is_Individual'),\n",
       " (0.0, 'dti_joint'),\n",
       " (0.0, 'annual_inc_joint')]"
      ]
     },
     "execution_count": 129,
     "metadata": {},
     "output_type": "execute_result"
    }
   ],
   "source": [
    "sorted(zip(model.feature_importances_, train_X.columns.values), reverse = True)"
   ]
  },
  {
   "cell_type": "code",
   "execution_count": 106,
   "metadata": {
    "collapsed": true
   },
   "outputs": [],
   "source": [
    "train_y_hat = model.predict(train_X)"
   ]
  },
  {
   "cell_type": "code",
   "execution_count": 107,
   "metadata": {
    "collapsed": false,
    "scrolled": true
   },
   "outputs": [
    {
     "data": {
      "text/plain": [
       "1.0"
      ]
     },
     "execution_count": 107,
     "metadata": {},
     "output_type": "execute_result"
    }
   ],
   "source": [
    "(train_y_hat == train_y).mean()"
   ]
  },
  {
   "cell_type": "code",
   "execution_count": null,
   "metadata": {
    "collapsed": true
   },
   "outputs": [],
   "source": []
  },
  {
   "cell_type": "code",
   "execution_count": null,
   "metadata": {
    "collapsed": true
   },
   "outputs": [],
   "source": []
  }
 ],
 "metadata": {
  "kernelspec": {
   "display_name": "Python 2",
   "language": "python",
   "name": "python2"
  },
  "language_info": {
   "codemirror_mode": {
    "name": "ipython",
    "version": 2
   },
   "file_extension": ".py",
   "mimetype": "text/x-python",
   "name": "python",
   "nbconvert_exporter": "python",
   "pygments_lexer": "ipython2",
   "version": "2.7.11"
  }
 },
 "nbformat": 4,
 "nbformat_minor": 0
}
