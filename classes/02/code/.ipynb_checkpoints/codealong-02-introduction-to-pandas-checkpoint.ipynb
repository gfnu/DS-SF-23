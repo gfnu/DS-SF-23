{
 "cells": [
  {
   "cell_type": "markdown",
   "metadata": {},
   "source": [
    "# DS-SF-23 | Codealong 02 | Introduction to `pandas`"
   ]
  },
  {
   "cell_type": "markdown",
   "metadata": {},
   "source": [
    "> ## Importing `pandas` (and `NumPy`) into the environment"
   ]
  },
  {
   "cell_type": "markdown",
   "metadata": {},
   "source": [
    "Most (if not all) of the course notebooks will start by importing `pandas` into the environment.  Because much of `pandas` is built on `NumPy`, `NumPy` is also imported alongside.\n",
    "\n",
    "We will use a widely used convention by importing `pandas` and referencing it with a `pd.` prefix.  Likewise, `NumPy` is imported and referenced with a `np.` namespace."
   ]
  },
  {
   "cell_type": "code",
   "execution_count": 2,
   "metadata": {
    "collapsed": false
   },
   "outputs": [],
   "source": [
    "import os\n",
    "import numpy as np\n",
    "import pandas as pd\n",
    "\n",
    "pd.set_option('display.max_rows', 10)\n",
    "pd.set_option('display.notebook_repr_html', True)\n",
    "pd.set_option('display.max_columns', 10)"
   ]
  },
  {
   "cell_type": "markdown",
   "metadata": {},
   "source": [
    "> ## Loading data from files and the Web"
   ]
  },
  {
   "cell_type": "markdown",
   "metadata": {},
   "source": [
    "`pandas` provides powerful facilities for easy retrieval of data from a variety of data sources.  In particular, it provides built-in support for loading data in `.csv` format, a common means of storing structured data in text files."
   ]
  },
  {
   "cell_type": "code",
   "execution_count": 65,
   "metadata": {
    "collapsed": false
   },
   "outputs": [],
   "source": [
    "df = pd.read_csv(os.path.join('..', 'datasets', 'zillow-02-start.csv'))"
   ]
  },
  {
   "cell_type": "code",
   "execution_count": 8,
   "metadata": {
    "collapsed": false
   },
   "outputs": [
    {
     "data": {
      "text/plain": [
       "pandas.core.frame.DataFrame"
      ]
     },
     "execution_count": 8,
     "metadata": {},
     "output_type": "execute_result"
    }
   ],
   "source": [
    "type(df)"
   ]
  },
  {
   "cell_type": "markdown",
   "metadata": {},
   "source": [
    "The result is a `DataFrame`.  A `DataFrame` stores tabular data:"
   ]
  },
  {
   "cell_type": "code",
   "execution_count": 9,
   "metadata": {
    "collapsed": false
   },
   "outputs": [
    {
     "data": {
      "text/html": [
       "<div>\n",
       "<table border=\"1\" class=\"dataframe\">\n",
       "  <thead>\n",
       "    <tr style=\"text-align: right;\">\n",
       "      <th></th>\n",
       "      <th>ID</th>\n",
       "      <th>Address</th>\n",
       "      <th>Latitude</th>\n",
       "      <th>Longitude</th>\n",
       "      <th>DateOfSale</th>\n",
       "      <th>...</th>\n",
       "      <th>Size</th>\n",
       "      <th>SizeUnit</th>\n",
       "      <th>LotSize</th>\n",
       "      <th>LotSizeUnit</th>\n",
       "      <th>BuiltInYear</th>\n",
       "    </tr>\n",
       "  </thead>\n",
       "  <tbody>\n",
       "    <tr>\n",
       "      <th>0</th>\n",
       "      <td>15063471</td>\n",
       "      <td>55 Vandewater St APT 9, San Francisco, CA</td>\n",
       "      <td>37805103</td>\n",
       "      <td>-122412856</td>\n",
       "      <td>12/4/15</td>\n",
       "      <td>...</td>\n",
       "      <td>550.0</td>\n",
       "      <td>sqft</td>\n",
       "      <td>NaN</td>\n",
       "      <td>NaN</td>\n",
       "      <td>1980.0</td>\n",
       "    </tr>\n",
       "    <tr>\n",
       "      <th>1</th>\n",
       "      <td>15063505</td>\n",
       "      <td>740 Francisco St, San Francisco, CA</td>\n",
       "      <td>37804420</td>\n",
       "      <td>-122417389</td>\n",
       "      <td>11/30/15</td>\n",
       "      <td>...</td>\n",
       "      <td>1430.0</td>\n",
       "      <td>sqft</td>\n",
       "      <td>2435.0</td>\n",
       "      <td>sqft</td>\n",
       "      <td>1948.0</td>\n",
       "    </tr>\n",
       "    <tr>\n",
       "      <th>2</th>\n",
       "      <td>15063609</td>\n",
       "      <td>819 Francisco St, San Francisco, CA</td>\n",
       "      <td>37803728</td>\n",
       "      <td>-122419055</td>\n",
       "      <td>11/12/15</td>\n",
       "      <td>...</td>\n",
       "      <td>2040.0</td>\n",
       "      <td>sqft</td>\n",
       "      <td>3920.0</td>\n",
       "      <td>sqft</td>\n",
       "      <td>1976.0</td>\n",
       "    </tr>\n",
       "    <tr>\n",
       "      <th>3</th>\n",
       "      <td>15064044</td>\n",
       "      <td>199 Chestnut St APT 5, San Francisco, CA</td>\n",
       "      <td>37804392</td>\n",
       "      <td>-122406590</td>\n",
       "      <td>12/11/15</td>\n",
       "      <td>...</td>\n",
       "      <td>1060.0</td>\n",
       "      <td>sqft</td>\n",
       "      <td>NaN</td>\n",
       "      <td>NaN</td>\n",
       "      <td>1930.0</td>\n",
       "    </tr>\n",
       "    <tr>\n",
       "      <th>4</th>\n",
       "      <td>15064257</td>\n",
       "      <td>111 Chestnut St APT 403, San Francisco, CA</td>\n",
       "      <td>37804240</td>\n",
       "      <td>-122405509</td>\n",
       "      <td>1/15/16</td>\n",
       "      <td>...</td>\n",
       "      <td>1299.0</td>\n",
       "      <td>sqft</td>\n",
       "      <td>NaN</td>\n",
       "      <td>NaN</td>\n",
       "      <td>1993.0</td>\n",
       "    </tr>\n",
       "    <tr>\n",
       "      <th>...</th>\n",
       "      <td>...</td>\n",
       "      <td>...</td>\n",
       "      <td>...</td>\n",
       "      <td>...</td>\n",
       "      <td>...</td>\n",
       "      <td>...</td>\n",
       "      <td>...</td>\n",
       "      <td>...</td>\n",
       "      <td>...</td>\n",
       "      <td>...</td>\n",
       "      <td>...</td>\n",
       "    </tr>\n",
       "    <tr>\n",
       "      <th>995</th>\n",
       "      <td>2124214951</td>\n",
       "      <td>412 Green St APT A, San Francisco, CA</td>\n",
       "      <td>37800040</td>\n",
       "      <td>-122406100</td>\n",
       "      <td>1/15/16</td>\n",
       "      <td>...</td>\n",
       "      <td>264.0</td>\n",
       "      <td>sqft</td>\n",
       "      <td>NaN</td>\n",
       "      <td>NaN</td>\n",
       "      <td>2012.0</td>\n",
       "    </tr>\n",
       "    <tr>\n",
       "      <th>996</th>\n",
       "      <td>2126960082</td>\n",
       "      <td>355 1st St UNIT 1905, San Francisco, CA</td>\n",
       "      <td>37787029</td>\n",
       "      <td>-122393638</td>\n",
       "      <td>11/20/15</td>\n",
       "      <td>...</td>\n",
       "      <td>691.0</td>\n",
       "      <td>sqft</td>\n",
       "      <td>NaN</td>\n",
       "      <td>NaN</td>\n",
       "      <td>2004.0</td>\n",
       "    </tr>\n",
       "    <tr>\n",
       "      <th>997</th>\n",
       "      <td>2128308939</td>\n",
       "      <td>33 Santa Cruz Ave, San Francisco, CA</td>\n",
       "      <td>37709136</td>\n",
       "      <td>-122465332</td>\n",
       "      <td>12/10/15</td>\n",
       "      <td>...</td>\n",
       "      <td>1738.0</td>\n",
       "      <td>sqft</td>\n",
       "      <td>2299.0</td>\n",
       "      <td>sqft</td>\n",
       "      <td>1976.0</td>\n",
       "    </tr>\n",
       "    <tr>\n",
       "      <th>998</th>\n",
       "      <td>2131957929</td>\n",
       "      <td>1821 Grant Ave, San Francisco, CA</td>\n",
       "      <td>37803760</td>\n",
       "      <td>-122408531</td>\n",
       "      <td>12/15/15</td>\n",
       "      <td>...</td>\n",
       "      <td>1048.0</td>\n",
       "      <td>sqft</td>\n",
       "      <td>NaN</td>\n",
       "      <td>NaN</td>\n",
       "      <td>1975.0</td>\n",
       "    </tr>\n",
       "    <tr>\n",
       "      <th>999</th>\n",
       "      <td>2136213970</td>\n",
       "      <td>1200 Gough St, San Francisco, CA</td>\n",
       "      <td>37784770</td>\n",
       "      <td>-122424100</td>\n",
       "      <td>1/10/16</td>\n",
       "      <td>...</td>\n",
       "      <td>900.0</td>\n",
       "      <td>sqft</td>\n",
       "      <td>NaN</td>\n",
       "      <td>NaN</td>\n",
       "      <td>1966.0</td>\n",
       "    </tr>\n",
       "  </tbody>\n",
       "</table>\n",
       "<p>1000 rows × 15 columns</p>\n",
       "</div>"
      ],
      "text/plain": [
       "             ID                                     Address  Latitude  \\\n",
       "0      15063471   55 Vandewater St APT 9, San Francisco, CA  37805103   \n",
       "1      15063505         740 Francisco St, San Francisco, CA  37804420   \n",
       "2      15063609         819 Francisco St, San Francisco, CA  37803728   \n",
       "3      15064044    199 Chestnut St APT 5, San Francisco, CA  37804392   \n",
       "4      15064257  111 Chestnut St APT 403, San Francisco, CA  37804240   \n",
       "..          ...                                         ...       ...   \n",
       "995  2124214951       412 Green St APT A, San Francisco, CA  37800040   \n",
       "996  2126960082     355 1st St UNIT 1905, San Francisco, CA  37787029   \n",
       "997  2128308939        33 Santa Cruz Ave, San Francisco, CA  37709136   \n",
       "998  2131957929           1821 Grant Ave, San Francisco, CA  37803760   \n",
       "999  2136213970            1200 Gough St, San Francisco, CA  37784770   \n",
       "\n",
       "     Longitude DateOfSale     ...         Size SizeUnit LotSize  LotSizeUnit  \\\n",
       "0   -122412856    12/4/15     ...        550.0     sqft     NaN          NaN   \n",
       "1   -122417389   11/30/15     ...       1430.0     sqft  2435.0         sqft   \n",
       "2   -122419055   11/12/15     ...       2040.0     sqft  3920.0         sqft   \n",
       "3   -122406590   12/11/15     ...       1060.0     sqft     NaN          NaN   \n",
       "4   -122405509    1/15/16     ...       1299.0     sqft     NaN          NaN   \n",
       "..         ...        ...     ...          ...      ...     ...          ...   \n",
       "995 -122406100    1/15/16     ...        264.0     sqft     NaN          NaN   \n",
       "996 -122393638   11/20/15     ...        691.0     sqft     NaN          NaN   \n",
       "997 -122465332   12/10/15     ...       1738.0     sqft  2299.0         sqft   \n",
       "998 -122408531   12/15/15     ...       1048.0     sqft     NaN          NaN   \n",
       "999 -122424100    1/10/16     ...        900.0     sqft     NaN          NaN   \n",
       "\n",
       "     BuiltInYear  \n",
       "0         1980.0  \n",
       "1         1948.0  \n",
       "2         1976.0  \n",
       "3         1930.0  \n",
       "4         1993.0  \n",
       "..           ...  \n",
       "995       2012.0  \n",
       "996       2004.0  \n",
       "997       1976.0  \n",
       "998       1975.0  \n",
       "999       1966.0  \n",
       "\n",
       "[1000 rows x 15 columns]"
      ]
     },
     "execution_count": 9,
     "metadata": {},
     "output_type": "execute_result"
    }
   ],
   "source": [
    "df"
   ]
  },
  {
   "cell_type": "markdown",
   "metadata": {},
   "source": [
    "> ## Selecting columns of a `DataFrame`"
   ]
  },
  {
   "cell_type": "markdown",
   "metadata": {},
   "source": [
    "Selecting data in specific columns of a `DataFrame` is performed by using the `[]` operator.\n",
    "\n",
    "Passing a single integer, or a list of integers, to `[]` will perform a location based lookup of the columns.\n",
    "\n",
    "E.g., columns 5 and 6:"
   ]
  },
  {
   "cell_type": "code",
   "execution_count": 100,
   "metadata": {
    "collapsed": false,
    "scrolled": true
   },
   "outputs": [
    {
     "data": {
      "text/html": [
       "<div>\n",
       "<table border=\"1\" class=\"dataframe\">\n",
       "  <thead>\n",
       "    <tr style=\"text-align: right;\">\n",
       "      <th></th>\n",
       "      <th>SalePrice</th>\n",
       "      <th>SalePriceUnit</th>\n",
       "    </tr>\n",
       "    <tr>\n",
       "      <th>ID</th>\n",
       "      <th></th>\n",
       "      <th></th>\n",
       "    </tr>\n",
       "  </thead>\n",
       "  <tbody>\n",
       "    <tr>\n",
       "      <th>15063471</th>\n",
       "      <td>710000.00</td>\n",
       "      <td>$</td>\n",
       "    </tr>\n",
       "    <tr>\n",
       "      <th>15063505</th>\n",
       "      <td>2.15</td>\n",
       "      <td>$M</td>\n",
       "    </tr>\n",
       "    <tr>\n",
       "      <th>15063609</th>\n",
       "      <td>5.60</td>\n",
       "      <td>$M</td>\n",
       "    </tr>\n",
       "    <tr>\n",
       "      <th>15064044</th>\n",
       "      <td>1.50</td>\n",
       "      <td>$M</td>\n",
       "    </tr>\n",
       "    <tr>\n",
       "      <th>15064257</th>\n",
       "      <td>970000.00</td>\n",
       "      <td>$</td>\n",
       "    </tr>\n",
       "    <tr>\n",
       "      <th>...</th>\n",
       "      <td>...</td>\n",
       "      <td>...</td>\n",
       "    </tr>\n",
       "    <tr>\n",
       "      <th>2124214951</th>\n",
       "      <td>390000.00</td>\n",
       "      <td>$</td>\n",
       "    </tr>\n",
       "    <tr>\n",
       "      <th>2126960082</th>\n",
       "      <td>860000.00</td>\n",
       "      <td>$</td>\n",
       "    </tr>\n",
       "    <tr>\n",
       "      <th>2128308939</th>\n",
       "      <td>830000.00</td>\n",
       "      <td>$</td>\n",
       "    </tr>\n",
       "    <tr>\n",
       "      <th>2131957929</th>\n",
       "      <td>835000.00</td>\n",
       "      <td>$</td>\n",
       "    </tr>\n",
       "    <tr>\n",
       "      <th>2136213970</th>\n",
       "      <td>825000.00</td>\n",
       "      <td>$</td>\n",
       "    </tr>\n",
       "  </tbody>\n",
       "</table>\n",
       "<p>1000 rows × 2 columns</p>\n",
       "</div>"
      ],
      "text/plain": [
       "            SalePrice SalePriceUnit\n",
       "ID                                 \n",
       "15063471    710000.00             $\n",
       "15063505         2.15            $M\n",
       "15063609         5.60            $M\n",
       "15064044         1.50            $M\n",
       "15064257    970000.00             $\n",
       "...               ...           ...\n",
       "2124214951  390000.00             $\n",
       "2126960082  860000.00             $\n",
       "2128308939  830000.00             $\n",
       "2131957929  835000.00             $\n",
       "2136213970  825000.00             $\n",
       "\n",
       "[1000 rows x 2 columns]"
      ]
     },
     "execution_count": 100,
     "metadata": {},
     "output_type": "execute_result"
    }
   ],
   "source": [
    "df[[5, 6]]"
   ]
  },
  {
   "cell_type": "code",
   "execution_count": 20,
   "metadata": {
    "collapsed": false
   },
   "outputs": [
    {
     "data": {
      "text/plain": [
       "pandas.core.frame.DataFrame"
      ]
     },
     "execution_count": 20,
     "metadata": {},
     "output_type": "execute_result"
    }
   ],
   "source": [
    "type(df[ [5, 6] ])"
   ]
  },
  {
   "cell_type": "markdown",
   "metadata": {},
   "source": [
    "The list can contain a single integer.\n",
    "\n",
    "E.g., column 7 only:"
   ]
  },
  {
   "cell_type": "code",
   "execution_count": 101,
   "metadata": {
    "collapsed": false
   },
   "outputs": [
    {
     "data": {
      "text/html": [
       "<div>\n",
       "<table border=\"1\" class=\"dataframe\">\n",
       "  <thead>\n",
       "    <tr style=\"text-align: right;\">\n",
       "      <th></th>\n",
       "      <th>IsAStudio</th>\n",
       "    </tr>\n",
       "    <tr>\n",
       "      <th>ID</th>\n",
       "      <th></th>\n",
       "    </tr>\n",
       "  </thead>\n",
       "  <tbody>\n",
       "    <tr>\n",
       "      <th>15063471</th>\n",
       "      <td>False</td>\n",
       "    </tr>\n",
       "    <tr>\n",
       "      <th>15063505</th>\n",
       "      <td>False</td>\n",
       "    </tr>\n",
       "    <tr>\n",
       "      <th>15063609</th>\n",
       "      <td>False</td>\n",
       "    </tr>\n",
       "    <tr>\n",
       "      <th>15064044</th>\n",
       "      <td>False</td>\n",
       "    </tr>\n",
       "    <tr>\n",
       "      <th>15064257</th>\n",
       "      <td>False</td>\n",
       "    </tr>\n",
       "    <tr>\n",
       "      <th>...</th>\n",
       "      <td>...</td>\n",
       "    </tr>\n",
       "    <tr>\n",
       "      <th>2124214951</th>\n",
       "      <td>True</td>\n",
       "    </tr>\n",
       "    <tr>\n",
       "      <th>2126960082</th>\n",
       "      <td>False</td>\n",
       "    </tr>\n",
       "    <tr>\n",
       "      <th>2128308939</th>\n",
       "      <td>False</td>\n",
       "    </tr>\n",
       "    <tr>\n",
       "      <th>2131957929</th>\n",
       "      <td>False</td>\n",
       "    </tr>\n",
       "    <tr>\n",
       "      <th>2136213970</th>\n",
       "      <td>False</td>\n",
       "    </tr>\n",
       "  </tbody>\n",
       "</table>\n",
       "<p>1000 rows × 1 columns</p>\n",
       "</div>"
      ],
      "text/plain": [
       "           IsAStudio\n",
       "ID                  \n",
       "15063471       False\n",
       "15063505       False\n",
       "15063609       False\n",
       "15064044       False\n",
       "15064257       False\n",
       "...              ...\n",
       "2124214951      True\n",
       "2126960082     False\n",
       "2128308939     False\n",
       "2131957929     False\n",
       "2136213970     False\n",
       "\n",
       "[1000 rows x 1 columns]"
      ]
     },
     "execution_count": 101,
     "metadata": {},
     "output_type": "execute_result"
    }
   ],
   "source": [
    "df[[7]]"
   ]
  },
  {
   "cell_type": "code",
   "execution_count": 107,
   "metadata": {
    "collapsed": false
   },
   "outputs": [
    {
     "data": {
      "text/html": [
       "<div>\n",
       "<table border=\"1\" class=\"dataframe\">\n",
       "  <thead>\n",
       "    <tr style=\"text-align: right;\">\n",
       "      <th></th>\n",
       "      <th>IsAStudio</th>\n",
       "    </tr>\n",
       "    <tr>\n",
       "      <th>ID</th>\n",
       "      <th></th>\n",
       "    </tr>\n",
       "  </thead>\n",
       "  <tbody>\n",
       "    <tr>\n",
       "      <th>15063471</th>\n",
       "      <td>False</td>\n",
       "    </tr>\n",
       "    <tr>\n",
       "      <th>15063505</th>\n",
       "      <td>False</td>\n",
       "    </tr>\n",
       "    <tr>\n",
       "      <th>15063609</th>\n",
       "      <td>False</td>\n",
       "    </tr>\n",
       "    <tr>\n",
       "      <th>15064044</th>\n",
       "      <td>False</td>\n",
       "    </tr>\n",
       "    <tr>\n",
       "      <th>15064257</th>\n",
       "      <td>False</td>\n",
       "    </tr>\n",
       "    <tr>\n",
       "      <th>...</th>\n",
       "      <td>...</td>\n",
       "    </tr>\n",
       "    <tr>\n",
       "      <th>2124214951</th>\n",
       "      <td>True</td>\n",
       "    </tr>\n",
       "    <tr>\n",
       "      <th>2126960082</th>\n",
       "      <td>False</td>\n",
       "    </tr>\n",
       "    <tr>\n",
       "      <th>2128308939</th>\n",
       "      <td>False</td>\n",
       "    </tr>\n",
       "    <tr>\n",
       "      <th>2131957929</th>\n",
       "      <td>False</td>\n",
       "    </tr>\n",
       "    <tr>\n",
       "      <th>2136213970</th>\n",
       "      <td>False</td>\n",
       "    </tr>\n",
       "  </tbody>\n",
       "</table>\n",
       "<p>1000 rows × 1 columns</p>\n",
       "</div>"
      ],
      "text/plain": [
       "           IsAStudio\n",
       "ID                  \n",
       "15063471       False\n",
       "15063505       False\n",
       "15063609       False\n",
       "15064044       False\n",
       "15064257       False\n",
       "...              ...\n",
       "2124214951      True\n",
       "2126960082     False\n",
       "2128308939     False\n",
       "2131957929     False\n",
       "2136213970     False\n",
       "\n",
       "[1000 rows x 1 columns]"
      ]
     },
     "execution_count": 107,
     "metadata": {},
     "output_type": "execute_result"
    }
   ],
   "source": [
    "df[['IsAStudio']]"
   ]
  },
  {
   "cell_type": "code",
   "execution_count": 108,
   "metadata": {
    "collapsed": false
   },
   "outputs": [
    {
     "data": {
      "text/plain": [
       "pandas.core.frame.DataFrame"
      ]
     },
     "execution_count": 108,
     "metadata": {},
     "output_type": "execute_result"
    }
   ],
   "source": [
    "type(df[ [7] ])"
   ]
  },
  {
   "cell_type": "markdown",
   "metadata": {},
   "source": [
    "If the values passed to `[]` are non-integers, the `DataFrame` will attempt to match them to those in the `columns` index."
   ]
  },
  {
   "cell_type": "code",
   "execution_count": 25,
   "metadata": {
    "collapsed": false,
    "scrolled": true
   },
   "outputs": [
    {
     "data": {
      "text/plain": [
       "Index([u'ID', u'Address', u'Latitude', u'Longitude', u'DateOfSale',\n",
       "       u'SalePrice', u'SalePriceUnit', u'IsAStudio', u'BedCount', u'BathCount',\n",
       "       u'Size', u'SizeUnit', u'LotSize', u'LotSizeUnit', u'BuiltInYear'],\n",
       "      dtype='object')"
      ]
     },
     "execution_count": 25,
     "metadata": {},
     "output_type": "execute_result"
    }
   ],
   "source": [
    "df.columns"
   ]
  },
  {
   "cell_type": "code",
   "execution_count": 109,
   "metadata": {
    "collapsed": false
   },
   "outputs": [
    {
     "data": {
      "text/html": [
       "<div>\n",
       "<table border=\"1\" class=\"dataframe\">\n",
       "  <thead>\n",
       "    <tr style=\"text-align: right;\">\n",
       "      <th></th>\n",
       "      <th>SalePrice</th>\n",
       "      <th>IsAStudio</th>\n",
       "    </tr>\n",
       "    <tr>\n",
       "      <th>ID</th>\n",
       "      <th></th>\n",
       "      <th></th>\n",
       "    </tr>\n",
       "  </thead>\n",
       "  <tbody>\n",
       "    <tr>\n",
       "      <th>15063471</th>\n",
       "      <td>710000.00</td>\n",
       "      <td>False</td>\n",
       "    </tr>\n",
       "    <tr>\n",
       "      <th>15063505</th>\n",
       "      <td>2.15</td>\n",
       "      <td>False</td>\n",
       "    </tr>\n",
       "    <tr>\n",
       "      <th>15063609</th>\n",
       "      <td>5.60</td>\n",
       "      <td>False</td>\n",
       "    </tr>\n",
       "    <tr>\n",
       "      <th>15064044</th>\n",
       "      <td>1.50</td>\n",
       "      <td>False</td>\n",
       "    </tr>\n",
       "    <tr>\n",
       "      <th>15064257</th>\n",
       "      <td>970000.00</td>\n",
       "      <td>False</td>\n",
       "    </tr>\n",
       "    <tr>\n",
       "      <th>...</th>\n",
       "      <td>...</td>\n",
       "      <td>...</td>\n",
       "    </tr>\n",
       "    <tr>\n",
       "      <th>2124214951</th>\n",
       "      <td>390000.00</td>\n",
       "      <td>True</td>\n",
       "    </tr>\n",
       "    <tr>\n",
       "      <th>2126960082</th>\n",
       "      <td>860000.00</td>\n",
       "      <td>False</td>\n",
       "    </tr>\n",
       "    <tr>\n",
       "      <th>2128308939</th>\n",
       "      <td>830000.00</td>\n",
       "      <td>False</td>\n",
       "    </tr>\n",
       "    <tr>\n",
       "      <th>2131957929</th>\n",
       "      <td>835000.00</td>\n",
       "      <td>False</td>\n",
       "    </tr>\n",
       "    <tr>\n",
       "      <th>2136213970</th>\n",
       "      <td>825000.00</td>\n",
       "      <td>False</td>\n",
       "    </tr>\n",
       "  </tbody>\n",
       "</table>\n",
       "<p>1000 rows × 2 columns</p>\n",
       "</div>"
      ],
      "text/plain": [
       "            SalePrice IsAStudio\n",
       "ID                             \n",
       "15063471    710000.00     False\n",
       "15063505         2.15     False\n",
       "15063609         5.60     False\n",
       "15064044         1.50     False\n",
       "15064257    970000.00     False\n",
       "...               ...       ...\n",
       "2124214951  390000.00      True\n",
       "2126960082  860000.00     False\n",
       "2128308939  830000.00     False\n",
       "2131957929  835000.00     False\n",
       "2136213970  825000.00     False\n",
       "\n",
       "[1000 rows x 2 columns]"
      ]
     },
     "execution_count": 109,
     "metadata": {},
     "output_type": "execute_result"
    }
   ],
   "source": [
    "df[ ['SalePrice', 'IsAStudio'] ]"
   ]
  },
  {
   "cell_type": "markdown",
   "metadata": {},
   "source": [
    "However, you cannot mix integers and non-integers."
   ]
  },
  {
   "cell_type": "code",
   "execution_count": 70,
   "metadata": {
    "collapsed": false
   },
   "outputs": [
    {
     "data": {
      "text/html": [
       "<div>\n",
       "<table border=\"1\" class=\"dataframe\">\n",
       "  <thead>\n",
       "    <tr style=\"text-align: right;\">\n",
       "      <th></th>\n",
       "      <th>ID</th>\n",
       "      <th>Address</th>\n",
       "      <th>Latitude</th>\n",
       "      <th>Longitude</th>\n",
       "      <th>DateOfSale</th>\n",
       "      <th>...</th>\n",
       "      <th>Size</th>\n",
       "      <th>SizeUnit</th>\n",
       "      <th>LotSize</th>\n",
       "      <th>LotSizeUnit</th>\n",
       "      <th>BuiltInYear</th>\n",
       "    </tr>\n",
       "    <tr>\n",
       "      <th>ID</th>\n",
       "      <th></th>\n",
       "      <th></th>\n",
       "      <th></th>\n",
       "      <th></th>\n",
       "      <th></th>\n",
       "      <th></th>\n",
       "      <th></th>\n",
       "      <th></th>\n",
       "      <th></th>\n",
       "      <th></th>\n",
       "      <th></th>\n",
       "    </tr>\n",
       "  </thead>\n",
       "  <tbody>\n",
       "    <tr>\n",
       "      <th>15063471</th>\n",
       "      <td>15063471</td>\n",
       "      <td>55 Vandewater St APT 9, San Francisco, CA</td>\n",
       "      <td>37805103</td>\n",
       "      <td>-122412856</td>\n",
       "      <td>12/4/15</td>\n",
       "      <td>...</td>\n",
       "      <td>550.0</td>\n",
       "      <td>sqft</td>\n",
       "      <td>NaN</td>\n",
       "      <td>NaN</td>\n",
       "      <td>1980.0</td>\n",
       "    </tr>\n",
       "    <tr>\n",
       "      <th>15063505</th>\n",
       "      <td>15063505</td>\n",
       "      <td>740 Francisco St, San Francisco, CA</td>\n",
       "      <td>37804420</td>\n",
       "      <td>-122417389</td>\n",
       "      <td>11/30/15</td>\n",
       "      <td>...</td>\n",
       "      <td>1430.0</td>\n",
       "      <td>sqft</td>\n",
       "      <td>2435.0</td>\n",
       "      <td>sqft</td>\n",
       "      <td>1948.0</td>\n",
       "    </tr>\n",
       "  </tbody>\n",
       "</table>\n",
       "<p>2 rows × 15 columns</p>\n",
       "</div>"
      ],
      "text/plain": [
       "                ID                                    Address  Latitude  \\\n",
       "ID                                                                        \n",
       "15063471  15063471  55 Vandewater St APT 9, San Francisco, CA  37805103   \n",
       "15063505  15063505        740 Francisco St, San Francisco, CA  37804420   \n",
       "\n",
       "          Longitude DateOfSale     ...         Size SizeUnit LotSize  \\\n",
       "ID                                 ...                                 \n",
       "15063471 -122412856    12/4/15     ...        550.0     sqft     NaN   \n",
       "15063505 -122417389   11/30/15     ...       1430.0     sqft  2435.0   \n",
       "\n",
       "          LotSizeUnit  BuiltInYear  \n",
       "ID                                  \n",
       "15063471          NaN       1980.0  \n",
       "15063505         sqft       1948.0  \n",
       "\n",
       "[2 rows x 15 columns]"
      ]
     },
     "execution_count": 70,
     "metadata": {},
     "output_type": "execute_result"
    }
   ],
   "source": [
    "df.head(2)"
   ]
  },
  {
   "cell_type": "code",
   "execution_count": 31,
   "metadata": {
    "collapsed": false
   },
   "outputs": [
    {
     "data": {
      "text/html": [
       "<div>\n",
       "<table border=\"1\" class=\"dataframe\">\n",
       "  <thead>\n",
       "    <tr style=\"text-align: right;\">\n",
       "      <th></th>\n",
       "      <th>SalePrice</th>\n",
       "      <th>Longitude</th>\n",
       "    </tr>\n",
       "  </thead>\n",
       "  <tbody>\n",
       "    <tr>\n",
       "      <th>0</th>\n",
       "      <td>710000.00</td>\n",
       "      <td>-122412856</td>\n",
       "    </tr>\n",
       "    <tr>\n",
       "      <th>1</th>\n",
       "      <td>2.15</td>\n",
       "      <td>-122417389</td>\n",
       "    </tr>\n",
       "    <tr>\n",
       "      <th>2</th>\n",
       "      <td>5.60</td>\n",
       "      <td>-122419055</td>\n",
       "    </tr>\n",
       "    <tr>\n",
       "      <th>3</th>\n",
       "      <td>1.50</td>\n",
       "      <td>-122406590</td>\n",
       "    </tr>\n",
       "    <tr>\n",
       "      <th>4</th>\n",
       "      <td>970000.00</td>\n",
       "      <td>-122405509</td>\n",
       "    </tr>\n",
       "    <tr>\n",
       "      <th>...</th>\n",
       "      <td>...</td>\n",
       "      <td>...</td>\n",
       "    </tr>\n",
       "    <tr>\n",
       "      <th>995</th>\n",
       "      <td>390000.00</td>\n",
       "      <td>-122406100</td>\n",
       "    </tr>\n",
       "    <tr>\n",
       "      <th>996</th>\n",
       "      <td>860000.00</td>\n",
       "      <td>-122393638</td>\n",
       "    </tr>\n",
       "    <tr>\n",
       "      <th>997</th>\n",
       "      <td>830000.00</td>\n",
       "      <td>-122465332</td>\n",
       "    </tr>\n",
       "    <tr>\n",
       "      <th>998</th>\n",
       "      <td>835000.00</td>\n",
       "      <td>-122408531</td>\n",
       "    </tr>\n",
       "    <tr>\n",
       "      <th>999</th>\n",
       "      <td>825000.00</td>\n",
       "      <td>-122424100</td>\n",
       "    </tr>\n",
       "  </tbody>\n",
       "</table>\n",
       "<p>1000 rows × 2 columns</p>\n",
       "</div>"
      ],
      "text/plain": [
       "     SalePrice  Longitude\n",
       "0    710000.00 -122412856\n",
       "1         2.15 -122417389\n",
       "2         5.60 -122419055\n",
       "3         1.50 -122406590\n",
       "4    970000.00 -122405509\n",
       "..         ...        ...\n",
       "995  390000.00 -122406100\n",
       "996  860000.00 -122393638\n",
       "997  830000.00 -122465332\n",
       "998  835000.00 -122408531\n",
       "999  825000.00 -122424100\n",
       "\n",
       "[1000 rows x 2 columns]"
      ]
     },
     "execution_count": 31,
     "metadata": {},
     "output_type": "execute_result"
    }
   ],
   "source": [
    "df[ ['SalePrice', 'Longitude'] ]"
   ]
  },
  {
   "cell_type": "markdown",
   "metadata": {
    "collapsed": true
   },
   "source": [
    "Not passing a list always results in a value based lookup of the column:"
   ]
  },
  {
   "cell_type": "code",
   "execution_count": 74,
   "metadata": {
    "collapsed": false
   },
   "outputs": [
    {
     "data": {
      "text/plain": [
       "ID\n",
       "15063471       55 Vandewater St APT 9, San Francisco, CA\n",
       "15063505             740 Francisco St, San Francisco, CA\n",
       "15063609             819 Francisco St, San Francisco, CA\n",
       "15064044        199 Chestnut St APT 5, San Francisco, CA\n",
       "15064257      111 Chestnut St APT 403, San Francisco, CA\n",
       "                                 ...                    \n",
       "2124214951         412 Green St APT A, San Francisco, CA\n",
       "2126960082       355 1st St UNIT 1905, San Francisco, CA\n",
       "2128308939          33 Santa Cruz Ave, San Francisco, CA\n",
       "2131957929             1821 Grant Ave, San Francisco, CA\n",
       "2136213970              1200 Gough St, San Francisco, CA\n",
       "Name: Address, dtype: object"
      ]
     },
     "execution_count": 74,
     "metadata": {},
     "output_type": "execute_result"
    }
   ],
   "source": [
    "df['Address']"
   ]
  },
  {
   "cell_type": "markdown",
   "metadata": {},
   "source": [
    "And the result is a `Series`:"
   ]
  },
  {
   "cell_type": "code",
   "execution_count": 25,
   "metadata": {
    "collapsed": false
   },
   "outputs": [
    {
     "data": {
      "text/plain": [
       "pandas.core.series.Series"
      ]
     },
     "execution_count": 25,
     "metadata": {},
     "output_type": "execute_result"
    }
   ],
   "source": [
    "type(df['Address'])"
   ]
  },
  {
   "cell_type": "markdown",
   "metadata": {},
   "source": [
    "Columns can also be retrieved using \"attribute access\" as `DataFrames` adds a property for each column with the names of the properties as the names of the columns.  Note that this will not work for columns that have spaces or dots in their name."
   ]
  },
  {
   "cell_type": "code",
   "execution_count": 26,
   "metadata": {
    "collapsed": false
   },
   "outputs": [
    {
     "data": {
      "text/plain": [
       "0      55 Vandewater St APT 9, San Francisco, CA\n",
       "1            740 Francisco St, San Francisco, CA\n",
       "2            819 Francisco St, San Francisco, CA\n",
       "                         ...                    \n",
       "997         33 Santa Cruz Ave, San Francisco, CA\n",
       "998            1821 Grant Ave, San Francisco, CA\n",
       "999             1200 Gough St, San Francisco, CA\n",
       "Name: Address, dtype: object"
      ]
     },
     "execution_count": 26,
     "metadata": {},
     "output_type": "execute_result"
    }
   ],
   "source": [
    "df.Address"
   ]
  },
  {
   "cell_type": "markdown",
   "metadata": {},
   "source": [
    "The columns index again..."
   ]
  },
  {
   "cell_type": "code",
   "execution_count": 31,
   "metadata": {
    "collapsed": false
   },
   "outputs": [
    {
     "data": {
      "text/plain": [
       "Index([u'ID', u'Address', u'Latitude', u'Longitude', u'DateOfSale',\n",
       "       u'SalePrice', u'SalePriceUnit', u'IsAStudio', u'BedCount', u'BathCount',\n",
       "       u'Size', u'SizeUnit', u'LotSize', u'LotSizeUnit', u'BuiltInYear'],\n",
       "      dtype='object')"
      ]
     },
     "execution_count": 31,
     "metadata": {},
     "output_type": "execute_result"
    }
   ],
   "source": [
    "df.columns"
   ]
  },
  {
   "cell_type": "markdown",
   "metadata": {},
   "source": [
    "To find the zero-based location of a column, use the `.get_loc()` method of the `columns` index.  E.g.,"
   ]
  },
  {
   "cell_type": "code",
   "execution_count": 38,
   "metadata": {
    "collapsed": false
   },
   "outputs": [
    {
     "data": {
      "text/plain": [
       "7"
      ]
     },
     "execution_count": 38,
     "metadata": {},
     "output_type": "execute_result"
    }
   ],
   "source": [
    "df.columns.get_loc('IsAStudio') #index  for columns"
   ]
  },
  {
   "cell_type": "code",
   "execution_count": 40,
   "metadata": {
    "collapsed": false
   },
   "outputs": [
    {
     "data": {
      "text/html": [
       "<div>\n",
       "<table border=\"1\" class=\"dataframe\">\n",
       "  <thead>\n",
       "    <tr style=\"text-align: right;\">\n",
       "      <th></th>\n",
       "      <th>IsAStudio</th>\n",
       "    </tr>\n",
       "  </thead>\n",
       "  <tbody>\n",
       "    <tr>\n",
       "      <th>0</th>\n",
       "      <td>False</td>\n",
       "    </tr>\n",
       "    <tr>\n",
       "      <th>1</th>\n",
       "      <td>False</td>\n",
       "    </tr>\n",
       "    <tr>\n",
       "      <th>2</th>\n",
       "      <td>False</td>\n",
       "    </tr>\n",
       "    <tr>\n",
       "      <th>3</th>\n",
       "      <td>False</td>\n",
       "    </tr>\n",
       "    <tr>\n",
       "      <th>4</th>\n",
       "      <td>False</td>\n",
       "    </tr>\n",
       "    <tr>\n",
       "      <th>...</th>\n",
       "      <td>...</td>\n",
       "    </tr>\n",
       "    <tr>\n",
       "      <th>995</th>\n",
       "      <td>True</td>\n",
       "    </tr>\n",
       "    <tr>\n",
       "      <th>996</th>\n",
       "      <td>False</td>\n",
       "    </tr>\n",
       "    <tr>\n",
       "      <th>997</th>\n",
       "      <td>False</td>\n",
       "    </tr>\n",
       "    <tr>\n",
       "      <th>998</th>\n",
       "      <td>False</td>\n",
       "    </tr>\n",
       "    <tr>\n",
       "      <th>999</th>\n",
       "      <td>False</td>\n",
       "    </tr>\n",
       "  </tbody>\n",
       "</table>\n",
       "<p>1000 rows × 1 columns</p>\n",
       "</div>"
      ],
      "text/plain": [
       "    IsAStudio\n",
       "0       False\n",
       "1       False\n",
       "2       False\n",
       "3       False\n",
       "4       False\n",
       "..        ...\n",
       "995      True\n",
       "996     False\n",
       "997     False\n",
       "998     False\n",
       "999     False\n",
       "\n",
       "[1000 rows x 1 columns]"
      ]
     },
     "execution_count": 40,
     "metadata": {},
     "output_type": "execute_result"
    }
   ],
   "source": [
    "df[ [df.columns.get_loc('IsAStudio')] ] "
   ]
  },
  {
   "cell_type": "code",
   "execution_count": 37,
   "metadata": {
    "collapsed": false
   },
   "outputs": [
    {
     "data": {
      "text/html": [
       "<div>\n",
       "<table border=\"1\" class=\"dataframe\">\n",
       "  <thead>\n",
       "    <tr style=\"text-align: right;\">\n",
       "      <th></th>\n",
       "      <th>BedCount</th>\n",
       "    </tr>\n",
       "  </thead>\n",
       "  <tbody>\n",
       "    <tr>\n",
       "      <th>0</th>\n",
       "      <td>1.0</td>\n",
       "    </tr>\n",
       "    <tr>\n",
       "      <th>1</th>\n",
       "      <td>NaN</td>\n",
       "    </tr>\n",
       "    <tr>\n",
       "      <th>2</th>\n",
       "      <td>2.0</td>\n",
       "    </tr>\n",
       "    <tr>\n",
       "      <th>3</th>\n",
       "      <td>1.0</td>\n",
       "    </tr>\n",
       "    <tr>\n",
       "      <th>4</th>\n",
       "      <td>2.0</td>\n",
       "    </tr>\n",
       "    <tr>\n",
       "      <th>...</th>\n",
       "      <td>...</td>\n",
       "    </tr>\n",
       "    <tr>\n",
       "      <th>995</th>\n",
       "      <td>NaN</td>\n",
       "    </tr>\n",
       "    <tr>\n",
       "      <th>996</th>\n",
       "      <td>1.0</td>\n",
       "    </tr>\n",
       "    <tr>\n",
       "      <th>997</th>\n",
       "      <td>3.0</td>\n",
       "    </tr>\n",
       "    <tr>\n",
       "      <th>998</th>\n",
       "      <td>2.0</td>\n",
       "    </tr>\n",
       "    <tr>\n",
       "      <th>999</th>\n",
       "      <td>1.0</td>\n",
       "    </tr>\n",
       "  </tbody>\n",
       "</table>\n",
       "<p>1000 rows × 1 columns</p>\n",
       "</div>"
      ],
      "text/plain": [
       "     BedCount\n",
       "0         1.0\n",
       "1         NaN\n",
       "2         2.0\n",
       "3         1.0\n",
       "4         2.0\n",
       "..        ...\n",
       "995       NaN\n",
       "996       1.0\n",
       "997       3.0\n",
       "998       2.0\n",
       "999       1.0\n",
       "\n",
       "[1000 rows x 1 columns]"
      ]
     },
     "execution_count": 37,
     "metadata": {},
     "output_type": "execute_result"
    }
   ],
   "source": [
    "df [['BedCount'] ]"
   ]
  },
  {
   "cell_type": "markdown",
   "metadata": {
    "collapsed": true
   },
   "source": [
    "> ## Selecting rows and values of a `DataFrame` using the index"
   ]
  },
  {
   "cell_type": "markdown",
   "metadata": {
    "collapsed": true
   },
   "source": [
    "### Slicing using the `[]` operator"
   ]
  },
  {
   "cell_type": "markdown",
   "metadata": {},
   "source": [
    "E.g., first five rows:"
   ]
  },
  {
   "cell_type": "code",
   "execution_count": 48,
   "metadata": {
    "collapsed": false
   },
   "outputs": [
    {
     "data": {
      "text/html": [
       "<div>\n",
       "<table border=\"1\" class=\"dataframe\">\n",
       "  <thead>\n",
       "    <tr style=\"text-align: right;\">\n",
       "      <th></th>\n",
       "      <th>ID</th>\n",
       "      <th>Address</th>\n",
       "      <th>Latitude</th>\n",
       "      <th>Longitude</th>\n",
       "      <th>DateOfSale</th>\n",
       "      <th>...</th>\n",
       "      <th>Size</th>\n",
       "      <th>SizeUnit</th>\n",
       "      <th>LotSize</th>\n",
       "      <th>LotSizeUnit</th>\n",
       "      <th>BuiltInYear</th>\n",
       "    </tr>\n",
       "  </thead>\n",
       "  <tbody>\n",
       "    <tr>\n",
       "      <th>0</th>\n",
       "      <td>15063471</td>\n",
       "      <td>55 Vandewater St APT 9, San Francisco, CA</td>\n",
       "      <td>37805103</td>\n",
       "      <td>-122412856</td>\n",
       "      <td>12/4/15</td>\n",
       "      <td>...</td>\n",
       "      <td>550.0</td>\n",
       "      <td>sqft</td>\n",
       "      <td>NaN</td>\n",
       "      <td>NaN</td>\n",
       "      <td>1980.0</td>\n",
       "    </tr>\n",
       "    <tr>\n",
       "      <th>1</th>\n",
       "      <td>15063505</td>\n",
       "      <td>740 Francisco St, San Francisco, CA</td>\n",
       "      <td>37804420</td>\n",
       "      <td>-122417389</td>\n",
       "      <td>11/30/15</td>\n",
       "      <td>...</td>\n",
       "      <td>1430.0</td>\n",
       "      <td>sqft</td>\n",
       "      <td>2435.0</td>\n",
       "      <td>sqft</td>\n",
       "      <td>1948.0</td>\n",
       "    </tr>\n",
       "    <tr>\n",
       "      <th>2</th>\n",
       "      <td>15063609</td>\n",
       "      <td>819 Francisco St, San Francisco, CA</td>\n",
       "      <td>37803728</td>\n",
       "      <td>-122419055</td>\n",
       "      <td>11/12/15</td>\n",
       "      <td>...</td>\n",
       "      <td>2040.0</td>\n",
       "      <td>sqft</td>\n",
       "      <td>3920.0</td>\n",
       "      <td>sqft</td>\n",
       "      <td>1976.0</td>\n",
       "    </tr>\n",
       "    <tr>\n",
       "      <th>3</th>\n",
       "      <td>15064044</td>\n",
       "      <td>199 Chestnut St APT 5, San Francisco, CA</td>\n",
       "      <td>37804392</td>\n",
       "      <td>-122406590</td>\n",
       "      <td>12/11/15</td>\n",
       "      <td>...</td>\n",
       "      <td>1060.0</td>\n",
       "      <td>sqft</td>\n",
       "      <td>NaN</td>\n",
       "      <td>NaN</td>\n",
       "      <td>1930.0</td>\n",
       "    </tr>\n",
       "    <tr>\n",
       "      <th>4</th>\n",
       "      <td>15064257</td>\n",
       "      <td>111 Chestnut St APT 403, San Francisco, CA</td>\n",
       "      <td>37804240</td>\n",
       "      <td>-122405509</td>\n",
       "      <td>1/15/16</td>\n",
       "      <td>...</td>\n",
       "      <td>1299.0</td>\n",
       "      <td>sqft</td>\n",
       "      <td>NaN</td>\n",
       "      <td>NaN</td>\n",
       "      <td>1993.0</td>\n",
       "    </tr>\n",
       "  </tbody>\n",
       "</table>\n",
       "<p>5 rows × 15 columns</p>\n",
       "</div>"
      ],
      "text/plain": [
       "         ID                                     Address  Latitude  Longitude  \\\n",
       "0  15063471   55 Vandewater St APT 9, San Francisco, CA  37805103 -122412856   \n",
       "1  15063505         740 Francisco St, San Francisco, CA  37804420 -122417389   \n",
       "2  15063609         819 Francisco St, San Francisco, CA  37803728 -122419055   \n",
       "3  15064044    199 Chestnut St APT 5, San Francisco, CA  37804392 -122406590   \n",
       "4  15064257  111 Chestnut St APT 403, San Francisco, CA  37804240 -122405509   \n",
       "\n",
       "  DateOfSale     ...         Size SizeUnit LotSize  LotSizeUnit  BuiltInYear  \n",
       "0    12/4/15     ...        550.0     sqft     NaN          NaN       1980.0  \n",
       "1   11/30/15     ...       1430.0     sqft  2435.0         sqft       1948.0  \n",
       "2   11/12/15     ...       2040.0     sqft  3920.0         sqft       1976.0  \n",
       "3   12/11/15     ...       1060.0     sqft     NaN          NaN       1930.0  \n",
       "4    1/15/16     ...       1299.0     sqft     NaN          NaN       1993.0  \n",
       "\n",
       "[5 rows x 15 columns]"
      ]
     },
     "execution_count": 48,
     "metadata": {},
     "output_type": "execute_result"
    }
   ],
   "source": [
    "df[:5] #cutting rows\n"
   ]
  },
  {
   "cell_type": "code",
   "execution_count": 44,
   "metadata": {
    "collapsed": false
   },
   "outputs": [
    {
     "data": {
      "text/plain": [
       "pandas.core.frame.DataFrame"
      ]
     },
     "execution_count": 44,
     "metadata": {},
     "output_type": "execute_result"
    }
   ],
   "source": [
    "type(df[:5])"
   ]
  },
  {
   "cell_type": "markdown",
   "metadata": {
    "collapsed": true
   },
   "source": [
    "> ## Selecting rows by index label and location: `.loc[]` and `.iloc[]`"
   ]
  },
  {
   "cell_type": "markdown",
   "metadata": {},
   "source": [
    "Until now, the index of the `DataFrame` is a numerical starting from 0 but you can specify which column(s) should be in the index.  E.g., `ID`:"
   ]
  },
  {
   "cell_type": "code",
   "execution_count": 66,
   "metadata": {
    "collapsed": false
   },
   "outputs": [],
   "source": [
    "df = df.set_index('ID', drop = False)"
   ]
  },
  {
   "cell_type": "code",
   "execution_count": 67,
   "metadata": {
    "collapsed": false
   },
   "outputs": [
    {
     "data": {
      "text/html": [
       "<div>\n",
       "<table border=\"1\" class=\"dataframe\">\n",
       "  <thead>\n",
       "    <tr style=\"text-align: right;\">\n",
       "      <th></th>\n",
       "      <th>ID</th>\n",
       "      <th>Address</th>\n",
       "      <th>Latitude</th>\n",
       "      <th>Longitude</th>\n",
       "      <th>DateOfSale</th>\n",
       "      <th>...</th>\n",
       "      <th>Size</th>\n",
       "      <th>SizeUnit</th>\n",
       "      <th>LotSize</th>\n",
       "      <th>LotSizeUnit</th>\n",
       "      <th>BuiltInYear</th>\n",
       "    </tr>\n",
       "    <tr>\n",
       "      <th>ID</th>\n",
       "      <th></th>\n",
       "      <th></th>\n",
       "      <th></th>\n",
       "      <th></th>\n",
       "      <th></th>\n",
       "      <th></th>\n",
       "      <th></th>\n",
       "      <th></th>\n",
       "      <th></th>\n",
       "      <th></th>\n",
       "      <th></th>\n",
       "    </tr>\n",
       "  </thead>\n",
       "  <tbody>\n",
       "    <tr>\n",
       "      <th>15063471</th>\n",
       "      <td>15063471</td>\n",
       "      <td>55 Vandewater St APT 9, San Francisco, CA</td>\n",
       "      <td>37805103</td>\n",
       "      <td>-122412856</td>\n",
       "      <td>12/4/15</td>\n",
       "      <td>...</td>\n",
       "      <td>550.0</td>\n",
       "      <td>sqft</td>\n",
       "      <td>NaN</td>\n",
       "      <td>NaN</td>\n",
       "      <td>1980.0</td>\n",
       "    </tr>\n",
       "    <tr>\n",
       "      <th>15063505</th>\n",
       "      <td>15063505</td>\n",
       "      <td>740 Francisco St, San Francisco, CA</td>\n",
       "      <td>37804420</td>\n",
       "      <td>-122417389</td>\n",
       "      <td>11/30/15</td>\n",
       "      <td>...</td>\n",
       "      <td>1430.0</td>\n",
       "      <td>sqft</td>\n",
       "      <td>2435.0</td>\n",
       "      <td>sqft</td>\n",
       "      <td>1948.0</td>\n",
       "    </tr>\n",
       "    <tr>\n",
       "      <th>15063609</th>\n",
       "      <td>15063609</td>\n",
       "      <td>819 Francisco St, San Francisco, CA</td>\n",
       "      <td>37803728</td>\n",
       "      <td>-122419055</td>\n",
       "      <td>11/12/15</td>\n",
       "      <td>...</td>\n",
       "      <td>2040.0</td>\n",
       "      <td>sqft</td>\n",
       "      <td>3920.0</td>\n",
       "      <td>sqft</td>\n",
       "      <td>1976.0</td>\n",
       "    </tr>\n",
       "    <tr>\n",
       "      <th>15064044</th>\n",
       "      <td>15064044</td>\n",
       "      <td>199 Chestnut St APT 5, San Francisco, CA</td>\n",
       "      <td>37804392</td>\n",
       "      <td>-122406590</td>\n",
       "      <td>12/11/15</td>\n",
       "      <td>...</td>\n",
       "      <td>1060.0</td>\n",
       "      <td>sqft</td>\n",
       "      <td>NaN</td>\n",
       "      <td>NaN</td>\n",
       "      <td>1930.0</td>\n",
       "    </tr>\n",
       "    <tr>\n",
       "      <th>15064257</th>\n",
       "      <td>15064257</td>\n",
       "      <td>111 Chestnut St APT 403, San Francisco, CA</td>\n",
       "      <td>37804240</td>\n",
       "      <td>-122405509</td>\n",
       "      <td>1/15/16</td>\n",
       "      <td>...</td>\n",
       "      <td>1299.0</td>\n",
       "      <td>sqft</td>\n",
       "      <td>NaN</td>\n",
       "      <td>NaN</td>\n",
       "      <td>1993.0</td>\n",
       "    </tr>\n",
       "    <tr>\n",
       "      <th>...</th>\n",
       "      <td>...</td>\n",
       "      <td>...</td>\n",
       "      <td>...</td>\n",
       "      <td>...</td>\n",
       "      <td>...</td>\n",
       "      <td>...</td>\n",
       "      <td>...</td>\n",
       "      <td>...</td>\n",
       "      <td>...</td>\n",
       "      <td>...</td>\n",
       "      <td>...</td>\n",
       "    </tr>\n",
       "    <tr>\n",
       "      <th>2124214951</th>\n",
       "      <td>2124214951</td>\n",
       "      <td>412 Green St APT A, San Francisco, CA</td>\n",
       "      <td>37800040</td>\n",
       "      <td>-122406100</td>\n",
       "      <td>1/15/16</td>\n",
       "      <td>...</td>\n",
       "      <td>264.0</td>\n",
       "      <td>sqft</td>\n",
       "      <td>NaN</td>\n",
       "      <td>NaN</td>\n",
       "      <td>2012.0</td>\n",
       "    </tr>\n",
       "    <tr>\n",
       "      <th>2126960082</th>\n",
       "      <td>2126960082</td>\n",
       "      <td>355 1st St UNIT 1905, San Francisco, CA</td>\n",
       "      <td>37787029</td>\n",
       "      <td>-122393638</td>\n",
       "      <td>11/20/15</td>\n",
       "      <td>...</td>\n",
       "      <td>691.0</td>\n",
       "      <td>sqft</td>\n",
       "      <td>NaN</td>\n",
       "      <td>NaN</td>\n",
       "      <td>2004.0</td>\n",
       "    </tr>\n",
       "    <tr>\n",
       "      <th>2128308939</th>\n",
       "      <td>2128308939</td>\n",
       "      <td>33 Santa Cruz Ave, San Francisco, CA</td>\n",
       "      <td>37709136</td>\n",
       "      <td>-122465332</td>\n",
       "      <td>12/10/15</td>\n",
       "      <td>...</td>\n",
       "      <td>1738.0</td>\n",
       "      <td>sqft</td>\n",
       "      <td>2299.0</td>\n",
       "      <td>sqft</td>\n",
       "      <td>1976.0</td>\n",
       "    </tr>\n",
       "    <tr>\n",
       "      <th>2131957929</th>\n",
       "      <td>2131957929</td>\n",
       "      <td>1821 Grant Ave, San Francisco, CA</td>\n",
       "      <td>37803760</td>\n",
       "      <td>-122408531</td>\n",
       "      <td>12/15/15</td>\n",
       "      <td>...</td>\n",
       "      <td>1048.0</td>\n",
       "      <td>sqft</td>\n",
       "      <td>NaN</td>\n",
       "      <td>NaN</td>\n",
       "      <td>1975.0</td>\n",
       "    </tr>\n",
       "    <tr>\n",
       "      <th>2136213970</th>\n",
       "      <td>2136213970</td>\n",
       "      <td>1200 Gough St, San Francisco, CA</td>\n",
       "      <td>37784770</td>\n",
       "      <td>-122424100</td>\n",
       "      <td>1/10/16</td>\n",
       "      <td>...</td>\n",
       "      <td>900.0</td>\n",
       "      <td>sqft</td>\n",
       "      <td>NaN</td>\n",
       "      <td>NaN</td>\n",
       "      <td>1966.0</td>\n",
       "    </tr>\n",
       "  </tbody>\n",
       "</table>\n",
       "<p>1000 rows × 15 columns</p>\n",
       "</div>"
      ],
      "text/plain": [
       "                    ID                                     Address  Latitude  \\\n",
       "ID                                                                             \n",
       "15063471      15063471   55 Vandewater St APT 9, San Francisco, CA  37805103   \n",
       "15063505      15063505         740 Francisco St, San Francisco, CA  37804420   \n",
       "15063609      15063609         819 Francisco St, San Francisco, CA  37803728   \n",
       "15064044      15064044    199 Chestnut St APT 5, San Francisco, CA  37804392   \n",
       "15064257      15064257  111 Chestnut St APT 403, San Francisco, CA  37804240   \n",
       "...                ...                                         ...       ...   \n",
       "2124214951  2124214951       412 Green St APT A, San Francisco, CA  37800040   \n",
       "2126960082  2126960082     355 1st St UNIT 1905, San Francisco, CA  37787029   \n",
       "2128308939  2128308939        33 Santa Cruz Ave, San Francisco, CA  37709136   \n",
       "2131957929  2131957929           1821 Grant Ave, San Francisco, CA  37803760   \n",
       "2136213970  2136213970            1200 Gough St, San Francisco, CA  37784770   \n",
       "\n",
       "            Longitude DateOfSale     ...         Size SizeUnit LotSize  \\\n",
       "ID                                   ...                                 \n",
       "15063471   -122412856    12/4/15     ...        550.0     sqft     NaN   \n",
       "15063505   -122417389   11/30/15     ...       1430.0     sqft  2435.0   \n",
       "15063609   -122419055   11/12/15     ...       2040.0     sqft  3920.0   \n",
       "15064044   -122406590   12/11/15     ...       1060.0     sqft     NaN   \n",
       "15064257   -122405509    1/15/16     ...       1299.0     sqft     NaN   \n",
       "...               ...        ...     ...          ...      ...     ...   \n",
       "2124214951 -122406100    1/15/16     ...        264.0     sqft     NaN   \n",
       "2126960082 -122393638   11/20/15     ...        691.0     sqft     NaN   \n",
       "2128308939 -122465332   12/10/15     ...       1738.0     sqft  2299.0   \n",
       "2131957929 -122408531   12/15/15     ...       1048.0     sqft     NaN   \n",
       "2136213970 -122424100    1/10/16     ...        900.0     sqft     NaN   \n",
       "\n",
       "            LotSizeUnit  BuiltInYear  \n",
       "ID                                    \n",
       "15063471            NaN       1980.0  \n",
       "15063505           sqft       1948.0  \n",
       "15063609           sqft       1976.0  \n",
       "15064044            NaN       1930.0  \n",
       "15064257            NaN       1993.0  \n",
       "...                 ...          ...  \n",
       "2124214951          NaN       2012.0  \n",
       "2126960082          NaN       2004.0  \n",
       "2128308939         sqft       1976.0  \n",
       "2131957929          NaN       1975.0  \n",
       "2136213970          NaN       1966.0  \n",
       "\n",
       "[1000 rows x 15 columns]"
      ]
     },
     "execution_count": 67,
     "metadata": {},
     "output_type": "execute_result"
    }
   ],
   "source": [
    "df"
   ]
  },
  {
   "cell_type": "markdown",
   "metadata": {},
   "source": [
    "E.g., row with index 15063505:"
   ]
  },
  {
   "cell_type": "code",
   "execution_count": 82,
   "metadata": {
    "collapsed": false
   },
   "outputs": [
    {
     "data": {
      "text/plain": [
       "ID                                        15063505\n",
       "Address        740 Francisco St, San Francisco, CA\n",
       "Latitude                                  37804420\n",
       "Longitude                               -122417389\n",
       "DateOfSale                                11/30/15\n",
       "                              ...                 \n",
       "Size                                          1430\n",
       "SizeUnit                                      sqft\n",
       "LotSize                                       2435\n",
       "LotSizeUnit                                   sqft\n",
       "BuiltInYear                                   1948\n",
       "Name: 15063505, dtype: object"
      ]
     },
     "execution_count": 82,
     "metadata": {},
     "output_type": "execute_result"
    }
   ],
   "source": [
    "df.loc[15063505]"
   ]
  },
  {
   "cell_type": "markdown",
   "metadata": {},
   "source": [
    "E.g., rows with indices 15063505 and 15064044:"
   ]
  },
  {
   "cell_type": "code",
   "execution_count": 117,
   "metadata": {
    "collapsed": false
   },
   "outputs": [
    {
     "data": {
      "text/html": [
       "<div>\n",
       "<table border=\"1\" class=\"dataframe\">\n",
       "  <thead>\n",
       "    <tr style=\"text-align: right;\">\n",
       "      <th></th>\n",
       "      <th>ID</th>\n",
       "      <th>Address</th>\n",
       "      <th>Latitude</th>\n",
       "      <th>Longitude</th>\n",
       "      <th>DateOfSale</th>\n",
       "      <th>...</th>\n",
       "      <th>Size</th>\n",
       "      <th>SizeUnit</th>\n",
       "      <th>LotSize</th>\n",
       "      <th>LotSizeUnit</th>\n",
       "      <th>BuiltInYear</th>\n",
       "    </tr>\n",
       "    <tr>\n",
       "      <th>ID</th>\n",
       "      <th></th>\n",
       "      <th></th>\n",
       "      <th></th>\n",
       "      <th></th>\n",
       "      <th></th>\n",
       "      <th></th>\n",
       "      <th></th>\n",
       "      <th></th>\n",
       "      <th></th>\n",
       "      <th></th>\n",
       "      <th></th>\n",
       "    </tr>\n",
       "  </thead>\n",
       "  <tbody>\n",
       "    <tr>\n",
       "      <th>15063505</th>\n",
       "      <td>15063505</td>\n",
       "      <td>740 Francisco St, San Francisco, CA</td>\n",
       "      <td>37804420</td>\n",
       "      <td>-122417389</td>\n",
       "      <td>11/30/15</td>\n",
       "      <td>...</td>\n",
       "      <td>1430.0</td>\n",
       "      <td>sqft</td>\n",
       "      <td>2435.0</td>\n",
       "      <td>sqft</td>\n",
       "      <td>1948.0</td>\n",
       "    </tr>\n",
       "    <tr>\n",
       "      <th>15064044</th>\n",
       "      <td>15064044</td>\n",
       "      <td>199 Chestnut St APT 5, San Francisco, CA</td>\n",
       "      <td>37804392</td>\n",
       "      <td>-122406590</td>\n",
       "      <td>12/11/15</td>\n",
       "      <td>...</td>\n",
       "      <td>1060.0</td>\n",
       "      <td>sqft</td>\n",
       "      <td>NaN</td>\n",
       "      <td>NaN</td>\n",
       "      <td>1930.0</td>\n",
       "    </tr>\n",
       "    <tr>\n",
       "      <th>2131957929</th>\n",
       "      <td>2131957929</td>\n",
       "      <td>1821 Grant Ave, San Francisco, CA</td>\n",
       "      <td>37803760</td>\n",
       "      <td>-122408531</td>\n",
       "      <td>12/15/15</td>\n",
       "      <td>...</td>\n",
       "      <td>1048.0</td>\n",
       "      <td>sqft</td>\n",
       "      <td>NaN</td>\n",
       "      <td>NaN</td>\n",
       "      <td>1975.0</td>\n",
       "    </tr>\n",
       "  </tbody>\n",
       "</table>\n",
       "<p>3 rows × 15 columns</p>\n",
       "</div>"
      ],
      "text/plain": [
       "                    ID                                   Address  Latitude  \\\n",
       "ID                                                                           \n",
       "15063505      15063505       740 Francisco St, San Francisco, CA  37804420   \n",
       "15064044      15064044  199 Chestnut St APT 5, San Francisco, CA  37804392   \n",
       "2131957929  2131957929         1821 Grant Ave, San Francisco, CA  37803760   \n",
       "\n",
       "            Longitude DateOfSale     ...         Size SizeUnit LotSize  \\\n",
       "ID                                   ...                                 \n",
       "15063505   -122417389   11/30/15     ...       1430.0     sqft  2435.0   \n",
       "15064044   -122406590   12/11/15     ...       1060.0     sqft     NaN   \n",
       "2131957929 -122408531   12/15/15     ...       1048.0     sqft     NaN   \n",
       "\n",
       "            LotSizeUnit  BuiltInYear  \n",
       "ID                                    \n",
       "15063505           sqft       1948.0  \n",
       "15064044            NaN       1930.0  \n",
       "2131957929          NaN       1975.0  \n",
       "\n",
       "[3 rows x 15 columns]"
      ]
     },
     "execution_count": 117,
     "metadata": {},
     "output_type": "execute_result"
    }
   ],
   "source": [
    "df.loc[ [15063505, 15064044,2131957929] ]\n"
   ]
  },
  {
   "cell_type": "code",
   "execution_count": 84,
   "metadata": {
    "collapsed": false
   },
   "outputs": [
    {
     "data": {
      "text/plain": [
       "pandas.core.frame.DataFrame"
      ]
     },
     "execution_count": 84,
     "metadata": {},
     "output_type": "execute_result"
    }
   ],
   "source": [
    "type(df.loc[ [15063505, 15064044] ])"
   ]
  },
  {
   "cell_type": "markdown",
   "metadata": {
    "collapsed": true
   },
   "source": [
    "E.g., rows 1 and 3:"
   ]
  },
  {
   "cell_type": "code",
   "execution_count": 119,
   "metadata": {
    "collapsed": false
   },
   "outputs": [
    {
     "data": {
      "text/html": [
       "<div>\n",
       "<table border=\"1\" class=\"dataframe\">\n",
       "  <thead>\n",
       "    <tr style=\"text-align: right;\">\n",
       "      <th></th>\n",
       "      <th>ID</th>\n",
       "      <th>Address</th>\n",
       "      <th>Latitude</th>\n",
       "      <th>Longitude</th>\n",
       "      <th>DateOfSale</th>\n",
       "      <th>...</th>\n",
       "      <th>Size</th>\n",
       "      <th>SizeUnit</th>\n",
       "      <th>LotSize</th>\n",
       "      <th>LotSizeUnit</th>\n",
       "      <th>BuiltInYear</th>\n",
       "    </tr>\n",
       "    <tr>\n",
       "      <th>ID</th>\n",
       "      <th></th>\n",
       "      <th></th>\n",
       "      <th></th>\n",
       "      <th></th>\n",
       "      <th></th>\n",
       "      <th></th>\n",
       "      <th></th>\n",
       "      <th></th>\n",
       "      <th></th>\n",
       "      <th></th>\n",
       "      <th></th>\n",
       "    </tr>\n",
       "  </thead>\n",
       "  <tbody>\n",
       "    <tr>\n",
       "      <th>15063505</th>\n",
       "      <td>15063505</td>\n",
       "      <td>740 Francisco St, San Francisco, CA</td>\n",
       "      <td>37804420</td>\n",
       "      <td>-122417389</td>\n",
       "      <td>11/30/15</td>\n",
       "      <td>...</td>\n",
       "      <td>1430.0</td>\n",
       "      <td>sqft</td>\n",
       "      <td>2435.0</td>\n",
       "      <td>sqft</td>\n",
       "      <td>1948.0</td>\n",
       "    </tr>\n",
       "    <tr>\n",
       "      <th>15064044</th>\n",
       "      <td>15064044</td>\n",
       "      <td>199 Chestnut St APT 5, San Francisco, CA</td>\n",
       "      <td>37804392</td>\n",
       "      <td>-122406590</td>\n",
       "      <td>12/11/15</td>\n",
       "      <td>...</td>\n",
       "      <td>1060.0</td>\n",
       "      <td>sqft</td>\n",
       "      <td>NaN</td>\n",
       "      <td>NaN</td>\n",
       "      <td>1930.0</td>\n",
       "    </tr>\n",
       "    <tr>\n",
       "      <th>15065032</th>\n",
       "      <td>15065032</td>\n",
       "      <td>101 Lombard St APT 116E, San Francisco, CA</td>\n",
       "      <td>37803470</td>\n",
       "      <td>-122404090</td>\n",
       "      <td>12/7/15</td>\n",
       "      <td>...</td>\n",
       "      <td>1000.0</td>\n",
       "      <td>sqft</td>\n",
       "      <td>NaN</td>\n",
       "      <td>NaN</td>\n",
       "      <td>1983.0</td>\n",
       "    </tr>\n",
       "  </tbody>\n",
       "</table>\n",
       "<p>3 rows × 15 columns</p>\n",
       "</div>"
      ],
      "text/plain": [
       "                ID                                     Address  Latitude  \\\n",
       "ID                                                                         \n",
       "15063505  15063505         740 Francisco St, San Francisco, CA  37804420   \n",
       "15064044  15064044    199 Chestnut St APT 5, San Francisco, CA  37804392   \n",
       "15065032  15065032  101 Lombard St APT 116E, San Francisco, CA  37803470   \n",
       "\n",
       "          Longitude DateOfSale     ...         Size SizeUnit LotSize  \\\n",
       "ID                                 ...                                 \n",
       "15063505 -122417389   11/30/15     ...       1430.0     sqft  2435.0   \n",
       "15064044 -122406590   12/11/15     ...       1060.0     sqft     NaN   \n",
       "15065032 -122404090    12/7/15     ...       1000.0     sqft     NaN   \n",
       "\n",
       "          LotSizeUnit  BuiltInYear  \n",
       "ID                                  \n",
       "15063505         sqft       1948.0  \n",
       "15064044          NaN       1930.0  \n",
       "15065032          NaN       1983.0  \n",
       "\n",
       "[3 rows x 15 columns]"
      ]
     },
     "execution_count": 119,
     "metadata": {},
     "output_type": "execute_result"
    }
   ],
   "source": [
    "df.iloc[ [1, 3,10] ]"
   ]
  },
  {
   "cell_type": "markdown",
   "metadata": {
    "collapsed": true
   },
   "source": [
    "> ## Scalar lookup by label or location using `.at[]` and `.iat[]`"
   ]
  },
  {
   "cell_type": "markdown",
   "metadata": {
    "collapsed": true
   },
   "source": [
    "Scalar values can be looked up by label using .at, by passing both the row label and then the column name/value.  E.g.,"
   ]
  },
  {
   "cell_type": "code",
   "execution_count": 92,
   "metadata": {
    "collapsed": false
   },
   "outputs": [
    {
     "data": {
      "text/plain": [
       "'12/11/15'"
      ]
     },
     "execution_count": 92,
     "metadata": {},
     "output_type": "execute_result"
    }
   ],
   "source": [
    "df.at[15064044,'DateOfSale']"
   ]
  },
  {
   "cell_type": "markdown",
   "metadata": {
    "collapsed": true
   },
   "source": [
    "Scalar values can also be looked up by location using .iat by passing both the row location and then the column location. E.g.,"
   ]
  },
  {
   "cell_type": "code",
   "execution_count": 40,
   "metadata": {
    "collapsed": false
   },
   "outputs": [
    {
     "data": {
      "text/plain": [
       "'12/11/15'"
      ]
     },
     "execution_count": 40,
     "metadata": {},
     "output_type": "execute_result"
    }
   ],
   "source": [
    "df.iat[3, 3]"
   ]
  },
  {
   "cell_type": "markdown",
   "metadata": {},
   "source": [
    "> ## Selecting rows of a `DataFrame` by Boolean selection"
   ]
  },
  {
   "cell_type": "markdown",
   "metadata": {},
   "source": [
    "Rows can also be selected by using Boolean selection, using an array calculated from the result of applying a logical condition on the values in any of the columns.  This allows us to build more complicated selections than those based simply upon index labels or positions.\n",
    "\n",
    "E.g., what homes have been built before 1900?"
   ]
  },
  {
   "cell_type": "code",
   "execution_count": 122,
   "metadata": {
    "collapsed": false
   },
   "outputs": [
    {
     "data": {
      "text/plain": [
       "ID\n",
       "15063471      False\n",
       "15063505      False\n",
       "15063609      False\n",
       "15064044      False\n",
       "15064257      False\n",
       "              ...  \n",
       "2124214951    False\n",
       "2126960082    False\n",
       "2128308939    False\n",
       "2131957929    False\n",
       "2136213970    False\n",
       "Name: BuiltInYear, dtype: bool"
      ]
     },
     "execution_count": 122,
     "metadata": {},
     "output_type": "execute_result"
    }
   ],
   "source": [
    "df.BuiltInYear < 1900"
   ]
  },
  {
   "cell_type": "code",
   "execution_count": 123,
   "metadata": {
    "collapsed": false
   },
   "outputs": [
    {
     "data": {
      "text/plain": [
       "pandas.core.series.Series"
      ]
     },
     "execution_count": 123,
     "metadata": {},
     "output_type": "execute_result"
    }
   ],
   "source": [
    "type(df.BuiltInYear < 1900)"
   ]
  },
  {
   "cell_type": "markdown",
   "metadata": {},
   "source": [
    "This results in a `Series` that can be used to select the rows where the value is True:"
   ]
  },
  {
   "cell_type": "code",
   "execution_count": 129,
   "metadata": {
    "collapsed": false
   },
   "outputs": [
    {
     "data": {
      "text/html": [
       "<div>\n",
       "<table border=\"1\" class=\"dataframe\">\n",
       "  <thead>\n",
       "    <tr style=\"text-align: right;\">\n",
       "      <th></th>\n",
       "      <th>ID</th>\n",
       "      <th>Address</th>\n",
       "      <th>Latitude</th>\n",
       "      <th>Longitude</th>\n",
       "      <th>DateOfSale</th>\n",
       "      <th>...</th>\n",
       "      <th>Size</th>\n",
       "      <th>SizeUnit</th>\n",
       "      <th>LotSize</th>\n",
       "      <th>LotSizeUnit</th>\n",
       "      <th>BuiltInYear</th>\n",
       "    </tr>\n",
       "    <tr>\n",
       "      <th>ID</th>\n",
       "      <th></th>\n",
       "      <th></th>\n",
       "      <th></th>\n",
       "      <th></th>\n",
       "      <th></th>\n",
       "      <th></th>\n",
       "      <th></th>\n",
       "      <th></th>\n",
       "      <th></th>\n",
       "      <th></th>\n",
       "      <th></th>\n",
       "    </tr>\n",
       "  </thead>\n",
       "  <tbody>\n",
       "    <tr>\n",
       "      <th>15065140</th>\n",
       "      <td>15065140</td>\n",
       "      <td>1407 Montgomery St APT 2, San Francisco, CA</td>\n",
       "      <td>37802299</td>\n",
       "      <td>-122404941</td>\n",
       "      <td>1/28/16</td>\n",
       "      <td>...</td>\n",
       "      <td>1000.0</td>\n",
       "      <td>sqft</td>\n",
       "      <td>NaN</td>\n",
       "      <td>NaN</td>\n",
       "      <td>1870.0</td>\n",
       "    </tr>\n",
       "    <tr>\n",
       "      <th>15076156</th>\n",
       "      <td>15076156</td>\n",
       "      <td>1533 Sutter St, San Francisco, CA</td>\n",
       "      <td>37786658</td>\n",
       "      <td>-122426481</td>\n",
       "      <td>11/12/15</td>\n",
       "      <td>...</td>\n",
       "      <td>7375.0</td>\n",
       "      <td>sqft</td>\n",
       "      <td>2748.0</td>\n",
       "      <td>sqft</td>\n",
       "      <td>1890.0</td>\n",
       "    </tr>\n",
       "    <tr>\n",
       "      <th>15078536</th>\n",
       "      <td>15078536</td>\n",
       "      <td>640 Steiner St, San Francisco, CA</td>\n",
       "      <td>37775399</td>\n",
       "      <td>-122432491</td>\n",
       "      <td>12/15/15</td>\n",
       "      <td>...</td>\n",
       "      <td>1593.0</td>\n",
       "      <td>sqft</td>\n",
       "      <td>NaN</td>\n",
       "      <td>NaN</td>\n",
       "      <td>1895.0</td>\n",
       "    </tr>\n",
       "    <tr>\n",
       "      <th>15078866</th>\n",
       "      <td>15078866</td>\n",
       "      <td>753-755 Oak St, San Francisco, CA</td>\n",
       "      <td>37773576</td>\n",
       "      <td>-122431663</td>\n",
       "      <td>11/10/15</td>\n",
       "      <td>...</td>\n",
       "      <td>2430.0</td>\n",
       "      <td>sqft</td>\n",
       "      <td>3781.0</td>\n",
       "      <td>sqft</td>\n",
       "      <td>1890.0</td>\n",
       "    </tr>\n",
       "    <tr>\n",
       "      <th>15082108</th>\n",
       "      <td>15082108</td>\n",
       "      <td>3016 Sacramento St, San Francisco, CA</td>\n",
       "      <td>37788970</td>\n",
       "      <td>-122442995</td>\n",
       "      <td>12/22/15</td>\n",
       "      <td>...</td>\n",
       "      <td>1408.0</td>\n",
       "      <td>sqft</td>\n",
       "      <td>NaN</td>\n",
       "      <td>NaN</td>\n",
       "      <td>1890.0</td>\n",
       "    </tr>\n",
       "    <tr>\n",
       "      <th>...</th>\n",
       "      <td>...</td>\n",
       "      <td>...</td>\n",
       "      <td>...</td>\n",
       "      <td>...</td>\n",
       "      <td>...</td>\n",
       "      <td>...</td>\n",
       "      <td>...</td>\n",
       "      <td>...</td>\n",
       "      <td>...</td>\n",
       "      <td>...</td>\n",
       "      <td>...</td>\n",
       "    </tr>\n",
       "    <tr>\n",
       "      <th>114318108</th>\n",
       "      <td>114318108</td>\n",
       "      <td>1442 Grove St # A, San Francisco, CA</td>\n",
       "      <td>37775894</td>\n",
       "      <td>-122440467</td>\n",
       "      <td>12/24/15</td>\n",
       "      <td>...</td>\n",
       "      <td>593.0</td>\n",
       "      <td>sqft</td>\n",
       "      <td>NaN</td>\n",
       "      <td>NaN</td>\n",
       "      <td>1890.0</td>\n",
       "    </tr>\n",
       "    <tr>\n",
       "      <th>119684777</th>\n",
       "      <td>119684777</td>\n",
       "      <td>967 Hayes St, San Francisco, CA</td>\n",
       "      <td>37775645</td>\n",
       "      <td>-122432222</td>\n",
       "      <td>12/17/15</td>\n",
       "      <td>...</td>\n",
       "      <td>3006.0</td>\n",
       "      <td>sqft</td>\n",
       "      <td>NaN</td>\n",
       "      <td>NaN</td>\n",
       "      <td>1885.0</td>\n",
       "    </tr>\n",
       "    <tr>\n",
       "      <th>123597223</th>\n",
       "      <td>123597223</td>\n",
       "      <td>1954 Golden Gate Ave, San Francisco, CA</td>\n",
       "      <td>37778246</td>\n",
       "      <td>-122442763</td>\n",
       "      <td>11/24/15</td>\n",
       "      <td>...</td>\n",
       "      <td>1275.0</td>\n",
       "      <td>sqft</td>\n",
       "      <td>NaN</td>\n",
       "      <td>NaN</td>\n",
       "      <td>1895.0</td>\n",
       "    </tr>\n",
       "    <tr>\n",
       "      <th>123597388</th>\n",
       "      <td>123597388</td>\n",
       "      <td>667 Shotwell St # A, San Francisco, CA</td>\n",
       "      <td>37757851</td>\n",
       "      <td>-122415629</td>\n",
       "      <td>2/10/16</td>\n",
       "      <td>...</td>\n",
       "      <td>1212.0</td>\n",
       "      <td>sqft</td>\n",
       "      <td>NaN</td>\n",
       "      <td>NaN</td>\n",
       "      <td>1890.0</td>\n",
       "    </tr>\n",
       "    <tr>\n",
       "      <th>2122992200</th>\n",
       "      <td>2122992200</td>\n",
       "      <td>129 Octavia St, San Francisco, CA</td>\n",
       "      <td>37773192</td>\n",
       "      <td>-122424037</td>\n",
       "      <td>11/20/15</td>\n",
       "      <td>...</td>\n",
       "      <td>3655.0</td>\n",
       "      <td>sqft</td>\n",
       "      <td>NaN</td>\n",
       "      <td>NaN</td>\n",
       "      <td>1883.0</td>\n",
       "    </tr>\n",
       "  </tbody>\n",
       "</table>\n",
       "<p>15 rows × 15 columns</p>\n",
       "</div>"
      ],
      "text/plain": [
       "                    ID                                      Address  Latitude  \\\n",
       "ID                                                                              \n",
       "15065140      15065140  1407 Montgomery St APT 2, San Francisco, CA  37802299   \n",
       "15076156      15076156            1533 Sutter St, San Francisco, CA  37786658   \n",
       "15078536      15078536            640 Steiner St, San Francisco, CA  37775399   \n",
       "15078866      15078866            753-755 Oak St, San Francisco, CA  37773576   \n",
       "15082108      15082108        3016 Sacramento St, San Francisco, CA  37788970   \n",
       "...                ...                                          ...       ...   \n",
       "114318108    114318108         1442 Grove St # A, San Francisco, CA  37775894   \n",
       "119684777    119684777              967 Hayes St, San Francisco, CA  37775645   \n",
       "123597223    123597223      1954 Golden Gate Ave, San Francisco, CA  37778246   \n",
       "123597388    123597388       667 Shotwell St # A, San Francisco, CA  37757851   \n",
       "2122992200  2122992200            129 Octavia St, San Francisco, CA  37773192   \n",
       "\n",
       "            Longitude DateOfSale     ...         Size SizeUnit LotSize  \\\n",
       "ID                                   ...                                 \n",
       "15065140   -122404941    1/28/16     ...       1000.0     sqft     NaN   \n",
       "15076156   -122426481   11/12/15     ...       7375.0     sqft  2748.0   \n",
       "15078536   -122432491   12/15/15     ...       1593.0     sqft     NaN   \n",
       "15078866   -122431663   11/10/15     ...       2430.0     sqft  3781.0   \n",
       "15082108   -122442995   12/22/15     ...       1408.0     sqft     NaN   \n",
       "...               ...        ...     ...          ...      ...     ...   \n",
       "114318108  -122440467   12/24/15     ...        593.0     sqft     NaN   \n",
       "119684777  -122432222   12/17/15     ...       3006.0     sqft     NaN   \n",
       "123597223  -122442763   11/24/15     ...       1275.0     sqft     NaN   \n",
       "123597388  -122415629    2/10/16     ...       1212.0     sqft     NaN   \n",
       "2122992200 -122424037   11/20/15     ...       3655.0     sqft     NaN   \n",
       "\n",
       "            LotSizeUnit  BuiltInYear  \n",
       "ID                                    \n",
       "15065140            NaN       1870.0  \n",
       "15076156           sqft       1890.0  \n",
       "15078536            NaN       1895.0  \n",
       "15078866           sqft       1890.0  \n",
       "15082108            NaN       1890.0  \n",
       "...                 ...          ...  \n",
       "114318108           NaN       1890.0  \n",
       "119684777           NaN       1885.0  \n",
       "123597223           NaN       1895.0  \n",
       "123597388           NaN       1890.0  \n",
       "2122992200          NaN       1883.0  \n",
       "\n",
       "[15 rows x 15 columns]"
      ]
     },
     "execution_count": 129,
     "metadata": {},
     "output_type": "execute_result"
    }
   ],
   "source": [
    "df[ df.BuiltInYear < 1900 ]"
   ]
  },
  {
   "cell_type": "code",
   "execution_count": 130,
   "metadata": {
    "collapsed": false
   },
   "outputs": [
    {
     "data": {
      "text/plain": [
       "pandas.core.frame.DataFrame"
      ]
     },
     "execution_count": 130,
     "metadata": {},
     "output_type": "execute_result"
    }
   ],
   "source": [
    "type(df[ df.BuiltInYear < 1900 ])"
   ]
  },
  {
   "cell_type": "markdown",
   "metadata": {},
   "source": [
    "Multiple conditions can be put together.  E.g.,"
   ]
  },
  {
   "cell_type": "code",
   "execution_count": 132,
   "metadata": {
    "collapsed": false
   },
   "outputs": [
    {
     "data": {
      "text/html": [
       "<div>\n",
       "<table border=\"1\" class=\"dataframe\">\n",
       "  <thead>\n",
       "    <tr style=\"text-align: right;\">\n",
       "      <th></th>\n",
       "      <th>ID</th>\n",
       "      <th>Address</th>\n",
       "      <th>Latitude</th>\n",
       "      <th>Longitude</th>\n",
       "      <th>DateOfSale</th>\n",
       "      <th>...</th>\n",
       "      <th>Size</th>\n",
       "      <th>SizeUnit</th>\n",
       "      <th>LotSize</th>\n",
       "      <th>LotSizeUnit</th>\n",
       "      <th>BuiltInYear</th>\n",
       "    </tr>\n",
       "    <tr>\n",
       "      <th>ID</th>\n",
       "      <th></th>\n",
       "      <th></th>\n",
       "      <th></th>\n",
       "      <th></th>\n",
       "      <th></th>\n",
       "      <th></th>\n",
       "      <th></th>\n",
       "      <th></th>\n",
       "      <th></th>\n",
       "      <th></th>\n",
       "      <th></th>\n",
       "    </tr>\n",
       "  </thead>\n",
       "  <tbody>\n",
       "    <tr>\n",
       "      <th>15076156</th>\n",
       "      <td>15076156</td>\n",
       "      <td>1533 Sutter St, San Francisco, CA</td>\n",
       "      <td>37786658</td>\n",
       "      <td>-122426481</td>\n",
       "      <td>11/12/15</td>\n",
       "      <td>...</td>\n",
       "      <td>7375.0</td>\n",
       "      <td>sqft</td>\n",
       "      <td>2748.0</td>\n",
       "      <td>sqft</td>\n",
       "      <td>1890.0</td>\n",
       "    </tr>\n",
       "    <tr>\n",
       "      <th>15078536</th>\n",
       "      <td>15078536</td>\n",
       "      <td>640 Steiner St, San Francisco, CA</td>\n",
       "      <td>37775399</td>\n",
       "      <td>-122432491</td>\n",
       "      <td>12/15/15</td>\n",
       "      <td>...</td>\n",
       "      <td>1593.0</td>\n",
       "      <td>sqft</td>\n",
       "      <td>NaN</td>\n",
       "      <td>NaN</td>\n",
       "      <td>1895.0</td>\n",
       "    </tr>\n",
       "    <tr>\n",
       "      <th>15078866</th>\n",
       "      <td>15078866</td>\n",
       "      <td>753-755 Oak St, San Francisco, CA</td>\n",
       "      <td>37773576</td>\n",
       "      <td>-122431663</td>\n",
       "      <td>11/10/15</td>\n",
       "      <td>...</td>\n",
       "      <td>2430.0</td>\n",
       "      <td>sqft</td>\n",
       "      <td>3781.0</td>\n",
       "      <td>sqft</td>\n",
       "      <td>1890.0</td>\n",
       "    </tr>\n",
       "    <tr>\n",
       "      <th>15084954</th>\n",
       "      <td>15084954</td>\n",
       "      <td>1954 Golden Gate Ave, San Francisco, CA</td>\n",
       "      <td>37778420</td>\n",
       "      <td>-122443073</td>\n",
       "      <td>11/24/15</td>\n",
       "      <td>...</td>\n",
       "      <td>1515.0</td>\n",
       "      <td>sqft</td>\n",
       "      <td>NaN</td>\n",
       "      <td>NaN</td>\n",
       "      <td>1895.0</td>\n",
       "    </tr>\n",
       "    <tr>\n",
       "      <th>15145720</th>\n",
       "      <td>15145720</td>\n",
       "      <td>956 S Van Ness Ave, San Francisco, CA</td>\n",
       "      <td>37757832</td>\n",
       "      <td>-122417139</td>\n",
       "      <td>11/23/15</td>\n",
       "      <td>...</td>\n",
       "      <td>3500.0</td>\n",
       "      <td>sqft</td>\n",
       "      <td>4165.0</td>\n",
       "      <td>sqft</td>\n",
       "      <td>1872.0</td>\n",
       "    </tr>\n",
       "    <tr>\n",
       "      <th>15181209</th>\n",
       "      <td>15181209</td>\n",
       "      <td>1001 Diamond St # 1001A, San Francisco, CA</td>\n",
       "      <td>37749461</td>\n",
       "      <td>-122435844</td>\n",
       "      <td>11/24/15</td>\n",
       "      <td>...</td>\n",
       "      <td>2032.0</td>\n",
       "      <td>sqft</td>\n",
       "      <td>1913.0</td>\n",
       "      <td>sqft</td>\n",
       "      <td>1892.0</td>\n",
       "    </tr>\n",
       "    <tr>\n",
       "      <th>82785514</th>\n",
       "      <td>82785514</td>\n",
       "      <td>1394 Mcallister St, San Francisco, CA</td>\n",
       "      <td>37778463</td>\n",
       "      <td>-122434933</td>\n",
       "      <td>11/13/15</td>\n",
       "      <td>...</td>\n",
       "      <td>2300.0</td>\n",
       "      <td>sqft</td>\n",
       "      <td>NaN</td>\n",
       "      <td>NaN</td>\n",
       "      <td>1890.0</td>\n",
       "    </tr>\n",
       "    <tr>\n",
       "      <th>119684777</th>\n",
       "      <td>119684777</td>\n",
       "      <td>967 Hayes St, San Francisco, CA</td>\n",
       "      <td>37775645</td>\n",
       "      <td>-122432222</td>\n",
       "      <td>12/17/15</td>\n",
       "      <td>...</td>\n",
       "      <td>3006.0</td>\n",
       "      <td>sqft</td>\n",
       "      <td>NaN</td>\n",
       "      <td>NaN</td>\n",
       "      <td>1885.0</td>\n",
       "    </tr>\n",
       "    <tr>\n",
       "      <th>2122992200</th>\n",
       "      <td>2122992200</td>\n",
       "      <td>129 Octavia St, San Francisco, CA</td>\n",
       "      <td>37773192</td>\n",
       "      <td>-122424037</td>\n",
       "      <td>11/20/15</td>\n",
       "      <td>...</td>\n",
       "      <td>3655.0</td>\n",
       "      <td>sqft</td>\n",
       "      <td>NaN</td>\n",
       "      <td>NaN</td>\n",
       "      <td>1883.0</td>\n",
       "    </tr>\n",
       "  </tbody>\n",
       "</table>\n",
       "<p>9 rows × 15 columns</p>\n",
       "</div>"
      ],
      "text/plain": [
       "                    ID                                     Address  Latitude  \\\n",
       "ID                                                                             \n",
       "15076156      15076156           1533 Sutter St, San Francisco, CA  37786658   \n",
       "15078536      15078536           640 Steiner St, San Francisco, CA  37775399   \n",
       "15078866      15078866           753-755 Oak St, San Francisco, CA  37773576   \n",
       "15084954      15084954     1954 Golden Gate Ave, San Francisco, CA  37778420   \n",
       "15145720      15145720       956 S Van Ness Ave, San Francisco, CA  37757832   \n",
       "15181209      15181209  1001 Diamond St # 1001A, San Francisco, CA  37749461   \n",
       "82785514      82785514       1394 Mcallister St, San Francisco, CA  37778463   \n",
       "119684777    119684777             967 Hayes St, San Francisco, CA  37775645   \n",
       "2122992200  2122992200           129 Octavia St, San Francisco, CA  37773192   \n",
       "\n",
       "            Longitude DateOfSale     ...         Size SizeUnit LotSize  \\\n",
       "ID                                   ...                                 \n",
       "15076156   -122426481   11/12/15     ...       7375.0     sqft  2748.0   \n",
       "15078536   -122432491   12/15/15     ...       1593.0     sqft     NaN   \n",
       "15078866   -122431663   11/10/15     ...       2430.0     sqft  3781.0   \n",
       "15084954   -122443073   11/24/15     ...       1515.0     sqft     NaN   \n",
       "15145720   -122417139   11/23/15     ...       3500.0     sqft  4165.0   \n",
       "15181209   -122435844   11/24/15     ...       2032.0     sqft  1913.0   \n",
       "82785514   -122434933   11/13/15     ...       2300.0     sqft     NaN   \n",
       "119684777  -122432222   12/17/15     ...       3006.0     sqft     NaN   \n",
       "2122992200 -122424037   11/20/15     ...       3655.0     sqft     NaN   \n",
       "\n",
       "            LotSizeUnit  BuiltInYear  \n",
       "ID                                    \n",
       "15076156           sqft       1890.0  \n",
       "15078536            NaN       1895.0  \n",
       "15078866           sqft       1890.0  \n",
       "15084954            NaN       1895.0  \n",
       "15145720           sqft       1872.0  \n",
       "15181209           sqft       1892.0  \n",
       "82785514            NaN       1890.0  \n",
       "119684777           NaN       1885.0  \n",
       "2122992200          NaN       1883.0  \n",
       "\n",
       "[9 rows x 15 columns]"
      ]
     },
     "execution_count": 132,
     "metadata": {},
     "output_type": "execute_result"
    }
   ],
   "source": [
    "df[ (df.BuiltInYear < 1900) & (df.Size > 1500) ]"
   ]
  },
  {
   "cell_type": "markdown",
   "metadata": {},
   "source": [
    "At the same time, it is possible to select a subset of the columns.  E.g.,"
   ]
  },
  {
   "cell_type": "code",
   "execution_count": 133,
   "metadata": {
    "collapsed": false
   },
   "outputs": [
    {
     "data": {
      "text/html": [
       "<div>\n",
       "<table border=\"1\" class=\"dataframe\">\n",
       "  <thead>\n",
       "    <tr style=\"text-align: right;\">\n",
       "      <th></th>\n",
       "      <th>Address</th>\n",
       "    </tr>\n",
       "    <tr>\n",
       "      <th>ID</th>\n",
       "      <th></th>\n",
       "    </tr>\n",
       "  </thead>\n",
       "  <tbody>\n",
       "    <tr>\n",
       "      <th>15076156</th>\n",
       "      <td>1533 Sutter St, San Francisco, CA</td>\n",
       "    </tr>\n",
       "    <tr>\n",
       "      <th>15078536</th>\n",
       "      <td>640 Steiner St, San Francisco, CA</td>\n",
       "    </tr>\n",
       "    <tr>\n",
       "      <th>15078866</th>\n",
       "      <td>753-755 Oak St, San Francisco, CA</td>\n",
       "    </tr>\n",
       "    <tr>\n",
       "      <th>15084954</th>\n",
       "      <td>1954 Golden Gate Ave, San Francisco, CA</td>\n",
       "    </tr>\n",
       "    <tr>\n",
       "      <th>15145720</th>\n",
       "      <td>956 S Van Ness Ave, San Francisco, CA</td>\n",
       "    </tr>\n",
       "    <tr>\n",
       "      <th>15181209</th>\n",
       "      <td>1001 Diamond St # 1001A, San Francisco, CA</td>\n",
       "    </tr>\n",
       "    <tr>\n",
       "      <th>82785514</th>\n",
       "      <td>1394 Mcallister St, San Francisco, CA</td>\n",
       "    </tr>\n",
       "    <tr>\n",
       "      <th>119684777</th>\n",
       "      <td>967 Hayes St, San Francisco, CA</td>\n",
       "    </tr>\n",
       "    <tr>\n",
       "      <th>2122992200</th>\n",
       "      <td>129 Octavia St, San Francisco, CA</td>\n",
       "    </tr>\n",
       "  </tbody>\n",
       "</table>\n",
       "</div>"
      ],
      "text/plain": [
       "                                               Address\n",
       "ID                                                    \n",
       "15076156             1533 Sutter St, San Francisco, CA\n",
       "15078536             640 Steiner St, San Francisco, CA\n",
       "15078866             753-755 Oak St, San Francisco, CA\n",
       "15084954       1954 Golden Gate Ave, San Francisco, CA\n",
       "15145720         956 S Van Ness Ave, San Francisco, CA\n",
       "15181209    1001 Diamond St # 1001A, San Francisco, CA\n",
       "82785514         1394 Mcallister St, San Francisco, CA\n",
       "119684777              967 Hayes St, San Francisco, CA\n",
       "2122992200           129 Octavia St, San Francisco, CA"
      ]
     },
     "execution_count": 133,
     "metadata": {},
     "output_type": "execute_result"
    }
   ],
   "source": [
    "df[ (df.BuiltInYear < 1900) & (df.Size > 1500) ][['Address']]"
   ]
  }
 ],
 "metadata": {
  "kernelspec": {
   "display_name": "Python 2",
   "language": "python",
   "name": "python2"
  },
  "language_info": {
   "codemirror_mode": {
    "name": "ipython",
    "version": 2
   },
   "file_extension": ".py",
   "mimetype": "text/x-python",
   "name": "python",
   "nbconvert_exporter": "python",
   "pygments_lexer": "ipython2",
   "version": "2.7.11"
  }
 },
 "nbformat": 4,
 "nbformat_minor": 0
}
