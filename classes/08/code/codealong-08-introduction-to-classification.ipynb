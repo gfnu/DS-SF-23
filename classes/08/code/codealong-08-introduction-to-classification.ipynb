{
 "cells": [
  {
   "cell_type": "markdown",
   "metadata": {},
   "source": [
    "# DS-SF-23 | Codealong 08 | Introduction to Classification"
   ]
  },
  {
   "cell_type": "code",
   "execution_count": 2,
   "metadata": {
    "collapsed": false
   },
   "outputs": [],
   "source": [
    "import os\n",
    "import numpy as np\n",
    "import pandas as pd\n",
    "import csv\n",
    "import matplotlib.pyplot as plt\n",
    "import statsmodels.api as sm\n",
    "import statsmodels.formula.api as smf\n",
    "from sklearn import neighbors, metrics, grid_search, cross_validation\n",
    "\n",
    "pd.set_option('display.max_rows', 10)\n",
    "pd.set_option('display.notebook_repr_html', True)\n",
    "pd.set_option('display.max_columns', 10)\n",
    "\n",
    "%matplotlib inline\n",
    "plt.style.use('ggplot')"
   ]
  },
  {
   "cell_type": "markdown",
   "metadata": {},
   "source": [
    "## Review and Activity | Customer Retention Rates"
   ]
  },
  {
   "cell_type": "code",
   "execution_count": 3,
   "metadata": {
    "collapsed": false
   },
   "outputs": [],
   "source": [
    "train_df = pd.DataFrame({'t': range(8), 'survival_rate':[1., .869, .743, .653, .593, .551, .517, .491]})"
   ]
  },
  {
   "cell_type": "code",
   "execution_count": 4,
   "metadata": {
    "collapsed": false
   },
   "outputs": [
    {
     "data": {
      "text/html": [
       "<div>\n",
       "<table border=\"1\" class=\"dataframe\">\n",
       "  <thead>\n",
       "    <tr style=\"text-align: right;\">\n",
       "      <th></th>\n",
       "      <th>survival_rate</th>\n",
       "      <th>t</th>\n",
       "    </tr>\n",
       "  </thead>\n",
       "  <tbody>\n",
       "    <tr>\n",
       "      <th>0</th>\n",
       "      <td>1.000</td>\n",
       "      <td>0</td>\n",
       "    </tr>\n",
       "    <tr>\n",
       "      <th>1</th>\n",
       "      <td>0.869</td>\n",
       "      <td>1</td>\n",
       "    </tr>\n",
       "    <tr>\n",
       "      <th>2</th>\n",
       "      <td>0.743</td>\n",
       "      <td>2</td>\n",
       "    </tr>\n",
       "    <tr>\n",
       "      <th>3</th>\n",
       "      <td>0.653</td>\n",
       "      <td>3</td>\n",
       "    </tr>\n",
       "    <tr>\n",
       "      <th>4</th>\n",
       "      <td>0.593</td>\n",
       "      <td>4</td>\n",
       "    </tr>\n",
       "    <tr>\n",
       "      <th>5</th>\n",
       "      <td>0.551</td>\n",
       "      <td>5</td>\n",
       "    </tr>\n",
       "    <tr>\n",
       "      <th>6</th>\n",
       "      <td>0.517</td>\n",
       "      <td>6</td>\n",
       "    </tr>\n",
       "    <tr>\n",
       "      <th>7</th>\n",
       "      <td>0.491</td>\n",
       "      <td>7</td>\n",
       "    </tr>\n",
       "  </tbody>\n",
       "</table>\n",
       "</div>"
      ],
      "text/plain": [
       "   survival_rate  t\n",
       "0          1.000  0\n",
       "1          0.869  1\n",
       "2          0.743  2\n",
       "3          0.653  3\n",
       "4          0.593  4\n",
       "5          0.551  5\n",
       "6          0.517  6\n",
       "7          0.491  7"
      ]
     },
     "execution_count": 4,
     "metadata": {},
     "output_type": "execute_result"
    }
   ],
   "source": [
    "train_df"
   ]
  },
  {
   "cell_type": "code",
   "execution_count": 5,
   "metadata": {
    "collapsed": true
   },
   "outputs": [],
   "source": [
    "train_df['y'] = train_df.survival_rate\n",
    "train_df['x'] = train_df.t"
   ]
  },
  {
   "cell_type": "code",
   "execution_count": 6,
   "metadata": {
    "collapsed": false
   },
   "outputs": [
    {
     "data": {
      "text/html": [
       "<div>\n",
       "<table border=\"1\" class=\"dataframe\">\n",
       "  <thead>\n",
       "    <tr style=\"text-align: right;\">\n",
       "      <th></th>\n",
       "      <th>survival_rate</th>\n",
       "      <th>t</th>\n",
       "      <th>y</th>\n",
       "      <th>x</th>\n",
       "    </tr>\n",
       "  </thead>\n",
       "  <tbody>\n",
       "    <tr>\n",
       "      <th>0</th>\n",
       "      <td>1.000</td>\n",
       "      <td>0</td>\n",
       "      <td>1.000</td>\n",
       "      <td>0</td>\n",
       "    </tr>\n",
       "    <tr>\n",
       "      <th>1</th>\n",
       "      <td>0.869</td>\n",
       "      <td>1</td>\n",
       "      <td>0.869</td>\n",
       "      <td>1</td>\n",
       "    </tr>\n",
       "    <tr>\n",
       "      <th>2</th>\n",
       "      <td>0.743</td>\n",
       "      <td>2</td>\n",
       "      <td>0.743</td>\n",
       "      <td>2</td>\n",
       "    </tr>\n",
       "    <tr>\n",
       "      <th>3</th>\n",
       "      <td>0.653</td>\n",
       "      <td>3</td>\n",
       "      <td>0.653</td>\n",
       "      <td>3</td>\n",
       "    </tr>\n",
       "    <tr>\n",
       "      <th>4</th>\n",
       "      <td>0.593</td>\n",
       "      <td>4</td>\n",
       "      <td>0.593</td>\n",
       "      <td>4</td>\n",
       "    </tr>\n",
       "    <tr>\n",
       "      <th>5</th>\n",
       "      <td>0.551</td>\n",
       "      <td>5</td>\n",
       "      <td>0.551</td>\n",
       "      <td>5</td>\n",
       "    </tr>\n",
       "    <tr>\n",
       "      <th>6</th>\n",
       "      <td>0.517</td>\n",
       "      <td>6</td>\n",
       "      <td>0.517</td>\n",
       "      <td>6</td>\n",
       "    </tr>\n",
       "    <tr>\n",
       "      <th>7</th>\n",
       "      <td>0.491</td>\n",
       "      <td>7</td>\n",
       "      <td>0.491</td>\n",
       "      <td>7</td>\n",
       "    </tr>\n",
       "  </tbody>\n",
       "</table>\n",
       "</div>"
      ],
      "text/plain": [
       "   survival_rate  t      y  x\n",
       "0          1.000  0  1.000  0\n",
       "1          0.869  1  0.869  1\n",
       "2          0.743  2  0.743  2\n",
       "3          0.653  3  0.653  3\n",
       "4          0.593  4  0.593  4\n",
       "5          0.551  5  0.551  5\n",
       "6          0.517  6  0.517  6\n",
       "7          0.491  7  0.491  7"
      ]
     },
     "execution_count": 6,
     "metadata": {},
     "output_type": "execute_result"
    }
   ],
   "source": [
    "train_df"
   ]
  },
  {
   "cell_type": "code",
   "execution_count": 7,
   "metadata": {
    "collapsed": false
   },
   "outputs": [
    {
     "data": {
      "text/plain": [
       "[<matplotlib.lines.Line2D at 0x11a489f10>]"
      ]
     },
     "execution_count": 7,
     "metadata": {},
     "output_type": "execute_result"
    },
    {
     "data": {
      "image/png": "iVBORw0KGgoAAAANSUhEUgAAAXgAAAEECAYAAAAifS8cAAAABHNCSVQICAgIfAhkiAAAAAlwSFlz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\nAElFTkSuQmCC\n",
      "text/plain": [
       "<matplotlib.figure.Figure at 0x106427350>"
      ]
     },
     "metadata": {},
     "output_type": "display_data"
    }
   ],
   "source": [
    "plt.figure()\n",
    "plt.xlim((0, 7))\n",
    "plt.ylim((0, 1))\n",
    "plt.scatter(train_df.x, train_df.y, marker = 'x', s = 200)\n",
    "plt.plot(train_df.x, train_df.y)"
   ]
  },
  {
   "cell_type": "code",
   "execution_count": 9,
   "metadata": {
    "collapsed": false
   },
   "outputs": [],
   "source": [
    "linear_model = smf.ols(formula = 'y ~ x', data = train_df).fit()"
   ]
  },
  {
   "cell_type": "code",
   "execution_count": 10,
   "metadata": {
    "collapsed": false
   },
   "outputs": [
    {
     "name": "stderr",
     "output_type": "stream",
     "text": [
      "/Users/gfnu/anaconda/lib/python2.7/site-packages/scipy/stats/stats.py:1557: UserWarning: kurtosistest only valid for n>=20 ... continuing anyway, n=8\n",
      "  \"anyway, n=%i\" % int(n))\n"
     ]
    },
    {
     "data": {
      "text/html": [
       "<table class=\"simpletable\">\n",
       "<caption>OLS Regression Results</caption>\n",
       "<tr>\n",
       "  <th>Dep. Variable:</th>            <td>y</td>        <th>  R-squared:         </th> <td>   0.922</td>\n",
       "</tr>\n",
       "<tr>\n",
       "  <th>Model:</th>                   <td>OLS</td>       <th>  Adj. R-squared:    </th> <td>   0.909</td>\n",
       "</tr>\n",
       "<tr>\n",
       "  <th>Method:</th>             <td>Least Squares</td>  <th>  F-statistic:       </th> <td>   70.91</td>\n",
       "</tr>\n",
       "<tr>\n",
       "  <th>Date:</th>             <td>Tue, 31 May 2016</td> <th>  Prob (F-statistic):</th> <td>0.000153</td>\n",
       "</tr>\n",
       "<tr>\n",
       "  <th>Time:</th>                 <td>20:17:17</td>     <th>  Log-Likelihood:    </th> <td>  13.061</td>\n",
       "</tr>\n",
       "<tr>\n",
       "  <th>No. Observations:</th>      <td>     8</td>      <th>  AIC:               </th> <td>  -22.12</td>\n",
       "</tr>\n",
       "<tr>\n",
       "  <th>Df Residuals:</th>          <td>     6</td>      <th>  BIC:               </th> <td>  -21.96</td>\n",
       "</tr>\n",
       "<tr>\n",
       "  <th>Df Model:</th>              <td>     1</td>      <th>                     </th>     <td> </td>   \n",
       "</tr>\n",
       "<tr>\n",
       "  <th>Covariance Type:</th>      <td>nonrobust</td>    <th>                     </th>     <td> </td>   \n",
       "</tr>\n",
       "</table>\n",
       "<table class=\"simpletable\">\n",
       "<tr>\n",
       "      <td></td>         <th>coef</th>     <th>std err</th>      <th>t</th>      <th>P>|t|</th> <th>[95.0% Conf. Int.]</th> \n",
       "</tr>\n",
       "<tr>\n",
       "  <th>Intercept</th> <td>    0.9254</td> <td>    0.035</td> <td>   26.258</td> <td> 0.000</td> <td>    0.839     1.012</td>\n",
       "</tr>\n",
       "<tr>\n",
       "  <th>x</th>         <td>   -0.0709</td> <td>    0.008</td> <td>   -8.421</td> <td> 0.000</td> <td>   -0.092    -0.050</td>\n",
       "</tr>\n",
       "</table>\n",
       "<table class=\"simpletable\">\n",
       "<tr>\n",
       "  <th>Omnibus:</th>       <td> 1.277</td> <th>  Durbin-Watson:     </th> <td>   0.634</td>\n",
       "</tr>\n",
       "<tr>\n",
       "  <th>Prob(Omnibus):</th> <td> 0.528</td> <th>  Jarque-Bera (JB):  </th> <td>   0.711</td>\n",
       "</tr>\n",
       "<tr>\n",
       "  <th>Skew:</th>          <td> 0.310</td> <th>  Prob(JB):          </th> <td>   0.701</td>\n",
       "</tr>\n",
       "<tr>\n",
       "  <th>Kurtosis:</th>      <td> 1.678</td> <th>  Cond. No.          </th> <td>    7.95</td>\n",
       "</tr>\n",
       "</table>"
      ],
      "text/plain": [
       "<class 'statsmodels.iolib.summary.Summary'>\n",
       "\"\"\"\n",
       "                            OLS Regression Results                            \n",
       "==============================================================================\n",
       "Dep. Variable:                      y   R-squared:                       0.922\n",
       "Model:                            OLS   Adj. R-squared:                  0.909\n",
       "Method:                 Least Squares   F-statistic:                     70.91\n",
       "Date:                Tue, 31 May 2016   Prob (F-statistic):           0.000153\n",
       "Time:                        20:17:17   Log-Likelihood:                 13.061\n",
       "No. Observations:                   8   AIC:                            -22.12\n",
       "Df Residuals:                       6   BIC:                            -21.96\n",
       "Df Model:                           1                                         \n",
       "Covariance Type:            nonrobust                                         \n",
       "==============================================================================\n",
       "                 coef    std err          t      P>|t|      [95.0% Conf. Int.]\n",
       "------------------------------------------------------------------------------\n",
       "Intercept      0.9254      0.035     26.258      0.000         0.839     1.012\n",
       "x             -0.0709      0.008     -8.421      0.000        -0.092    -0.050\n",
       "==============================================================================\n",
       "Omnibus:                        1.277   Durbin-Watson:                   0.634\n",
       "Prob(Omnibus):                  0.528   Jarque-Bera (JB):                0.711\n",
       "Skew:                           0.310   Prob(JB):                        0.701\n",
       "Kurtosis:                       1.678   Cond. No.                         7.95\n",
       "==============================================================================\n",
       "\n",
       "Warnings:\n",
       "[1] Standard Errors assume that the covariance matrix of the errors is correctly specified.\n",
       "\"\"\""
      ]
     },
     "execution_count": 10,
     "metadata": {},
     "output_type": "execute_result"
    }
   ],
   "source": [
    "linear_model.summary()"
   ]
  },
  {
   "cell_type": "code",
   "execution_count": 18,
   "metadata": {
    "collapsed": false
   },
   "outputs": [
    {
     "data": {
      "text/plain": [
       "Intercept    0.925417\n",
       "x           -0.070940\n",
       "dtype: float64"
      ]
     },
     "execution_count": 18,
     "metadata": {},
     "output_type": "execute_result"
    }
   ],
   "source": [
    "linear_model.params"
   ]
  },
  {
   "cell_type": "code",
   "execution_count": 21,
   "metadata": {
    "collapsed": true
   },
   "outputs": [],
   "source": [
    "def linear_y_hat(x):\n",
<<<<<<< HEAD
    "    return linear_model.params.Intercept + x * linear_model.params.x"
=======
    "    # TODO"
>>>>>>> upstream/master
   ]
  },
  {
   "cell_type": "code",
   "execution_count": 22,
   "metadata": {
    "collapsed": false
   },
   "outputs": [
    {
     "data": {
      "text/plain": [
       "<matplotlib.legend.Legend at 0x11da87210>"
      ]
     },
     "execution_count": 22,
     "metadata": {},
     "output_type": "execute_result"
    },
    {
     "data": {
      "image/png": "iVBORw0KGgoAAAANSUhEUgAAAXgAAAEECAYAAAAifS8cAAAABHNCSVQICAgIfAhkiAAAAAlwSFlz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\nKQAAAABJRU5ErkJggg==\n",
      "text/plain": [
       "<matplotlib.figure.Figure at 0x11d616050>"
      ]
     },
     "metadata": {},
     "output_type": "display_data"
    }
   ],
   "source": [
    "xs = pd.Series(np.linspace(0, 7, 700))\n",
    "\n",
    "plt.figure()\n",
    "plt.xlim((xs.min(), xs.max()))\n",
    "plt.ylim((0, 1))\n",
    "plt.scatter(train_df.x, train_df.y, marker = 'x', s = 200)\n",
    "plt.plot(xs, xs.apply(linear_y_hat), label = 'linear')\n",
    "plt.legend()"
   ]
  },
  {
   "cell_type": "code",
   "execution_count": 23,
   "metadata": {
    "collapsed": false
   },
   "outputs": [],
   "source": [
    "quadratic_model = smf.ols(formula = 'y ~ x + x ^ 2', data = train_df).fit()"
   ]
  },
  {
   "cell_type": "code",
   "execution_count": 24,
   "metadata": {
    "collapsed": false
   },
   "outputs": [
    {
     "data": {
      "text/html": [
       "<table class=\"simpletable\">\n",
       "<caption>OLS Regression Results</caption>\n",
       "<tr>\n",
       "  <th>Dep. Variable:</th>            <td>y</td>        <th>  R-squared:         </th> <td>   0.923</td>\n",
       "</tr>\n",
       "<tr>\n",
       "  <th>Model:</th>                   <td>OLS</td>       <th>  Adj. R-squared:    </th> <td>   0.892</td>\n",
       "</tr>\n",
       "<tr>\n",
       "  <th>Method:</th>             <td>Least Squares</td>  <th>  F-statistic:       </th> <td>   30.03</td>\n",
       "</tr>\n",
       "<tr>\n",
       "  <th>Date:</th>             <td>Tue, 31 May 2016</td> <th>  Prob (F-statistic):</th>  <td>0.00164</td>\n",
       "</tr>\n",
       "<tr>\n",
       "  <th>Time:</th>                 <td>20:21:43</td>     <th>  Log-Likelihood:    </th> <td>  13.121</td>\n",
       "</tr>\n",
       "<tr>\n",
       "  <th>No. Observations:</th>      <td>     8</td>      <th>  AIC:               </th> <td>  -20.24</td>\n",
       "</tr>\n",
       "<tr>\n",
       "  <th>Df Residuals:</th>          <td>     5</td>      <th>  BIC:               </th> <td>  -20.00</td>\n",
       "</tr>\n",
       "<tr>\n",
       "  <th>Df Model:</th>              <td>     2</td>      <th>                     </th>     <td> </td>   \n",
       "</tr>\n",
       "<tr>\n",
       "  <th>Covariance Type:</th>      <td>nonrobust</td>    <th>                     </th>     <td> </td>   \n",
       "</tr>\n",
       "</table>\n",
       "<table class=\"simpletable\">\n",
       "<tr>\n",
       "      <td></td>         <th>coef</th>     <th>std err</th>      <th>t</th>      <th>P>|t|</th> <th>[95.0% Conf. Int.]</th> \n",
       "</tr>\n",
       "<tr>\n",
       "  <th>Intercept</th> <td>    0.9211</td> <td>    0.041</td> <td>   22.274</td> <td> 0.000</td> <td>    0.815     1.027</td>\n",
       "</tr>\n",
       "<tr>\n",
       "  <th>x</th>         <td>   -0.0729</td> <td>    0.012</td> <td>   -6.252</td> <td> 0.002</td> <td>   -0.103    -0.043</td>\n",
       "</tr>\n",
       "<tr>\n",
       "  <th>x ^ 2</th>     <td>    0.0032</td> <td>    0.012</td> <td>    0.275</td> <td> 0.795</td> <td>   -0.027     0.033</td>\n",
       "</tr>\n",
       "</table>\n",
       "<table class=\"simpletable\">\n",
       "<tr>\n",
       "  <th>Omnibus:</th>       <td> 1.491</td> <th>  Durbin-Watson:     </th> <td>   0.630</td>\n",
       "</tr>\n",
       "<tr>\n",
       "  <th>Prob(Omnibus):</th> <td> 0.474</td> <th>  Jarque-Bera (JB):  </th> <td>   0.769</td>\n",
       "</tr>\n",
       "<tr>\n",
       "  <th>Skew:</th>          <td> 0.342</td> <th>  Prob(JB):          </th> <td>   0.681</td>\n",
       "</tr>\n",
       "<tr>\n",
       "  <th>Kurtosis:</th>      <td> 1.644</td> <th>  Cond. No.          </th> <td>    11.6</td>\n",
       "</tr>\n",
       "</table>"
      ],
      "text/plain": [
       "<class 'statsmodels.iolib.summary.Summary'>\n",
       "\"\"\"\n",
       "                            OLS Regression Results                            \n",
       "==============================================================================\n",
       "Dep. Variable:                      y   R-squared:                       0.923\n",
       "Model:                            OLS   Adj. R-squared:                  0.892\n",
       "Method:                 Least Squares   F-statistic:                     30.03\n",
       "Date:                Tue, 31 May 2016   Prob (F-statistic):            0.00164\n",
       "Time:                        20:21:43   Log-Likelihood:                 13.121\n",
       "No. Observations:                   8   AIC:                            -20.24\n",
       "Df Residuals:                       5   BIC:                            -20.00\n",
       "Df Model:                           2                                         \n",
       "Covariance Type:            nonrobust                                         \n",
       "==============================================================================\n",
       "                 coef    std err          t      P>|t|      [95.0% Conf. Int.]\n",
       "------------------------------------------------------------------------------\n",
       "Intercept      0.9211      0.041     22.274      0.000         0.815     1.027\n",
       "x             -0.0729      0.012     -6.252      0.002        -0.103    -0.043\n",
       "x ^ 2          0.0032      0.012      0.275      0.795        -0.027     0.033\n",
       "==============================================================================\n",
       "Omnibus:                        1.491   Durbin-Watson:                   0.630\n",
       "Prob(Omnibus):                  0.474   Jarque-Bera (JB):                0.769\n",
       "Skew:                           0.342   Prob(JB):                        0.681\n",
       "Kurtosis:                       1.644   Cond. No.                         11.6\n",
       "==============================================================================\n",
       "\n",
       "Warnings:\n",
       "[1] Standard Errors assume that the covariance matrix of the errors is correctly specified.\n",
       "\"\"\""
      ]
     },
     "execution_count": 24,
     "metadata": {},
     "output_type": "execute_result"
    }
   ],
   "source": [
    "quadratic_model.summary()"
   ]
  },
  {
   "cell_type": "code",
   "execution_count": 25,
   "metadata": {
    "collapsed": true
   },
   "outputs": [],
   "source": [
    "def quadratic_y_hat(x):\n",
    "    return quadratic_model.params[0] \\\n",
    "           + quadratic_model.params[1] * x \\\n",
    "           + quadratic_model.params[2] * (x ** 2)"
   ]
  },
  {
   "cell_type": "code",
   "execution_count": 26,
   "metadata": {
    "collapsed": false
   },
   "outputs": [
    {
     "data": {
      "text/plain": [
       "<matplotlib.legend.Legend at 0x11daec750>"
      ]
     },
     "execution_count": 26,
     "metadata": {},
     "output_type": "execute_result"
    },
    {
     "data": {
      "image/png": "iVBORw0KGgoAAAANSUhEUgAAAXgAAAEECAYAAAAifS8cAAAABHNCSVQICAgIfAhkiAAAAAlwSFlz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\n4IUQwk/9f5/vcovz4IrFAAAAAElFTkSuQmCC\n",
      "text/plain": [
       "<matplotlib.figure.Figure at 0x11d86c150>"
      ]
     },
     "metadata": {},
     "output_type": "display_data"
    }
   ],
   "source": [
    "xs = pd.Series(np.linspace(0, 7, 700))\n",
    "\n",
    "plt.figure()\n",
    "plt.xlim((xs.min(), xs.max()))\n",
    "plt.ylim((0, 1))\n",
    "plt.scatter(train_df.x, train_df.y, marker = 'x', s = 200)\n",
    "plt.plot(xs, xs.apply(linear_y_hat), label = 'linear')\n",
    "plt.plot(xs, xs.apply(quadratic_y_hat), label = 'quadratic')\n",
    "plt.legend()"
   ]
  },
  {
   "cell_type": "code",
   "execution_count": 27,
   "metadata": {
    "collapsed": false
   },
   "outputs": [],
   "source": [
    "def polynomial_y_hat(x):\n",
    "    return 1.\\\n",
    "           - .100597619 * x \\\n",
    "           - .0596777778 * (x ** 2) \\\n",
    "           + .0380569444 * (x ** 3) \\\n",
    "           - .0101944444 * (x ** 4) \\\n",
    "           + .00153611111 * (x ** 5) \\\n",
    "           - .000127777778 * (x ** 6) \\\n",
    "           + .00000456349206 * (x ** 7)"
   ]
  },
  {
   "cell_type": "code",
   "execution_count": 28,
   "metadata": {
    "collapsed": false
   },
   "outputs": [
    {
     "data": {
      "text/plain": [
       "<matplotlib.legend.Legend at 0x11d714790>"
      ]
     },
     "execution_count": 28,
     "metadata": {},
     "output_type": "execute_result"
    },
    {
     "data": {
      "image/png": "iVBORw0KGgoAAAANSUhEUgAAAXgAAAEECAYAAAAifS8cAAAABHNCSVQICAgIfAhkiAAAAAlwSFlz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\n1xxnOs+zpgAAAABJRU5ErkJggg==\n",
      "text/plain": [
       "<matplotlib.figure.Figure at 0x11daec7d0>"
      ]
     },
     "metadata": {},
     "output_type": "display_data"
    }
   ],
   "source": [
    "xs = pd.Series(np.linspace(0, 7, 700))\n",
    "\n",
    "plt.figure()\n",
    "plt.xlim((xs.min(), xs.max()))\n",
    "plt.ylim((0, 1))\n",
    "plt.scatter(train_df.x, train_df.y, marker = 'x', s = 200)\n",
    "plt.plot(xs, xs.apply(linear_y_hat), label = 'linear')\n",
    "plt.plot(xs, xs.apply(quadratic_y_hat), label = 'quadratic')\n",
    "plt.plot(xs, xs.apply(polynomial_y_hat), label = 'polynomial')\n",
    "plt.legend()"
   ]
  },
  {
   "cell_type": "code",
   "execution_count": 30,
   "metadata": {
    "collapsed": false
   },
   "outputs": [
    {
     "data": {
      "text/plain": [
       "<matplotlib.legend.Legend at 0x11ddd3690>"
      ]
     },
     "execution_count": 30,
     "metadata": {},
     "output_type": "execute_result"
    },
    {
     "data": {
      "image/png": "iVBORw0KGgoAAAANSUhEUgAAAXsAAAEECAYAAADJSpQfAAAABHNCSVQICAgIfAhkiAAAAAlwSFlz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\n",
      "text/plain": [
       "<matplotlib.figure.Figure at 0x11daec450>"
      ]
     },
     "metadata": {},
     "output_type": "display_data"
    }
   ],
   "source": [
    "xs = pd.Series(np.linspace(0, 20, 1200))\n",
    "\n",
    "plt.figure()\n",
    "plt.xlim((xs.min(), xs.max()))\n",
    "plt.ylim((0, 2))\n",
    "plt.scatter(train_df.x, train_df.y, marker = 'x', s = 200)\n",
    "plt.plot(xs, xs.apply(linear_y_hat), label = 'linear')\n",
    "plt.plot(xs, xs.apply(quadratic_y_hat), label = 'quadratic')\n",
    "plt.plot(xs, xs.apply(polynomial_y_hat), label = 'polynomial')\n",
    "plt.axvline(x = 7)\n",
    "plt.legend()"
   ]
  },
  {
   "cell_type": "code",
   "execution_count": 31,
   "metadata": {
    "collapsed": true
   },
   "outputs": [],
   "source": [
    "test_df = pd.DataFrame({'t': range(8,13), 'survival_rate': [.468, .445,.427,.409,.394]})"
   ]
  },
  {
   "cell_type": "code",
   "execution_count": 32,
   "metadata": {
    "collapsed": false
   },
   "outputs": [
    {
     "data": {
      "text/html": [
       "<div>\n",
       "<table border=\"1\" class=\"dataframe\">\n",
       "  <thead>\n",
       "    <tr style=\"text-align: right;\">\n",
       "      <th></th>\n",
       "      <th>survival_rate</th>\n",
       "      <th>t</th>\n",
       "    </tr>\n",
       "  </thead>\n",
       "  <tbody>\n",
       "    <tr>\n",
       "      <th>0</th>\n",
       "      <td>0.468</td>\n",
       "      <td>8</td>\n",
       "    </tr>\n",
       "    <tr>\n",
       "      <th>1</th>\n",
       "      <td>0.445</td>\n",
       "      <td>9</td>\n",
       "    </tr>\n",
       "    <tr>\n",
       "      <th>2</th>\n",
       "      <td>0.427</td>\n",
       "      <td>10</td>\n",
       "    </tr>\n",
       "    <tr>\n",
       "      <th>3</th>\n",
       "      <td>0.409</td>\n",
       "      <td>11</td>\n",
       "    </tr>\n",
       "    <tr>\n",
       "      <th>4</th>\n",
       "      <td>0.394</td>\n",
       "      <td>12</td>\n",
       "    </tr>\n",
       "  </tbody>\n",
       "</table>\n",
       "</div>"
      ],
      "text/plain": [
       "   survival_rate   t\n",
       "0          0.468   8\n",
       "1          0.445   9\n",
       "2          0.427  10\n",
       "3          0.409  11\n",
       "4          0.394  12"
      ]
     },
     "execution_count": 32,
     "metadata": {},
     "output_type": "execute_result"
    }
   ],
   "source": [
    "test_df"
   ]
  },
  {
   "cell_type": "code",
   "execution_count": 33,
   "metadata": {
    "collapsed": true
   },
   "outputs": [],
   "source": [
    "test_df['y'] = test_df.survival_rate\n",
    "test_df['x'] = test_df.t"
   ]
  },
  {
   "cell_type": "code",
   "execution_count": 35,
   "metadata": {
    "collapsed": false
   },
   "outputs": [
    {
     "data": {
      "text/plain": [
       "<matplotlib.legend.Legend at 0x11de4e190>"
      ]
     },
     "execution_count": 35,
     "metadata": {},
     "output_type": "execute_result"
    },
    {
     "data": {
      "image/png": "iVBORw0KGgoAAAANSUhEUgAAAXsAAAEECAYAAADJSpQfAAAABHNCSVQICAgIfAhkiAAAAAlwSFlz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\nsBdCiAggYS+EEBHg/wNi2xnCDYAhzwAAAABJRU5ErkJggg==\n",
      "text/plain": [
       "<matplotlib.figure.Figure at 0x11daece10>"
      ]
     },
     "metadata": {},
     "output_type": "display_data"
    }
   ],
   "source": [
    "xs = pd.Series(np.linspace(0, 20, 1200))\n",
    "\n",
    "plt.figure()\n",
    "plt.xlim((xs.min(), xs.max()))\n",
    "plt.ylim((0, 2))\n",
    "plt.scatter(train_df.x, train_df.y, marker = 'x', s = 200)\n",
    "plt.plot(xs, xs.apply(linear_y_hat), label = 'linear')\n",
    "plt.plot(xs, xs.apply(quadratic_y_hat), label = 'quadratic')\n",
    "plt.plot(xs, xs.apply(polynomial_y_hat), label = 'polynomial')\n",
    "plt.axvline(x = 7)\n",
    "plt.scatter(test_df.x, test_df.y, marker = 'x', s = 200)\n",
    "plt.legend()"
   ]
  },
  {
   "cell_type": "code",
   "execution_count": 37,
   "metadata": {
    "collapsed": false
   },
   "outputs": [],
   "source": [
    "test_df['linear_y_hat'] = test_df.x.apply(linear_y_hat)\n",
    "test_df['quadratic_y_hat'] = test_df.x.apply(quadratic_y_hat)\n",
    "test_df['polynomial_y_hat'] = test_df.x.apply(polynomial_y_hat)"
   ]
  },
  {
   "cell_type": "code",
   "execution_count": 39,
   "metadata": {
    "collapsed": false
   },
   "outputs": [
    {
     "data": {
      "text/plain": [
       "1.0000000000000004"
      ]
     },
     "execution_count": 39,
     "metadata": {},
     "output_type": "execute_result"
    }
   ],
   "source": [
    "#r^2 correlation between x and y^2?\n",
    "test_df.x.corr(test_df['linear_y_hat']) ** 2\n",
    "#r^2 tells you that ratio is constant"
   ]
  },
  {
   "cell_type": "code",
   "execution_count": 40,
   "metadata": {
    "collapsed": false
   },
   "outputs": [
    {
     "data": {
      "text/plain": [
       "0.84594607876189776"
      ]
     },
     "execution_count": 40,
     "metadata": {},
     "output_type": "execute_result"
    }
   ],
   "source": [
    "test_df.x.corr(test_df['quadratic_y_hat']) ** 2"
   ]
  },
  {
   "cell_type": "code",
   "execution_count": 41,
   "metadata": {
    "collapsed": false
   },
   "outputs": [
    {
     "data": {
      "text/plain": [
       "0.79740040125972134"
      ]
     },
     "execution_count": 41,
     "metadata": {},
     "output_type": "execute_result"
    }
   ],
   "source": [
    "test_df.x.corr(test_df['polynomial_y_hat']) ** 2"
   ]
  },
  {
   "cell_type": "code",
   "execution_count": 42,
   "metadata": {
    "collapsed": false
   },
   "outputs": [
    {
     "data": {
      "text/plain": [
       "Index([u'survival_rate', u't', u'y', u'x', u'linear_y_hat', u'quadratic_y_hat',\n",
       "       u'polynomial_y_hat'],\n",
       "      dtype='object')"
      ]
     },
     "execution_count": 42,
     "metadata": {},
     "output_type": "execute_result"
    }
   ],
   "source": [
    "test_df.columns"
   ]
  },
  {
   "cell_type": "code",
   "execution_count": 43,
   "metadata": {
    "collapsed": false
   },
   "outputs": [
    {
     "data": {
      "text/plain": [
       "<matplotlib.axes._subplots.AxesSubplot at 0x11d827310>"
      ]
     },
     "execution_count": 43,
     "metadata": {},
     "output_type": "execute_result"
    },
    {
     "data": {
      "image/png": "iVBORw0KGgoAAAANSUhEUgAAAXsAAAEWCAYAAACHVDePAAAABHNCSVQICAgIfAhkiAAAAAlwSFlz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\n",
      "text/plain": [
       "<matplotlib.figure.Figure at 0x11e041750>"
      ]
     },
     "metadata": {},
     "output_type": "display_data"
    }
   ],
   "source": [
    "test_df.plot(x = 'y', y = 'linear_y_hat')"
   ]
  },
  {
   "cell_type": "code",
   "execution_count": null,
   "metadata": {
    "collapsed": true
   },
   "outputs": [],
   "source": []
  },
  {
   "cell_type": "code",
   "execution_count": null,
   "metadata": {
    "collapsed": true
   },
   "outputs": [],
   "source": []
  },
  {
   "cell_type": "code",
   "execution_count": null,
   "metadata": {
    "collapsed": false
   },
   "outputs": [],
   "source": [
    "plt.figure()\n",
    "plt.xlim((test_df.y.min(), test_df.y.max()))\n",
    "plt.ylim((0, 2))\n",
    "plt.plot(test_df.y, test_df.y, label = 'y')\n",
    "plt.plot(test_df.y, test_df.linear_y_hat, label = 'linear_y_hat')\n",
    "plt.plot(test_df.y, test_df.quadratic_y_hat, label = 'quadratic_y_hat')\n",
    "plt.plot(test_df.y, test_df.polynomial_y_hat, label = 'polynomial_y_hat')\n",
    "plt.legend()"
   ]
  },
  {
   "cell_type": "markdown",
   "metadata": {},
   "source": [
    "## `Iris` dataset"
   ]
  },
  {
   "cell_type": "code",
   "execution_count": 44,
   "metadata": {
    "collapsed": false
   },
   "outputs": [],
   "source": [
    "df = pd.read_csv(os.path.join('..', 'datasets', 'iris.csv'))"
   ]
  },
  {
   "cell_type": "code",
   "execution_count": 45,
   "metadata": {
    "collapsed": false
   },
   "outputs": [
    {
     "data": {
      "text/html": [
       "<div>\n",
       "<table border=\"1\" class=\"dataframe\">\n",
       "  <thead>\n",
       "    <tr style=\"text-align: right;\">\n",
       "      <th></th>\n",
       "      <th>SepalLength</th>\n",
       "      <th>SepalWidth</th>\n",
       "      <th>PetalLength</th>\n",
       "      <th>PetalWidth</th>\n",
       "      <th>Species</th>\n",
       "    </tr>\n",
       "  </thead>\n",
       "  <tbody>\n",
       "    <tr>\n",
       "      <th>0</th>\n",
       "      <td>5.1</td>\n",
       "      <td>3.5</td>\n",
       "      <td>1.4</td>\n",
       "      <td>0.2</td>\n",
       "      <td>Setosa</td>\n",
       "    </tr>\n",
       "    <tr>\n",
       "      <th>1</th>\n",
       "      <td>4.9</td>\n",
       "      <td>3.0</td>\n",
       "      <td>1.4</td>\n",
       "      <td>0.2</td>\n",
       "      <td>Setosa</td>\n",
       "    </tr>\n",
       "    <tr>\n",
       "      <th>2</th>\n",
       "      <td>4.7</td>\n",
       "      <td>3.2</td>\n",
       "      <td>1.3</td>\n",
       "      <td>0.2</td>\n",
       "      <td>Setosa</td>\n",
       "    </tr>\n",
       "    <tr>\n",
       "      <th>3</th>\n",
       "      <td>4.6</td>\n",
       "      <td>3.1</td>\n",
       "      <td>1.5</td>\n",
       "      <td>0.2</td>\n",
       "      <td>Setosa</td>\n",
       "    </tr>\n",
       "    <tr>\n",
       "      <th>4</th>\n",
       "      <td>5.0</td>\n",
       "      <td>3.6</td>\n",
       "      <td>1.4</td>\n",
       "      <td>0.2</td>\n",
       "      <td>Setosa</td>\n",
       "    </tr>\n",
       "    <tr>\n",
       "      <th>...</th>\n",
       "      <td>...</td>\n",
       "      <td>...</td>\n",
       "      <td>...</td>\n",
       "      <td>...</td>\n",
       "      <td>...</td>\n",
       "    </tr>\n",
       "    <tr>\n",
       "      <th>145</th>\n",
       "      <td>6.7</td>\n",
       "      <td>3.0</td>\n",
       "      <td>5.2</td>\n",
       "      <td>2.3</td>\n",
       "      <td>Virginica</td>\n",
       "    </tr>\n",
       "    <tr>\n",
       "      <th>146</th>\n",
       "      <td>6.3</td>\n",
       "      <td>2.5</td>\n",
       "      <td>5.0</td>\n",
       "      <td>1.9</td>\n",
       "      <td>Virginica</td>\n",
       "    </tr>\n",
       "    <tr>\n",
       "      <th>147</th>\n",
       "      <td>6.5</td>\n",
       "      <td>3.0</td>\n",
       "      <td>5.2</td>\n",
       "      <td>2.0</td>\n",
       "      <td>Virginica</td>\n",
       "    </tr>\n",
       "    <tr>\n",
       "      <th>148</th>\n",
       "      <td>6.2</td>\n",
       "      <td>3.4</td>\n",
       "      <td>5.4</td>\n",
       "      <td>2.3</td>\n",
       "      <td>Virginica</td>\n",
       "    </tr>\n",
       "    <tr>\n",
       "      <th>149</th>\n",
       "      <td>5.9</td>\n",
       "      <td>3.0</td>\n",
       "      <td>5.1</td>\n",
       "      <td>1.8</td>\n",
       "      <td>Virginica</td>\n",
       "    </tr>\n",
       "  </tbody>\n",
       "</table>\n",
       "<p>150 rows × 5 columns</p>\n",
       "</div>"
      ],
      "text/plain": [
       "     SepalLength  SepalWidth  PetalLength  PetalWidth    Species\n",
       "0            5.1         3.5          1.4         0.2     Setosa\n",
       "1            4.9         3.0          1.4         0.2     Setosa\n",
       "2            4.7         3.2          1.3         0.2     Setosa\n",
       "3            4.6         3.1          1.5         0.2     Setosa\n",
       "4            5.0         3.6          1.4         0.2     Setosa\n",
       "..           ...         ...          ...         ...        ...\n",
       "145          6.7         3.0          5.2         2.3  Virginica\n",
       "146          6.3         2.5          5.0         1.9  Virginica\n",
       "147          6.5         3.0          5.2         2.0  Virginica\n",
       "148          6.2         3.4          5.4         2.3  Virginica\n",
       "149          5.9         3.0          5.1         1.8  Virginica\n",
       "\n",
       "[150 rows x 5 columns]"
      ]
     },
     "execution_count": 45,
     "metadata": {},
     "output_type": "execute_result"
    }
   ],
   "source": [
    "df"
   ]
  },
  {
   "cell_type": "markdown",
   "metadata": {},
   "source": [
    "## Part A - Activity | Iris Dataset | Exploratory Data Analysis"
   ]
  },
  {
   "cell_type": "code",
   "execution_count": 47,
   "metadata": {
    "collapsed": true
   },
   "outputs": [],
   "source": [
    "color = df.Species.map(pd.Series({'Setosa': 'red', \n",
    "                                  'Versicolor': 'green', \n",
    "                                  'Virginica': 'blue'}))"
   ]
  },
  {
   "cell_type": "code",
   "execution_count": 52,
   "metadata": {
    "collapsed": false
   },
   "outputs": [
    {
     "data": {
      "text/plain": [
       "<matplotlib.axes._subplots.AxesSubplot at 0x11ec37290>"
      ]
     },
     "execution_count": 52,
     "metadata": {},
     "output_type": "execute_result"
    },
    {
     "data": {
      "image/png": "iVBORw0KGgoAAAANSUhEUgAAAYUAAAEWCAYAAACJ0YulAAAABHNCSVQICAgIfAhkiAAAAAlwSFlz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\nioIQQgiVFAUhhBCq/wCu9RMvxHKSXgAAAABJRU5ErkJggg==\n",
      "text/plain": [
       "<matplotlib.figure.Figure at 0x11ec373d0>"
      ]
     },
     "metadata": {},
     "output_type": "display_data"
    }
   ],
   "source": [
    "df.plot('SepalLength','PetalLength', kind = 'scatter', c = color) #c = color ???"
   ]
  },
  {
   "cell_type": "code",
   "execution_count": 54,
   "metadata": {
    "collapsed": false
   },
   "outputs": [
    {
     "data": {
      "text/plain": [
       "<matplotlib.axes._subplots.AxesSubplot at 0x11ee3fd10>"
      ]
     },
     "execution_count": 54,
     "metadata": {},
     "output_type": "execute_result"
    },
    {
     "data": {
      "image/png": "iVBORw0KGgoAAAANSUhEUgAAAZcAAAEWCAYAAACqitpwAAAABHNCSVQICAgIfAhkiAAAAAlwSFlz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\nur8A16yUi/v8MdQAAAAASUVORK5CYII=\n",
      "text/plain": [
       "<matplotlib.figure.Figure at 0x11ee3ff50>"
      ]
     },
     "metadata": {},
     "output_type": "display_data"
    }
   ],
   "source": [
    "df.plot('SepalWidth','PetalWidth', kind = 'scatter', c = color)"
   ]
  },
  {
   "cell_type": "code",
   "execution_count": 55,
   "metadata": {
    "collapsed": false
   },
   "outputs": [
    {
     "data": {
      "text/plain": [
       "<matplotlib.axes._subplots.AxesSubplot at 0x11f164550>"
      ]
     },
     "execution_count": 55,
     "metadata": {},
     "output_type": "execute_result"
    },
    {
     "data": {
      "image/png": "iVBORw0KGgoAAAANSUhEUgAAAYUAAAEWCAYAAACJ0YulAAAABHNCSVQICAgIfAhkiAAAAAlwSFlz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\npzCA7wAAAABJRU5ErkJggg==\n",
      "text/plain": [
       "<matplotlib.figure.Figure at 0x11f164510>"
      ]
     },
     "metadata": {},
     "output_type": "display_data"
    }
   ],
   "source": [
    "df.plot('SepalWidth','PetalLength', kind = 'scatter', c = color)"
   ]
  },
  {
   "cell_type": "code",
   "execution_count": 56,
   "metadata": {
    "collapsed": false
   },
   "outputs": [
    {
     "data": {
      "text/plain": [
       "<matplotlib.axes._subplots.AxesSubplot at 0x11f2da2d0>"
      ]
     },
     "execution_count": 56,
     "metadata": {},
     "output_type": "execute_result"
    },
    {
     "data": {
      "image/png": "iVBORw0KGgoAAAANSUhEUgAAAY8AAAEWCAYAAACe8xtsAAAABHNCSVQICAgIfAhkiAAAAAlwSFlz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\noLF5EBFR0P4Dnh7W9GNssxUAAAAASUVORK5CYII=\n",
      "text/plain": [
       "<matplotlib.figure.Figure at 0x11f2da250>"
      ]
     },
     "metadata": {},
     "output_type": "display_data"
    }
   ],
   "source": [
    "df.plot('PetalWidth','SepalLength', kind = 'scatter', c = color)"
   ]
  },
  {
   "cell_type": "markdown",
   "metadata": {},
   "source": [
    "## Part B - First hand-coded classifier"
   ]
  },
  {
   "cell_type": "code",
   "execution_count": 73,
   "metadata": {
    "collapsed": true
   },
   "outputs": [],
   "source": [
    "def my_first_classifier(row):\n",
    "    if row.PetalLength < 2:\n",
    "        return 'Setosa'\n",
    "    else:\n",
    "        return 'Versicolor'"
   ]
  },
  {
   "cell_type": "code",
   "execution_count": 74,
   "metadata": {
    "collapsed": false
   },
   "outputs": [
    {
     "data": {
      "text/plain": [
       "0          Setosa\n",
       "1          Setosa\n",
       "2          Setosa\n",
       "3          Setosa\n",
       "4          Setosa\n",
       "          ...    \n",
       "145    Versicolor\n",
       "146    Versicolor\n",
       "147    Versicolor\n",
       "148    Versicolor\n",
       "149    Versicolor\n",
       "dtype: object"
      ]
     },
     "execution_count": 74,
     "metadata": {},
     "output_type": "execute_result"
    }
   ],
   "source": [
    "y_hat = df.apply(my_first_classifier, axis = 1)\n",
    "\n",
    "y_hat"
   ]
  },
  {
   "cell_type": "code",
   "execution_count": 75,
   "metadata": {
    "collapsed": false
   },
   "outputs": [
    {
     "data": {
      "text/html": [
       "<div>\n",
       "<table border=\"1\" class=\"dataframe\">\n",
       "  <thead>\n",
       "    <tr style=\"text-align: right;\">\n",
       "      <th></th>\n",
       "      <th>Observed</th>\n",
       "      <th>Predicted</th>\n",
       "    </tr>\n",
       "  </thead>\n",
       "  <tbody>\n",
       "    <tr>\n",
       "      <th>0</th>\n",
       "      <td>Setosa</td>\n",
       "      <td>Setosa</td>\n",
       "    </tr>\n",
       "    <tr>\n",
       "      <th>1</th>\n",
       "      <td>Setosa</td>\n",
       "      <td>Setosa</td>\n",
       "    </tr>\n",
       "    <tr>\n",
       "      <th>2</th>\n",
       "      <td>Setosa</td>\n",
       "      <td>Setosa</td>\n",
       "    </tr>\n",
       "    <tr>\n",
       "      <th>3</th>\n",
       "      <td>Setosa</td>\n",
       "      <td>Setosa</td>\n",
       "    </tr>\n",
       "    <tr>\n",
       "      <th>4</th>\n",
       "      <td>Setosa</td>\n",
       "      <td>Setosa</td>\n",
       "    </tr>\n",
       "    <tr>\n",
       "      <th>...</th>\n",
       "      <td>...</td>\n",
       "      <td>...</td>\n",
       "    </tr>\n",
       "    <tr>\n",
       "      <th>145</th>\n",
       "      <td>Virginica</td>\n",
       "      <td>Versicolor</td>\n",
       "    </tr>\n",
       "    <tr>\n",
       "      <th>146</th>\n",
       "      <td>Virginica</td>\n",
       "      <td>Versicolor</td>\n",
       "    </tr>\n",
       "    <tr>\n",
       "      <th>147</th>\n",
       "      <td>Virginica</td>\n",
       "      <td>Versicolor</td>\n",
       "    </tr>\n",
       "    <tr>\n",
       "      <th>148</th>\n",
       "      <td>Virginica</td>\n",
       "      <td>Versicolor</td>\n",
       "    </tr>\n",
       "    <tr>\n",
       "      <th>149</th>\n",
       "      <td>Virginica</td>\n",
       "      <td>Versicolor</td>\n",
       "    </tr>\n",
       "  </tbody>\n",
       "</table>\n",
       "<p>150 rows × 2 columns</p>\n",
       "</div>"
      ],
      "text/plain": [
       "      Observed   Predicted\n",
       "0       Setosa      Setosa\n",
       "1       Setosa      Setosa\n",
       "2       Setosa      Setosa\n",
       "3       Setosa      Setosa\n",
       "4       Setosa      Setosa\n",
       "..         ...         ...\n",
       "145  Virginica  Versicolor\n",
       "146  Virginica  Versicolor\n",
       "147  Virginica  Versicolor\n",
       "148  Virginica  Versicolor\n",
       "149  Virginica  Versicolor\n",
       "\n",
       "[150 rows x 2 columns]"
      ]
     },
     "execution_count": 75,
     "metadata": {},
     "output_type": "execute_result"
    }
   ],
   "source": [
    "species_df = pd.DataFrame({'Observed': df.Species, 'Predicted': y_hat})\n",
    "\n",
    "species_df"
   ]
  },
  {
   "cell_type": "markdown",
   "metadata": {},
   "source": [
    "## Part C - Classification metrics"
   ]
  },
  {
   "cell_type": "markdown",
   "metadata": {},
   "source": [
    "### Accuracy"
   ]
  },
  {
   "cell_type": "code",
   "execution_count": 76,
   "metadata": {
    "collapsed": false
   },
   "outputs": [
    {
     "data": {
      "text/plain": [
       "0.66666666666666663"
      ]
     },
     "execution_count": 76,
     "metadata": {},
     "output_type": "execute_result"
    }
   ],
   "source": [
    "(species_df.Observed == species_df.Predicted).mean()\n",
    "#how many have you predict are the accurate value"
   ]
  },
  {
   "cell_type": "markdown",
   "metadata": {},
   "source": [
    "### Misclassification rate"
   ]
  },
  {
   "cell_type": "code",
   "execution_count": 77,
   "metadata": {
    "collapsed": false
   },
   "outputs": [
    {
     "data": {
      "text/plain": [
       "0.33333333333333331"
      ]
     },
     "execution_count": 77,
     "metadata": {},
     "output_type": "execute_result"
    }
   ],
   "source": [
    "(species_df.Observed != species_df.Predicted).mean()"
   ]
  },
  {
   "cell_type": "markdown",
   "metadata": {},
   "source": [
    "## Part D - Activity | Second hand-coded classifier"
   ]
  },
  {
   "cell_type": "code",
   "execution_count": 69,
   "metadata": {
    "collapsed": true
   },
   "outputs": [],
   "source": [
    "def my_second_classifier(row):\n",
    "    if row.PetalLength < 2:\n",
    "        return 'Setosa'\n",
    "    elif row.PetalLength < 5:\n",
    "        return 'Versicolor'\n",
    "    else:\n",
    "        return 'Virginica'"
   ]
  },
  {
   "cell_type": "code",
   "execution_count": 70,
   "metadata": {
    "collapsed": false
   },
   "outputs": [],
   "source": [
    "y_hat = df.apply(my_second_classifier, axis = 1)"
   ]
  },
  {
   "cell_type": "code",
   "execution_count": 71,
   "metadata": {
    "collapsed": false
   },
   "outputs": [
    {
     "data": {
      "text/plain": [
       "8"
      ]
     },
     "execution_count": 71,
     "metadata": {},
     "output_type": "execute_result"
    }
   ],
   "source": [
    "sum(y_hat != df.Species)"
   ]
  },
  {
   "cell_type": "code",
   "execution_count": 72,
   "metadata": {
    "collapsed": false
   },
   "outputs": [
    {
     "data": {
      "text/plain": [
       "0.9466666666666667"
      ]
     },
     "execution_count": 72,
     "metadata": {},
     "output_type": "execute_result"
    }
   ],
   "source": [
    "(y_hat == df.Species).mean()"
   ]
  },
  {
   "cell_type": "markdown",
   "metadata": {},
   "source": [
    "## Part E"
   ]
  },
  {
   "cell_type": "markdown",
   "metadata": {},
   "source": [
    "### Feature matrix and label vector"
   ]
  },
  {
   "cell_type": "code",
   "execution_count": 78,
   "metadata": {
    "collapsed": true
   },
   "outputs": [],
   "source": [
    "X = df[ ['SepalLength', 'SepalWidth', 'PetalLength', 'PetalWidth'] ]\n",
    "y = df.Species"
   ]
  },
  {
   "cell_type": "code",
   "execution_count": 79,
   "metadata": {
    "collapsed": false
   },
   "outputs": [
    {
     "data": {
      "text/html": [
       "<div>\n",
       "<table border=\"1\" class=\"dataframe\">\n",
       "  <thead>\n",
       "    <tr style=\"text-align: right;\">\n",
       "      <th></th>\n",
       "      <th>SepalLength</th>\n",
       "      <th>SepalWidth</th>\n",
       "      <th>PetalLength</th>\n",
       "      <th>PetalWidth</th>\n",
       "    </tr>\n",
       "  </thead>\n",
       "  <tbody>\n",
       "    <tr>\n",
       "      <th>0</th>\n",
       "      <td>5.1</td>\n",
       "      <td>3.5</td>\n",
       "      <td>1.4</td>\n",
       "      <td>0.2</td>\n",
       "    </tr>\n",
       "    <tr>\n",
       "      <th>1</th>\n",
       "      <td>4.9</td>\n",
       "      <td>3.0</td>\n",
       "      <td>1.4</td>\n",
       "      <td>0.2</td>\n",
       "    </tr>\n",
       "    <tr>\n",
       "      <th>2</th>\n",
       "      <td>4.7</td>\n",
       "      <td>3.2</td>\n",
       "      <td>1.3</td>\n",
       "      <td>0.2</td>\n",
       "    </tr>\n",
       "    <tr>\n",
       "      <th>3</th>\n",
       "      <td>4.6</td>\n",
       "      <td>3.1</td>\n",
       "      <td>1.5</td>\n",
       "      <td>0.2</td>\n",
       "    </tr>\n",
       "    <tr>\n",
       "      <th>4</th>\n",
       "      <td>5.0</td>\n",
       "      <td>3.6</td>\n",
       "      <td>1.4</td>\n",
       "      <td>0.2</td>\n",
       "    </tr>\n",
       "    <tr>\n",
       "      <th>...</th>\n",
       "      <td>...</td>\n",
       "      <td>...</td>\n",
       "      <td>...</td>\n",
       "      <td>...</td>\n",
       "    </tr>\n",
       "    <tr>\n",
       "      <th>145</th>\n",
       "      <td>6.7</td>\n",
       "      <td>3.0</td>\n",
       "      <td>5.2</td>\n",
       "      <td>2.3</td>\n",
       "    </tr>\n",
       "    <tr>\n",
       "      <th>146</th>\n",
       "      <td>6.3</td>\n",
       "      <td>2.5</td>\n",
       "      <td>5.0</td>\n",
       "      <td>1.9</td>\n",
       "    </tr>\n",
       "    <tr>\n",
       "      <th>147</th>\n",
       "      <td>6.5</td>\n",
       "      <td>3.0</td>\n",
       "      <td>5.2</td>\n",
       "      <td>2.0</td>\n",
       "    </tr>\n",
       "    <tr>\n",
       "      <th>148</th>\n",
       "      <td>6.2</td>\n",
       "      <td>3.4</td>\n",
       "      <td>5.4</td>\n",
       "      <td>2.3</td>\n",
       "    </tr>\n",
       "    <tr>\n",
       "      <th>149</th>\n",
       "      <td>5.9</td>\n",
       "      <td>3.0</td>\n",
       "      <td>5.1</td>\n",
       "      <td>1.8</td>\n",
       "    </tr>\n",
       "  </tbody>\n",
       "</table>\n",
       "<p>150 rows × 4 columns</p>\n",
       "</div>"
      ],
      "text/plain": [
       "     SepalLength  SepalWidth  PetalLength  PetalWidth\n",
       "0            5.1         3.5          1.4         0.2\n",
       "1            4.9         3.0          1.4         0.2\n",
       "2            4.7         3.2          1.3         0.2\n",
       "3            4.6         3.1          1.5         0.2\n",
       "4            5.0         3.6          1.4         0.2\n",
       "..           ...         ...          ...         ...\n",
       "145          6.7         3.0          5.2         2.3\n",
       "146          6.3         2.5          5.0         1.9\n",
       "147          6.5         3.0          5.2         2.0\n",
       "148          6.2         3.4          5.4         2.3\n",
       "149          5.9         3.0          5.1         1.8\n",
       "\n",
       "[150 rows x 4 columns]"
      ]
     },
     "execution_count": 79,
     "metadata": {},
     "output_type": "execute_result"
    }
   ],
   "source": [
    "X"
   ]
  },
  {
   "cell_type": "code",
   "execution_count": 80,
   "metadata": {
    "collapsed": false
   },
   "outputs": [
    {
     "data": {
      "text/plain": [
       "0         Setosa\n",
       "1         Setosa\n",
       "2         Setosa\n",
       "3         Setosa\n",
       "4         Setosa\n",
       "         ...    \n",
       "145    Virginica\n",
       "146    Virginica\n",
       "147    Virginica\n",
       "148    Virginica\n",
       "149    Virginica\n",
       "Name: Species, dtype: object"
      ]
     },
     "execution_count": 80,
     "metadata": {},
     "output_type": "execute_result"
    }
   ],
   "source": [
    "y"
   ]
  },
  {
   "cell_type": "markdown",
   "metadata": {},
   "source": [
    "### K-Nearest Neighbors (KNN)"
   ]
  },
  {
   "cell_type": "code",
   "execution_count": 81,
   "metadata": {
    "collapsed": false
   },
   "outputs": [
    {
     "data": {
      "text/plain": [
       "KNeighborsClassifier(algorithm='auto', leaf_size=30, metric='minkowski',\n",
       "           metric_params=None, n_jobs=1, n_neighbors=5, p=2,\n",
       "           weights='uniform')"
      ]
     },
     "execution_count": 81,
     "metadata": {},
     "output_type": "execute_result"
    }
   ],
   "source": [
    "model = neighbors.KNeighborsClassifier(n_neighbors = 5, \n",
    "                                       weights = 'uniform')\n",
    "model.fit(X, y)"
   ]
  },
  {
   "cell_type": "code",
   "execution_count": 82,
   "metadata": {
    "collapsed": false
   },
   "outputs": [],
   "source": [
    "y_hat = model.predict(X)"
   ]
  },
  {
   "cell_type": "code",
   "execution_count": 83,
   "metadata": {
    "collapsed": false
   },
   "outputs": [
    {
     "data": {
      "text/html": [
       "<div>\n",
       "<table border=\"1\" class=\"dataframe\">\n",
       "  <thead>\n",
       "    <tr style=\"text-align: right;\">\n",
       "      <th></th>\n",
       "      <th>Observed</th>\n",
       "      <th>Predicted</th>\n",
       "    </tr>\n",
       "  </thead>\n",
       "  <tbody>\n",
       "    <tr>\n",
       "      <th>0</th>\n",
       "      <td>Setosa</td>\n",
       "      <td>Setosa</td>\n",
       "    </tr>\n",
       "    <tr>\n",
       "      <th>1</th>\n",
       "      <td>Setosa</td>\n",
       "      <td>Setosa</td>\n",
       "    </tr>\n",
       "    <tr>\n",
       "      <th>2</th>\n",
       "      <td>Setosa</td>\n",
       "      <td>Setosa</td>\n",
       "    </tr>\n",
       "    <tr>\n",
       "      <th>3</th>\n",
       "      <td>Setosa</td>\n",
       "      <td>Setosa</td>\n",
       "    </tr>\n",
       "    <tr>\n",
       "      <th>4</th>\n",
       "      <td>Setosa</td>\n",
       "      <td>Setosa</td>\n",
       "    </tr>\n",
       "    <tr>\n",
       "      <th>...</th>\n",
       "      <td>...</td>\n",
       "      <td>...</td>\n",
       "    </tr>\n",
       "    <tr>\n",
       "      <th>145</th>\n",
       "      <td>Virginica</td>\n",
       "      <td>Virginica</td>\n",
       "    </tr>\n",
       "    <tr>\n",
       "      <th>146</th>\n",
       "      <td>Virginica</td>\n",
       "      <td>Virginica</td>\n",
       "    </tr>\n",
       "    <tr>\n",
       "      <th>147</th>\n",
       "      <td>Virginica</td>\n",
       "      <td>Virginica</td>\n",
       "    </tr>\n",
       "    <tr>\n",
       "      <th>148</th>\n",
       "      <td>Virginica</td>\n",
       "      <td>Virginica</td>\n",
       "    </tr>\n",
       "    <tr>\n",
       "      <th>149</th>\n",
       "      <td>Virginica</td>\n",
       "      <td>Virginica</td>\n",
       "    </tr>\n",
       "  </tbody>\n",
       "</table>\n",
       "<p>150 rows × 2 columns</p>\n",
       "</div>"
      ],
      "text/plain": [
       "      Observed  Predicted\n",
       "0       Setosa     Setosa\n",
       "1       Setosa     Setosa\n",
       "2       Setosa     Setosa\n",
       "3       Setosa     Setosa\n",
       "4       Setosa     Setosa\n",
       "..         ...        ...\n",
       "145  Virginica  Virginica\n",
       "146  Virginica  Virginica\n",
       "147  Virginica  Virginica\n",
       "148  Virginica  Virginica\n",
       "149  Virginica  Virginica\n",
       "\n",
       "[150 rows x 2 columns]"
      ]
     },
     "execution_count": 83,
     "metadata": {},
     "output_type": "execute_result"
    }
   ],
   "source": [
    "species_df = pd.DataFrame({'Observed': y, 'Predicted': y_hat})\n",
    "\n",
    "species_df"
   ]
  },
  {
   "cell_type": "code",
   "execution_count": 84,
   "metadata": {
    "collapsed": false
   },
   "outputs": [
    {
     "data": {
      "text/html": [
       "<div>\n",
       "<table border=\"1\" class=\"dataframe\">\n",
       "  <thead>\n",
       "    <tr style=\"text-align: right;\">\n",
       "      <th></th>\n",
       "      <th>Observed</th>\n",
       "      <th>Predicted</th>\n",
       "    </tr>\n",
       "  </thead>\n",
       "  <tbody>\n",
       "    <tr>\n",
       "      <th>70</th>\n",
       "      <td>Versicolor</td>\n",
       "      <td>Virginica</td>\n",
       "    </tr>\n",
       "    <tr>\n",
       "      <th>72</th>\n",
       "      <td>Versicolor</td>\n",
       "      <td>Virginica</td>\n",
       "    </tr>\n",
       "    <tr>\n",
       "      <th>83</th>\n",
       "      <td>Versicolor</td>\n",
       "      <td>Virginica</td>\n",
       "    </tr>\n",
       "    <tr>\n",
       "      <th>106</th>\n",
       "      <td>Virginica</td>\n",
       "      <td>Versicolor</td>\n",
       "    </tr>\n",
       "    <tr>\n",
       "      <th>119</th>\n",
       "      <td>Virginica</td>\n",
       "      <td>Versicolor</td>\n",
       "    </tr>\n",
       "  </tbody>\n",
       "</table>\n",
       "</div>"
      ],
      "text/plain": [
       "       Observed   Predicted\n",
       "70   Versicolor   Virginica\n",
       "72   Versicolor   Virginica\n",
       "83   Versicolor   Virginica\n",
       "106   Virginica  Versicolor\n",
       "119   Virginica  Versicolor"
      ]
     },
     "execution_count": 84,
     "metadata": {},
     "output_type": "execute_result"
    }
   ],
   "source": [
    "species_df[species_df.Predicted != species_df.Observed]"
   ]
  },
  {
   "cell_type": "code",
   "execution_count": 85,
   "metadata": {
    "collapsed": false
   },
   "outputs": [
    {
     "data": {
      "text/plain": [
       "5"
      ]
     },
     "execution_count": 85,
     "metadata": {},
     "output_type": "execute_result"
    }
   ],
   "source": [
    "sum(species_df.Predicted != species_df.Observed)"
   ]
  },
  {
   "cell_type": "markdown",
   "metadata": {},
   "source": [
    "You can measure the precision of your prediction either manually or with `.score()`"
   ]
  },
  {
   "cell_type": "code",
   "execution_count": 86,
   "metadata": {
    "collapsed": false
   },
   "outputs": [
    {
     "data": {
      "text/plain": [
       "0.9666666666666667"
      ]
     },
     "execution_count": 86,
     "metadata": {},
     "output_type": "execute_result"
    }
   ],
   "source": [
    "(species_df.Predicted == species_df.Observed).mean()"
   ]
  },
  {
   "cell_type": "code",
   "execution_count": 87,
   "metadata": {
    "collapsed": false
   },
   "outputs": [
    {
     "data": {
      "text/plain": [
       "0.96666666666666667"
      ]
     },
     "execution_count": 87,
     "metadata": {},
     "output_type": "execute_result"
    }
   ],
   "source": [
    "model.score(X, y)"
   ]
  },
  {
   "cell_type": "markdown",
   "metadata": {},
   "source": [
    "# weights = 'uniform'"
   ]
  },
  {
   "cell_type": "code",
   "execution_count": 88,
   "metadata": {
    "collapsed": false
   },
   "outputs": [
    {
     "data": {
      "text/plain": [
       "0.96666666666666667"
      ]
     },
     "execution_count": 88,
     "metadata": {},
     "output_type": "execute_result"
    }
   ],
   "source": [
    "neighbors.KNeighborsClassifier(n_neighbors = 5, weights = 'uniform').fit(X, y).score(X, y)"
   ]
  },
  {
   "cell_type": "markdown",
   "metadata": {},
   "source": [
    "# weights = 'distance'"
   ]
  },
  {
   "cell_type": "code",
   "execution_count": 89,
   "metadata": {
    "collapsed": false
   },
   "outputs": [
    {
     "data": {
      "text/plain": [
       "1.0"
      ]
     },
     "execution_count": 89,
     "metadata": {},
     "output_type": "execute_result"
    }
   ],
   "source": [
    "neighbors.KNeighborsClassifier(n_neighbors = 5, weights = 'distance').fit(X, y).score(X, y)"
   ]
  },
  {
   "cell_type": "markdown",
   "metadata": {},
   "source": [
    "## Part F - What is the best value for `k`?"
   ]
  },
  {
   "cell_type": "code",
   "execution_count": 90,
   "metadata": {
    "collapsed": false
   },
   "outputs": [],
   "source": [
    "k = range(1, len(df))\n",
    "\n",
    "score_df = pd.DataFrame({'k': k})\n",
    "\n",
    "models = score_df.\\\n",
    "    apply(lambda row: neighbors.KNeighborsClassifier(n_neighbors = row['k']).fit(X, y), axis = 1)\n",
    "\n",
    "models\n",
    "\n",
    "score_df['Score'] = models.map(lambda model: model.score(X, y))"
   ]
  },
  {
   "cell_type": "code",
   "execution_count": 91,
   "metadata": {
    "collapsed": false
   },
   "outputs": [
    {
     "data": {
      "text/html": [
       "<div>\n",
       "<table border=\"1\" class=\"dataframe\">\n",
       "  <thead>\n",
       "    <tr style=\"text-align: right;\">\n",
       "      <th></th>\n",
       "      <th>k</th>\n",
       "      <th>Score</th>\n",
       "    </tr>\n",
       "  </thead>\n",
       "  <tbody>\n",
       "    <tr>\n",
       "      <th>0</th>\n",
       "      <td>1</td>\n",
       "      <td>1.000000</td>\n",
       "    </tr>\n",
       "    <tr>\n",
       "      <th>1</th>\n",
       "      <td>2</td>\n",
       "      <td>0.980000</td>\n",
       "    </tr>\n",
       "    <tr>\n",
       "      <th>2</th>\n",
       "      <td>3</td>\n",
       "      <td>0.960000</td>\n",
       "    </tr>\n",
       "    <tr>\n",
       "      <th>3</th>\n",
       "      <td>4</td>\n",
       "      <td>0.960000</td>\n",
       "    </tr>\n",
       "    <tr>\n",
       "      <th>4</th>\n",
       "      <td>5</td>\n",
       "      <td>0.966667</td>\n",
       "    </tr>\n",
       "    <tr>\n",
       "      <th>...</th>\n",
       "      <td>...</td>\n",
       "      <td>...</td>\n",
       "    </tr>\n",
       "    <tr>\n",
       "      <th>144</th>\n",
       "      <td>145</td>\n",
       "      <td>0.600000</td>\n",
       "    </tr>\n",
       "    <tr>\n",
       "      <th>145</th>\n",
       "      <td>146</td>\n",
       "      <td>0.580000</td>\n",
       "    </tr>\n",
       "    <tr>\n",
       "      <th>146</th>\n",
       "      <td>147</td>\n",
       "      <td>0.580000</td>\n",
       "    </tr>\n",
       "    <tr>\n",
       "      <th>147</th>\n",
       "      <td>148</td>\n",
       "      <td>0.560000</td>\n",
       "    </tr>\n",
       "    <tr>\n",
       "      <th>148</th>\n",
       "      <td>149</td>\n",
       "      <td>0.546667</td>\n",
       "    </tr>\n",
       "  </tbody>\n",
       "</table>\n",
       "<p>149 rows × 2 columns</p>\n",
       "</div>"
      ],
      "text/plain": [
       "       k     Score\n",
       "0      1  1.000000\n",
       "1      2  0.980000\n",
       "2      3  0.960000\n",
       "3      4  0.960000\n",
       "4      5  0.966667\n",
       "..   ...       ...\n",
       "144  145  0.600000\n",
       "145  146  0.580000\n",
       "146  147  0.580000\n",
       "147  148  0.560000\n",
       "148  149  0.546667\n",
       "\n",
       "[149 rows x 2 columns]"
      ]
     },
     "execution_count": 91,
     "metadata": {},
     "output_type": "execute_result"
    }
   ],
   "source": [
    "score_df"
   ]
  },
  {
   "cell_type": "code",
   "execution_count": 92,
   "metadata": {
    "collapsed": false
   },
   "outputs": [
    {
     "data": {
      "text/plain": [
       "[<matplotlib.lines.Line2D at 0x1204ed490>]"
      ]
     },
     "execution_count": 92,
     "metadata": {},
     "output_type": "execute_result"
    },
    {
     "data": {
      "image/png": "iVBORw0KGgoAAAANSUhEUgAAAX4AAAEECAYAAAAvY19bAAAABHNCSVQICAgIfAhkiAAAAAlwSFlz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\nVPwiIglGxS8ikmD+Px6IbDqpwWNbAAAAAElFTkSuQmCC\n",
      "text/plain": [
       "<matplotlib.figure.Figure at 0x11f2da710>"
      ]
     },
     "metadata": {},
     "output_type": "display_data"
    }
   ],
   "source": [
    "plt.plot(score_df.k, score_df.Score)"
   ]
  },
  {
   "cell_type": "markdown",
   "metadata": {},
   "source": [
    "## Part G - Validation"
   ]
  },
  {
   "cell_type": "markdown",
   "metadata": {},
   "source": [
    "60% of the dataset to train the model; the rest to test the model"
   ]
  },
  {
   "cell_type": "code",
   "execution_count": null,
   "metadata": {
    "collapsed": false
   },
   "outputs": [],
   "source": [
    "train_df = df.sample(frac = .6, random_state = 0).sort()"
   ]
  },
  {
   "cell_type": "code",
   "execution_count": null,
   "metadata": {
    "collapsed": false
   },
   "outputs": [],
   "source": [
    "train_df"
   ]
  },
  {
   "cell_type": "code",
   "execution_count": null,
   "metadata": {
    "collapsed": false
   },
   "outputs": [],
   "source": [
    "test_df = df.drop(train_df.index)"
   ]
  },
  {
   "cell_type": "code",
   "execution_count": null,
   "metadata": {
    "collapsed": false
   },
   "outputs": [],
   "source": [
    "test_df"
   ]
  },
  {
   "cell_type": "markdown",
   "metadata": {},
   "source": [
    "The error in the training set is less than the error is the test set"
   ]
  },
  {
   "cell_type": "code",
   "execution_count": null,
   "metadata": {
    "collapsed": false
   },
   "outputs": [],
   "source": [
    "train_X = train_df[ ['SepalLength', 'SepalWidth', 'PetalLength', 'PetalWidth'] ]\n",
    "train_y = train_df.Species\n",
    "\n",
    "model = neighbors.KNeighborsClassifier(n_neighbors = 5, weights = 'uniform')\n",
    "model.fit(train_X, train_y)\n",
    "print 'train = ', model.score(train_X, train_y)\n",
    "\n",
    "test_X = test_df[ ['SepalLength', 'SepalWidth', 'PetalLength', 'PetalWidth'] ]\n",
    "test_y = test_df.Species\n",
    "\n",
    "print 'test  = ', model.score(test_X, test_y)"
   ]
  },
  {
   "cell_type": "code",
   "execution_count": null,
   "metadata": {
    "collapsed": false
   },
   "outputs": [],
   "source": [
    "k = range(1, len(train_df))\n",
    "\n",
    "score_df = pd.DataFrame({'k': k})\n",
    "\n",
    "models = score_df.\\\n",
    "    apply(lambda row: neighbors.KNeighborsClassifier(n_neighbors = row['k']).fit(train_X, train_y), axis = 1)\n",
    "\n",
    "score_df['TrainScore'] = models.apply(lambda model: model.score(train_X, train_y))\n",
    "score_df['TestScore'] = models.apply(lambda model: model.score(test_X, test_y))"
   ]
  },
  {
   "cell_type": "code",
   "execution_count": null,
   "metadata": {
    "collapsed": false
   },
   "outputs": [],
   "source": [
    "score_df"
   ]
  },
  {
   "cell_type": "code",
   "execution_count": null,
   "metadata": {
    "collapsed": false
   },
   "outputs": [],
   "source": [
    "score_df.set_index('k').plot()"
   ]
  },
  {
   "cell_type": "markdown",
   "metadata": {},
   "source": [
    "## Part H - Cross-Validation"
   ]
  },
  {
   "cell_type": "code",
   "execution_count": null,
   "metadata": {
    "collapsed": false
   },
   "outputs": [],
   "source": [
    "len(train_df)"
   ]
  },
  {
   "cell_type": "code",
   "execution_count": null,
   "metadata": {
    "collapsed": false
   },
   "outputs": [],
   "source": [
    "k_cv = 5 # 5-fold CV\n",
    "k_nn = range(1, len(train_df) * (k_cv - 1) / k_cv) # k-NN\n",
    "\n",
    "gs = grid_search.GridSearchCV(\n",
    "    estimator = neighbors.KNeighborsClassifier(),\n",
    "    param_grid = {'n_neighbors': k_nn},\n",
    "    cv = cross_validation.KFold(len(train_df), n_folds = k_cv)\n",
    ")\n",
    "\n",
    "gs.fit(train_X, train_y)\n",
    "\n",
    "score_df = pd.DataFrame({'k': [score.parameters['n_neighbors'] for score in gs.grid_scores_],\n",
    "    'Score': [score.mean_validation_score for score in gs.grid_scores_]})\n",
    "\n",
    "score_df"
   ]
  },
  {
   "cell_type": "code",
   "execution_count": null,
   "metadata": {
    "collapsed": false
   },
   "outputs": [],
   "source": [
    "plt.plot(score_df.k, score_df.Score)"
   ]
  },
  {
   "cell_type": "code",
   "execution_count": null,
   "metadata": {
    "collapsed": false
   },
   "outputs": [],
   "source": [
    "score_df[score_df.Score == score_df.Score.max()]"
   ]
  },
  {
   "cell_type": "code",
   "execution_count": null,
   "metadata": {
    "collapsed": false
   },
   "outputs": [],
   "source": [
    "score_df[score_df.Score == score_df.Score.min()]"
   ]
  },
  {
   "cell_type": "code",
   "execution_count": null,
   "metadata": {
    "collapsed": false
   },
   "outputs": [],
   "source": [
    "gs.score(test_X, test_y)"
   ]
  }
 ],
 "metadata": {
  "kernelspec": {
   "display_name": "Python 2",
   "language": "python",
   "name": "python2"
  },
  "language_info": {
   "codemirror_mode": {
    "name": "ipython",
    "version": 2
   },
   "file_extension": ".py",
   "mimetype": "text/x-python",
   "name": "python",
   "nbconvert_exporter": "python",
   "pygments_lexer": "ipython2",
   "version": "2.7.11"
  }
 },
 "nbformat": 4,
 "nbformat_minor": 0
}
